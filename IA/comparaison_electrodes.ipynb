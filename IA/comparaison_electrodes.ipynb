{
 "cells": [
  {
   "cell_type": "markdown",
   "metadata": {
    "id": "wbFSWLy_VLFs"
   },
   "source": [
    "# I) Importation de toutes les bibliothèques importantes"
   ]
  },
  {
   "cell_type": "code",
   "execution_count": 1,
   "metadata": {
    "executionInfo": {
     "elapsed": 779,
     "status": "ok",
     "timestamp": 1616145390809,
     "user": {
      "displayName": "Roman BESSOUAT",
      "photoUrl": "",
      "userId": "10093471608362288592"
     },
     "user_tz": -60
    },
    "id": "gQW3uS5fU1oT"
   },
   "outputs": [
    {
     "name": "stderr",
     "output_type": "stream",
     "text": [
      "C:\\Users\\Utilisateur\\Anaconda3\\envs\\deeplearning\\lib\\site-packages\\statsmodels\\tools\\_testing.py:19: FutureWarning: pandas.util.testing is deprecated. Use the functions in the public API at pandas.testing instead.\n",
      "  import pandas.util.testing as tm\n",
      "Using TensorFlow backend.\n"
     ]
    }
   ],
   "source": [
    "import cv2\n",
    "import os\n",
    "import glob\n",
    "import matplotlib.pyplot as plt\n",
    "import numpy as np\n",
    "import seaborn as sns\n",
    "import pandas as pd\n",
    "\n",
    "import random\n",
    "\n",
    "# Deep Learning\n",
    "import keras\n",
    "import tensorflow as tf\n",
    "from keras.models import Sequential\n",
    "from keras.layers import Dense,  SeparableConv2D, Conv2D , MaxPool2D , Flatten , Dropout , BatchNormalization, Activation\n",
    "from keras.preprocessing.image import ImageDataGenerator\n",
    "from sklearn.model_selection import train_test_split\n",
    "from sklearn.metrics import classification_report,confusion_matrix\n",
    "from keras.callbacks import ReduceLROnPlateau\n",
    "import cv2\n",
    "\n",
    "from keras.preprocessing.image import ImageDataGenerator"
   ]
  },
  {
   "cell_type": "markdown",
   "metadata": {
    "id": "BeVrdgIiVRQw"
   },
   "source": [
    "# II) Création des variables utiles"
   ]
  },
  {
   "cell_type": "code",
   "execution_count": 2,
   "metadata": {
    "executionInfo": {
     "elapsed": 1157,
     "status": "ok",
     "timestamp": 1616145393623,
     "user": {
      "displayName": "Roman BESSOUAT",
      "photoUrl": "",
      "userId": "10093471608362288592"
     },
     "user_tz": -60
    },
    "id": "ONwuGR88VZNU"
   },
   "outputs": [],
   "source": [
    "labels = [\"1\" , \"2\" , \"3\" , \"4\"]\n",
    "electrodes = [\"C3\" , \"C4\" , \"Cz\"]\n",
    "\n",
    "racine_scalo = \"/content/drive/MyDrive/Projet_E4_Interface_Cerveau_Machine/Bases de données EEG/Bases de données/bdd_scalo\"\n",
    "racine_spectro = \"/content/drive/MyDrive/Projet_E4_Interface_Cerveau_Machine/Bases de données EEG/Bases de données/bdd_spectro\""
   ]
  },
  {
   "cell_type": "markdown",
   "metadata": {
    "id": "yNdGrCEIW_63"
   },
   "source": [
    "# III) Ecriture des différentes fonctions utiles"
   ]
  },
  {
   "cell_type": "code",
   "execution_count": 15,
   "metadata": {
    "executionInfo": {
     "elapsed": 414,
     "status": "ok",
     "timestamp": 1616145394446,
     "user": {
      "displayName": "Roman BESSOUAT",
      "photoUrl": "",
      "userId": "10093471608362288592"
     },
     "user_tz": -60
    },
    "id": "HJjxmO0gWm1B"
   },
   "outputs": [],
   "source": [
    "#fonction qui marche, import les données\n",
    "\n",
    "def import_data(nom_electrode, racine) :\n",
    "  data = []\n",
    "  for j in range(len(labels)) :\n",
    "    #on trouve les chemins vers les données scalo et spectro\n",
    "    path_img_scalo = racine + \"/\" + labels[j] + \"/\" + nom_electrode + \"/\"\n",
    "    #on récupère la liste des chemins pour les images scalo et spectro\n",
    "    list_scalo = glob.glob(path_img_scalo + '*png' ) \n",
    "    #on enregistre chaque image à sa place \n",
    "    for l in range(len(list_scalo)) :\n",
    "        #scalo\n",
    "        img_scalo = cv2.imread(list_scalo[l])\n",
    "        #spectro\n",
    "        data.append([img_scalo, labels[j]])\n",
    "  return data"
   ]
  },
  {
   "cell_type": "code",
   "execution_count": 16,
   "metadata": {
    "executionInfo": {
     "elapsed": 356,
     "status": "ok",
     "timestamp": 1616145395317,
     "user": {
      "displayName": "Roman BESSOUAT",
      "photoUrl": "",
      "userId": "10093471608362288592"
     },
     "user_tz": -60
    },
    "id": "WSOMBegyYoWO"
   },
   "outputs": [],
   "source": [
    "def separation_data(data):\n",
    "  X = []\n",
    "  y = []\n",
    "\n",
    "  for i in range(len(data)):\n",
    "    X.append(data[i][0])\n",
    "    y.append(int(data[i][1]))\n",
    "\n",
    "  random.seed(4)\n",
    "  random.shuffle(X)\n",
    "  random.shuffle(y)\n",
    "\n",
    "  n = int(len(X) * 0.8)\n",
    "  n_ = int(len(X)-5)\n",
    "  X_train = X[:n]\n",
    "  X_test = X[n:n_]\n",
    "  X_val = X[n_:]\n",
    "\n",
    "  y_train = y[:n]\n",
    "  y_test = y[n:n_]\n",
    "  y_val = y[n_:]\n",
    "\n",
    "  def normalize_image(img_set):\n",
    "    img_set = np.array(img_set)/255\n",
    "    return img_set\n",
    "  X_train = normalize_image(X_train)\n",
    "  X_val = normalize_image(X_val)\n",
    "  X_test = normalize_image(X_test)\n",
    "\n",
    "  X_train = np.array(X_train)\n",
    "  X_test = np.array(X_test)\n",
    "  X_val = np.array(X_val)\n",
    "\n",
    "  y_train = np.array(y_train)\n",
    "  y_test = np.array(y_test)\n",
    "  y_val = np.array(y_val)\n",
    "\n",
    "  return X_train, X_test, X_val, y_train, y_test, y_val"
   ]
  },
  {
   "cell_type": "code",
   "execution_count": 17,
   "metadata": {
    "executionInfo": {
     "elapsed": 466,
     "status": "ok",
     "timestamp": 1616145397039,
     "user": {
      "displayName": "Roman BESSOUAT",
      "photoUrl": "",
      "userId": "10093471608362288592"
     },
     "user_tz": -60
    },
    "id": "x9KmV5tXZ9dS"
   },
   "outputs": [],
   "source": [
    "def creation_model(input_shape) :\n",
    "  model_1 = Sequential()\n",
    "\n",
    "  model_1.add(Conv2D(8, (3,3), input_shape = input_shape[1:]))\n",
    "  model_1.add(Activation(\"relu\"))\n",
    "  model_1.add(MaxPool2D(pool_size=(2, 2)))\n",
    "  model_1.add(Dropout(0.2))\n",
    "\n",
    "  model_1.add(Conv2D(16, (3,3), input_shape = input_shape[1:]))\n",
    "  model_1.add(Activation(\"relu\"))\n",
    "  model_1.add(MaxPool2D(pool_size=(2, 2)))\n",
    "  model_1.add(Dropout(0.2))\n",
    "\n",
    "  model_1.add(Conv2D(32, (3,3)))\n",
    "  model_1.add(Activation(\"relu\"))\n",
    "  model_1.add(MaxPool2D(pool_size=(2, 2)))\n",
    "  model_1.add(Dropout(0.2))\n",
    "\n",
    "  model_1.add(Flatten())\n",
    "  model_1.add(Dense(32))\n",
    "  model_1.add(Activation(\"relu\"))\n",
    "  model_1.add(Dropout(0.5))\n",
    "  model_1.add(Dense(1))\n",
    "  model_1.add(Activation(\"softmax\"))\n",
    "\n",
    "  return model_1"
   ]
  },
  {
   "cell_type": "code",
   "execution_count": 18,
   "metadata": {
    "executionInfo": {
     "elapsed": 574,
     "status": "ok",
     "timestamp": 1616145397802,
     "user": {
      "displayName": "Roman BESSOUAT",
      "photoUrl": "",
      "userId": "10093471608362288592"
     },
     "user_tz": -60
    },
    "id": "thFVqtxVaYUg"
   },
   "outputs": [],
   "source": [
    "def fit_model(model, epochs, batch_size, steps, X_train, X_val, y_train, y_val):\n",
    "  import gc\n",
    "  gc.collect()\n",
    "\n",
    "  datagen = ImageDataGenerator( shear_range=0.2, zoom_range=0.2, horizontal_flip=True) #on ne rescale pas car on l'a déja fait avant (normalisation des données : /255)\n",
    "\n",
    "  datagen.fit(X_train)\n",
    "  # fits the model on batches with real-time data augmentation:\n",
    "  history = model.fit(datagen.flow(X_train, y_train, batch_size=32),\n",
    "          steps_per_epoch= steps, \n",
    "          epochs=epochs,\n",
    "          validation_data = (X_val, y_val))\n",
    "  return history"
   ]
  },
  {
   "cell_type": "markdown",
   "metadata": {
    "id": "AWQkhgVuamvM"
   },
   "source": [
    "# Test de bouclage sur les electrodes pour voir l'efficacité du réseau en fonction du réseau"
   ]
  },
  {
   "cell_type": "markdown",
   "metadata": {
    "id": "BW9qOmsgas4T"
   },
   "source": [
    "**Problème de RAM, la session plante...**"
   ]
  },
  {
   "cell_type": "code",
   "execution_count": null,
   "metadata": {
    "colab": {
     "base_uri": "https://localhost:8080/"
    },
    "id": "zuHNk5mfVvj2",
    "outputId": "d0161ed7-c480-4422-d077-8c282208dfae"
   },
   "outputs": [
    {
     "name": "stdout",
     "output_type": "stream",
     "text": [
      "Epoch 1/10\n",
      "10/10 [==============================] - 49s 2s/step - loss: -150.7686 - accuracy: 0.1890 - val_loss: -5465.4258 - val_accuracy: 0.0000e+00\n",
      "Epoch 2/10\n",
      "10/10 [==============================] - 17s 2s/step - loss: -12086.6394 - accuracy: 0.2849 - val_loss: -143885.7188 - val_accuracy: 0.0000e+00\n",
      "Epoch 3/10\n",
      "10/10 [==============================] - 17s 2s/step - loss: -171602.1818 - accuracy: 0.2185 - val_loss: -1305892.0000 - val_accuracy: 0.0000e+00\n",
      "Epoch 4/10\n",
      "10/10 [==============================] - 17s 2s/step - loss: -1249542.9943 - accuracy: 0.2635 - val_loss: -6917821.0000 - val_accuracy: 0.0000e+00\n",
      "Epoch 5/10\n",
      "10/10 [==============================] - 17s 2s/step - loss: -5919661.6364 - accuracy: 0.2506 - val_loss: -26662548.0000 - val_accuracy: 0.0000e+00\n",
      "Epoch 6/10\n",
      "10/10 [==============================] - 17s 2s/step - loss: -21133936.6364 - accuracy: 0.2522 - val_loss: -83306992.0000 - val_accuracy: 0.0000e+00\n",
      "Epoch 7/10\n",
      "10/10 [==============================] - 17s 2s/step - loss: -66246204.3636 - accuracy: 0.2793 - val_loss: -221252912.0000 - val_accuracy: 0.0000e+00\n",
      "Epoch 8/10\n",
      "10/10 [==============================] - 17s 2s/step - loss: -163798777.4545 - accuracy: 0.2448 - val_loss: -515922432.0000 - val_accuracy: 0.0000e+00\n",
      "Epoch 9/10\n",
      "10/10 [==============================] - 17s 2s/step - loss: -390539255.2727 - accuracy: 0.1991 - val_loss: -1090766592.0000 - val_accuracy: 0.0000e+00\n",
      "Epoch 10/10\n",
      "10/10 [==============================] - 17s 2s/step - loss: -755437250.9091 - accuracy: 0.2778 - val_loss: -2141355648.0000 - val_accuracy: 0.0000e+00\n",
      "<tensorflow.python.keras.callbacks.History object at 0x7f14848f7350>\n"
     ]
    }
   ],
   "source": [
    "historys = []\n",
    "\n",
    "for i in electrodes :\n",
    "  data = import_data(i)\n",
    "  X_train, X_test, X_val, y_train, y_test, y_val = separation_data(data)\n",
    "  model = creation_model(np.shape(X_train))\n",
    "  model.compile(loss= \"binary_crossentropy\", optimizer=\"adam\", metrics=[\"accuracy\"])\n",
    "  epochs = 10\n",
    "  batch_size = int(len(X_train)/ 6)\n",
    "  steps = int(len(X_train) / 32)\n",
    "  history = fit_model(model, epochs, batch_size, steps, X_train, X_val, y_train, y_val)\n",
    "  historys.append(history)\n",
    "  print(history)"
   ]
  },
  {
   "cell_type": "markdown",
   "metadata": {
    "id": "2cudmfXvay9P"
   },
   "source": [
    "# Entrainement d'un réseau sur l'électrode C3 pour les spectro et les scalogrammes"
   ]
  },
  {
   "cell_type": "code",
   "execution_count": 8,
   "metadata": {
    "executionInfo": {
     "elapsed": 527,
     "status": "ok",
     "timestamp": 1616144910779,
     "user": {
      "displayName": "Roman BESSOUAT",
      "photoUrl": "",
      "userId": "10093471608362288592"
     },
     "user_tz": -60
    },
    "id": "KLLyadCXZ-RF"
   },
   "outputs": [],
   "source": [
    "def importation_entrainement(electrode, racine) :\n",
    "  data = import_data(electrode, racine)\n",
    "  X_train, X_test, X_val, y_train, y_test, y_val = separation_data(data)\n",
    "  model = creation_model(np.shape(X_train))\n",
    "  model.compile(loss= \"binary_crossentropy\", optimizer=\"adam\", metrics=[\"accuracy\"])\n",
    "  epochs = 5\n",
    "  batch_size = int(len(X_train)/ 6)\n",
    "  steps = int(len(X_train) / 32)\n",
    "  history = fit_model(model, epochs, batch_size, steps, X_train, X_val, y_train, y_val)\n",
    "  return history"
   ]
  },
  {
   "cell_type": "markdown",
   "metadata": {
    "id": "GyNqxmpRhbby"
   },
   "source": [
    "**Electrode C3 : test sur les scalogrammes**"
   ]
  },
  {
   "cell_type": "code",
   "execution_count": 9,
   "metadata": {
    "colab": {
     "base_uri": "https://localhost:8080/"
    },
    "executionInfo": {
     "elapsed": 137935,
     "status": "ok",
     "timestamp": 1616144372967,
     "user": {
      "displayName": "Roman BESSOUAT",
      "photoUrl": "",
      "userId": "10093471608362288592"
     },
     "user_tz": -60
    },
    "id": "YlG9SJ-Oai3K",
    "outputId": "e2f77ffa-8ee6-4669-aabe-6cd6f64eb958"
   },
   "outputs": [
    {
     "name": "stdout",
     "output_type": "stream",
     "text": [
      "Epoch 1/5\n",
      "10/10 [==============================] - 49s 2s/step - loss: -188.8263 - accuracy: 0.2458 - val_loss: -1340.3792 - val_accuracy: 0.0000e+00\n",
      "Epoch 2/5\n",
      "10/10 [==============================] - 17s 2s/step - loss: -3157.9348 - accuracy: 0.2326 - val_loss: -13440.3906 - val_accuracy: 0.0000e+00\n",
      "Epoch 3/5\n",
      "10/10 [==============================] - 17s 2s/step - loss: -20107.2346 - accuracy: 0.2422 - val_loss: -72810.1641 - val_accuracy: 0.0000e+00\n",
      "Epoch 4/5\n",
      "10/10 [==============================] - 17s 2s/step - loss: -87037.9975 - accuracy: 0.2332 - val_loss: -296877.1875 - val_accuracy: 0.0000e+00\n",
      "Epoch 5/5\n",
      "10/10 [==============================] - 16s 2s/step - loss: -304259.1634 - accuracy: 0.2420 - val_loss: -1039263.8125 - val_accuracy: 0.0000e+00\n"
     ]
    }
   ],
   "source": [
    "test_1 = importation_entrainement(electrodes[0], racine_scalo)"
   ]
  },
  {
   "cell_type": "code",
   "execution_count": 10,
   "metadata": {
    "executionInfo": {
     "elapsed": 5657,
     "status": "ok",
     "timestamp": 1616144381814,
     "user": {
      "displayName": "Roman BESSOUAT",
      "photoUrl": "",
      "userId": "10093471608362288592"
     },
     "user_tz": -60
    },
    "id": "nlPb4jbprZfR"
   },
   "outputs": [],
   "source": [
    "data_scalo = import_data(electrodes[0], racine_scalo)\n",
    "X_train1, X_test1, X_val1, y_train1, y_test1, y_val1 = separation_data(data_scalo)"
   ]
  },
  {
   "cell_type": "code",
   "execution_count": 11,
   "metadata": {
    "colab": {
     "base_uri": "https://localhost:8080/"
    },
    "executionInfo": {
     "elapsed": 5442,
     "status": "ok",
     "timestamp": 1616144382467,
     "user": {
      "displayName": "Roman BESSOUAT",
      "photoUrl": "",
      "userId": "10093471608362288592"
     },
     "user_tz": -60
    },
    "id": "72OuFhkWqKKu",
    "outputId": "408242ca-728c-4a00-bdbf-79f8f689aabc"
   },
   "outputs": [
    {
     "data": {
      "text/plain": [
       "array([[1.],\n",
       "       [1.],\n",
       "       [1.],\n",
       "       [1.],\n",
       "       [1.],\n",
       "       [1.],\n",
       "       [1.],\n",
       "       [1.],\n",
       "       [1.],\n",
       "       [1.],\n",
       "       [1.],\n",
       "       [1.],\n",
       "       [1.],\n",
       "       [1.],\n",
       "       [1.],\n",
       "       [1.],\n",
       "       [1.],\n",
       "       [1.],\n",
       "       [1.],\n",
       "       [1.],\n",
       "       [1.],\n",
       "       [1.],\n",
       "       [1.],\n",
       "       [1.],\n",
       "       [1.],\n",
       "       [1.],\n",
       "       [1.],\n",
       "       [1.],\n",
       "       [1.],\n",
       "       [1.],\n",
       "       [1.],\n",
       "       [1.],\n",
       "       [1.],\n",
       "       [1.],\n",
       "       [1.],\n",
       "       [1.],\n",
       "       [1.],\n",
       "       [1.],\n",
       "       [1.],\n",
       "       [1.],\n",
       "       [1.],\n",
       "       [1.],\n",
       "       [1.],\n",
       "       [1.],\n",
       "       [1.],\n",
       "       [1.],\n",
       "       [1.],\n",
       "       [1.],\n",
       "       [1.],\n",
       "       [1.],\n",
       "       [1.],\n",
       "       [1.],\n",
       "       [1.],\n",
       "       [1.],\n",
       "       [1.],\n",
       "       [1.],\n",
       "       [1.],\n",
       "       [1.],\n",
       "       [1.],\n",
       "       [1.],\n",
       "       [1.],\n",
       "       [1.],\n",
       "       [1.],\n",
       "       [1.],\n",
       "       [1.],\n",
       "       [1.],\n",
       "       [1.],\n",
       "       [1.],\n",
       "       [1.],\n",
       "       [1.],\n",
       "       [1.],\n",
       "       [1.],\n",
       "       [1.],\n",
       "       [1.],\n",
       "       [1.],\n",
       "       [1.],\n",
       "       [1.]], dtype=float32)"
      ]
     },
     "execution_count": 11,
     "metadata": {
      "tags": []
     },
     "output_type": "execute_result"
    }
   ],
   "source": [
    "test_1.model.predict(X_test1)"
   ]
  },
  {
   "cell_type": "markdown",
   "metadata": {
    "id": "ozp6zqrZwhBa"
   },
   "source": [
    "**Electrode C3 : test sur les spectrogrammes**"
   ]
  },
  {
   "cell_type": "code",
   "execution_count": 9,
   "metadata": {
    "colab": {
     "base_uri": "https://localhost:8080/"
    },
    "executionInfo": {
     "elapsed": 134809,
     "status": "ok",
     "timestamp": 1616145054478,
     "user": {
      "displayName": "Roman BESSOUAT",
      "photoUrl": "",
      "userId": "10093471608362288592"
     },
     "user_tz": -60
    },
    "id": "jADtz2c1hm6o",
    "outputId": "f48f680b-6a1f-47a0-c0b2-a453727e513e"
   },
   "outputs": [
    {
     "name": "stdout",
     "output_type": "stream",
     "text": [
      "Epoch 1/5\n",
      "10/10 [==============================] - 49s 2s/step - loss: -521.5488 - accuracy: 0.2447 - val_loss: -3687.4995 - val_accuracy: 0.0000e+00\n",
      "Epoch 2/5\n",
      "10/10 [==============================] - 17s 2s/step - loss: -7260.1995 - accuracy: 0.2537 - val_loss: -31190.3652 - val_accuracy: 0.0000e+00\n",
      "Epoch 3/5\n",
      "10/10 [==============================] - 16s 2s/step - loss: -47505.8771 - accuracy: 0.2397 - val_loss: -178041.7188 - val_accuracy: 0.0000e+00\n",
      "Epoch 4/5\n",
      "10/10 [==============================] - 16s 2s/step - loss: -203287.1420 - accuracy: 0.2468 - val_loss: -776237.3750 - val_accuracy: 0.0000e+00\n",
      "Epoch 5/5\n",
      "10/10 [==============================] - 17s 2s/step - loss: -830794.7045 - accuracy: 0.2277 - val_loss: -2685469.7500 - val_accuracy: 0.0000e+00\n"
     ]
    }
   ],
   "source": [
    "test_2 = importation_entrainement(electrodes[0], racine_spectro)"
   ]
  },
  {
   "cell_type": "code",
   "execution_count": 10,
   "metadata": {
    "executionInfo": {
     "elapsed": 137602,
     "status": "ok",
     "timestamp": 1616145059674,
     "user": {
      "displayName": "Roman BESSOUAT",
      "photoUrl": "",
      "userId": "10093471608362288592"
     },
     "user_tz": -60
    },
    "id": "vS_G_6IFttC-"
   },
   "outputs": [],
   "source": [
    "data_spectro = import_data(electrodes[0], racine_spectro)\n",
    "X_train2, X_test2, X_val2, y_train2, y_test2, y_val2 = separation_data(data_spectro)"
   ]
  },
  {
   "cell_type": "code",
   "execution_count": 11,
   "metadata": {
    "colab": {
     "base_uri": "https://localhost:8080/"
    },
    "executionInfo": {
     "elapsed": 136077,
     "status": "ok",
     "timestamp": 1616145060391,
     "user": {
      "displayName": "Roman BESSOUAT",
      "photoUrl": "",
      "userId": "10093471608362288592"
     },
     "user_tz": -60
    },
    "id": "CIeeMhQEt4mf",
    "outputId": "5a8da66b-64c1-48bf-f0e4-3448aff8f80e"
   },
   "outputs": [
    {
     "data": {
      "text/plain": [
       "array([[1.],\n",
       "       [1.],\n",
       "       [1.],\n",
       "       [1.],\n",
       "       [1.],\n",
       "       [1.],\n",
       "       [1.],\n",
       "       [1.],\n",
       "       [1.],\n",
       "       [1.],\n",
       "       [1.],\n",
       "       [1.],\n",
       "       [1.],\n",
       "       [1.],\n",
       "       [1.],\n",
       "       [1.],\n",
       "       [1.],\n",
       "       [1.],\n",
       "       [1.],\n",
       "       [1.],\n",
       "       [1.],\n",
       "       [1.],\n",
       "       [1.],\n",
       "       [1.],\n",
       "       [1.],\n",
       "       [1.],\n",
       "       [1.],\n",
       "       [1.],\n",
       "       [1.],\n",
       "       [1.],\n",
       "       [1.],\n",
       "       [1.],\n",
       "       [1.],\n",
       "       [1.],\n",
       "       [1.],\n",
       "       [1.],\n",
       "       [1.],\n",
       "       [1.],\n",
       "       [1.],\n",
       "       [1.],\n",
       "       [1.],\n",
       "       [1.],\n",
       "       [1.],\n",
       "       [1.],\n",
       "       [1.],\n",
       "       [1.],\n",
       "       [1.],\n",
       "       [1.],\n",
       "       [1.],\n",
       "       [1.],\n",
       "       [1.],\n",
       "       [1.],\n",
       "       [1.],\n",
       "       [1.],\n",
       "       [1.],\n",
       "       [1.],\n",
       "       [1.],\n",
       "       [1.],\n",
       "       [1.],\n",
       "       [1.],\n",
       "       [1.],\n",
       "       [1.],\n",
       "       [1.],\n",
       "       [1.],\n",
       "       [1.],\n",
       "       [1.],\n",
       "       [1.],\n",
       "       [1.],\n",
       "       [1.],\n",
       "       [1.],\n",
       "       [1.],\n",
       "       [1.],\n",
       "       [1.],\n",
       "       [1.],\n",
       "       [1.],\n",
       "       [1.],\n",
       "       [1.]], dtype=float32)"
      ]
     },
     "execution_count": 11,
     "metadata": {
      "tags": []
     },
     "output_type": "execute_result"
    }
   ],
   "source": [
    "test_2.model.predict(X_test2)"
   ]
  },
  {
   "cell_type": "code",
   "execution_count": 18,
   "metadata": {
    "executionInfo": {
     "elapsed": 454,
     "status": "ok",
     "timestamp": 1616141153761,
     "user": {
      "displayName": "Roman BESSOUAT",
      "photoUrl": "",
      "userId": "10093471608362288592"
     },
     "user_tz": -60
    },
    "id": "VHG4vA4Jf19n"
   },
   "outputs": [],
   "source": [
    "from keras.models import load_model\n",
    "test_1.model.save('C3_scal.h5')\n",
    "test_2.model.save('C3_spec.h5')\n",
    "#model = load_model('my_model.h5')"
   ]
  },
  {
   "cell_type": "markdown",
   "metadata": {
    "id": "n03Pxcyxwune"
   },
   "source": [
    "**On visualise les prédictions des deux modèles**"
   ]
  },
  {
   "cell_type": "code",
   "execution_count": 20,
   "metadata": {
    "executionInfo": {
     "elapsed": 1012,
     "status": "ok",
     "timestamp": 1616145538296,
     "user": {
      "displayName": "Roman BESSOUAT",
      "photoUrl": "",
      "userId": "10093471608362288592"
     },
     "user_tz": -60
    },
    "id": "6t2nAkQZwt9M"
   },
   "outputs": [],
   "source": [
    "model1 = keras.models.load_model('C3_scal.h5')\n",
    "model2 = keras.models.load_model('C3_spec.h5')"
   ]
  },
  {
   "cell_type": "code",
   "execution_count": null,
   "metadata": {
    "id": "nqOVpdaRxL9T"
   },
   "outputs": [],
   "source": [
    "data_scalo = import_data(electrodes[0], racine_scalo)\n",
    "X_train1, X_test1, X_val1, y_train1, y_test1, y_val1 = separation_data(data_scalo)\n",
    "\n",
    "data_spectro = import_data(electrodes[0], racine_spectro)\n",
    "X_train2, X_test2, X_val2, y_train2, y_test2, y_val2 = separation_data(data_spectro)"
   ]
  },
  {
   "cell_type": "code",
   "execution_count": 1,
   "metadata": {
    "colab": {
     "base_uri": "https://localhost:8080/",
     "height": 180
    },
    "executionInfo": {
     "elapsed": 497,
     "status": "error",
     "timestamp": 1616145692349,
     "user": {
      "displayName": "Roman BESSOUAT",
      "photoUrl": "",
      "userId": "10093471608362288592"
     },
     "user_tz": -60
    },
    "id": "NeIqH-zKw27J",
    "outputId": "3c423d9d-c162-4421-b374-8586e482f03c"
   },
   "outputs": [
    {
     "ename": "NameError",
     "evalue": "ignored",
     "output_type": "error",
     "traceback": [
      "\u001b[0;31m---------------------------------------------------------------------------\u001b[0m",
      "\u001b[0;31mNameError\u001b[0m                                 Traceback (most recent call last)",
      "\u001b[0;32m<ipython-input-1-9980796f0c98>\u001b[0m in \u001b[0;36m<module>\u001b[0;34m()\u001b[0m\n\u001b[0;32m----> 1\u001b[0;31m \u001b[0my_pred1\u001b[0m \u001b[0;34m=\u001b[0m \u001b[0mmodel1\u001b[0m\u001b[0;34m.\u001b[0m\u001b[0mpredict\u001b[0m\u001b[0;34m(\u001b[0m\u001b[0mX_test1\u001b[0m\u001b[0;34m)\u001b[0m\u001b[0;34m\u001b[0m\u001b[0;34m\u001b[0m\u001b[0m\n\u001b[0m\u001b[1;32m      2\u001b[0m \u001b[0my_pred2\u001b[0m \u001b[0;34m=\u001b[0m \u001b[0mmodel1\u001b[0m\u001b[0;34m.\u001b[0m\u001b[0mpredict\u001b[0m\u001b[0;34m(\u001b[0m\u001b[0mX_test2\u001b[0m\u001b[0;34m)\u001b[0m\u001b[0;34m\u001b[0m\u001b[0;34m\u001b[0m\u001b[0m\n",
      "\u001b[0;31mNameError\u001b[0m: name 'model1' is not defined"
     ]
    }
   ],
   "source": [
    "y_pred1 = model1.predict(X_test1)\n",
    "y_pred2 = model1.predict(X_test2)"
   ]
  },
  {
   "cell_type": "code",
   "execution_count": null,
   "metadata": {
    "id": "Ip-BAyvXyBzE"
   },
   "outputs": [],
   "source": [
    "import seaborn as sns\n",
    "\n",
    "sns.countplot(y_test1)\n",
    "sns.countplot(y_pred1)"
   ]
  },
  {
   "cell_type": "markdown",
   "metadata": {
    "id": "WVQuUj0Ijcfh"
   },
   "source": [
    "# Test de concaténation de deux modèles"
   ]
  },
  {
   "cell_type": "code",
   "execution_count": 8,
   "metadata": {
    "executionInfo": {
     "elapsed": 6700,
     "status": "ok",
     "timestamp": 1616142950208,
     "user": {
      "displayName": "Roman BESSOUAT",
      "photoUrl": "",
      "userId": "10093471608362288592"
     },
     "user_tz": -60
    },
    "id": "RcfOlJF0kojW"
   },
   "outputs": [],
   "source": [
    "model1 = keras.models.load_model('C3_scal.h5')\n",
    "model2 = keras.models.load_model('C3_spec.h5')"
   ]
  },
  {
   "cell_type": "code",
   "execution_count": 13,
   "metadata": {
    "colab": {
     "base_uri": "https://localhost:8080/"
    },
    "executionInfo": {
     "elapsed": 490,
     "status": "ok",
     "timestamp": 1616143289703,
     "user": {
      "displayName": "Roman BESSOUAT",
      "photoUrl": "",
      "userId": "10093471608362288592"
     },
     "user_tz": -60
    },
    "id": "4X9sKOvBpX2y",
    "outputId": "2d9815a0-75ff-4843-83d5-9cb2276e9223"
   },
   "outputs": [
    {
     "data": {
      "text/plain": [
       "array([1, 2, 1, 1, 2, 1, 2, 1, 1, 2, 3, 1, 2, 4, 3, 4, 3, 3, 1, 1, 1, 2,\n",
       "       1, 2, 1, 1, 4, 3, 4, 4, 3, 2, 1, 2, 4, 2, 4, 4, 1, 3, 1, 1, 4, 2,\n",
       "       3, 2, 4, 3, 4, 3, 3, 1, 2, 1, 3, 3, 3, 2, 2, 3, 3, 3, 3, 3, 4, 3,\n",
       "       2, 4, 2, 2, 2, 2, 4, 3, 2, 4, 3])"
      ]
     },
     "execution_count": 13,
     "metadata": {
      "tags": []
     },
     "output_type": "execute_result"
    }
   ],
   "source": [
    "y_test1"
   ]
  },
  {
   "cell_type": "code",
   "execution_count": 9,
   "metadata": {
    "colab": {
     "base_uri": "https://localhost:8080/",
     "height": 0
    },
    "executionInfo": {
     "elapsed": 10033,
     "status": "error",
     "timestamp": 1616142848692,
     "user": {
      "displayName": "Roman BESSOUAT",
      "photoUrl": "",
      "userId": "10093471608362288592"
     },
     "user_tz": -60
    },
    "id": "P5n0gRuChxfI",
    "outputId": "c66e8851-9fb8-486f-9dbe-328329c45f76"
   },
   "outputs": [
    {
     "name": "stdout",
     "output_type": "stream",
     "text": [
      "WARNING:tensorflow:Model was constructed with shape (None, 484, 677, 3) for input KerasTensor(type_spec=TensorSpec(shape=(None, 484, 677, 3), dtype=tf.float32, name='conv2d_input'), name='conv2d_input', description=\"created by layer 'conv2d_input'\"), but it was called on an input with incompatible shape (None, 326, 484, 677, 3).\n"
     ]
    },
    {
     "ename": "ValueError",
     "evalue": "ignored",
     "output_type": "error",
     "traceback": [
      "\u001b[0;31m---------------------------------------------------------------------------\u001b[0m",
      "\u001b[0;31mValueError\u001b[0m                                Traceback (most recent call last)",
      "\u001b[0;32m<ipython-input-9-4a19b6da5d54>\u001b[0m in \u001b[0;36m<module>\u001b[0;34m()\u001b[0m\n\u001b[1;32m      9\u001b[0m \u001b[0;34m\u001b[0m\u001b[0m\n\u001b[1;32m     10\u001b[0m \u001b[0mmodel1_in\u001b[0m \u001b[0;34m=\u001b[0m \u001b[0mInput\u001b[0m\u001b[0;34m(\u001b[0m\u001b[0mshape\u001b[0m\u001b[0;34m=\u001b[0m\u001b[0mnp\u001b[0m\u001b[0;34m.\u001b[0m\u001b[0mshape\u001b[0m\u001b[0;34m(\u001b[0m\u001b[0mX_train1\u001b[0m\u001b[0;34m)\u001b[0m\u001b[0;34m)\u001b[0m\u001b[0;34m\u001b[0m\u001b[0;34m\u001b[0m\u001b[0m\n\u001b[0;32m---> 11\u001b[0;31m \u001b[0mmodel1_out\u001b[0m \u001b[0;34m=\u001b[0m \u001b[0mmodel1\u001b[0m\u001b[0;34m(\u001b[0m\u001b[0mmodel1_in\u001b[0m\u001b[0;34m)\u001b[0m\u001b[0;34m\u001b[0m\u001b[0;34m\u001b[0m\u001b[0m\n\u001b[0m\u001b[1;32m     12\u001b[0m \u001b[0;31m#model1_final = Model(model1_in, model1_out)\u001b[0m\u001b[0;34m\u001b[0m\u001b[0;34m\u001b[0m\u001b[0;34m\u001b[0m\u001b[0m\n\u001b[1;32m     13\u001b[0m \u001b[0;34m\u001b[0m\u001b[0m\n",
      "\u001b[0;32m/usr/local/lib/python3.7/dist-packages/tensorflow/python/keras/engine/base_layer.py\u001b[0m in \u001b[0;36m__call__\u001b[0;34m(self, *args, **kwargs)\u001b[0m\n\u001b[1;32m    950\u001b[0m     \u001b[0;32mif\u001b[0m \u001b[0m_in_functional_construction_mode\u001b[0m\u001b[0;34m(\u001b[0m\u001b[0mself\u001b[0m\u001b[0;34m,\u001b[0m \u001b[0minputs\u001b[0m\u001b[0;34m,\u001b[0m \u001b[0margs\u001b[0m\u001b[0;34m,\u001b[0m \u001b[0mkwargs\u001b[0m\u001b[0;34m,\u001b[0m \u001b[0minput_list\u001b[0m\u001b[0;34m)\u001b[0m\u001b[0;34m:\u001b[0m\u001b[0;34m\u001b[0m\u001b[0;34m\u001b[0m\u001b[0m\n\u001b[1;32m    951\u001b[0m       return self._functional_construction_call(inputs, args, kwargs,\n\u001b[0;32m--> 952\u001b[0;31m                                                 input_list)\n\u001b[0m\u001b[1;32m    953\u001b[0m \u001b[0;34m\u001b[0m\u001b[0m\n\u001b[1;32m    954\u001b[0m     \u001b[0;31m# Maintains info about the `Layer.call` stack.\u001b[0m\u001b[0;34m\u001b[0m\u001b[0;34m\u001b[0m\u001b[0;34m\u001b[0m\u001b[0m\n",
      "\u001b[0;32m/usr/local/lib/python3.7/dist-packages/tensorflow/python/keras/engine/base_layer.py\u001b[0m in \u001b[0;36m_functional_construction_call\u001b[0;34m(self, inputs, args, kwargs, input_list)\u001b[0m\n\u001b[1;32m   1089\u001b[0m         \u001b[0;31m# Check input assumptions set after layer building, e.g. input shape.\u001b[0m\u001b[0;34m\u001b[0m\u001b[0;34m\u001b[0m\u001b[0;34m\u001b[0m\u001b[0m\n\u001b[1;32m   1090\u001b[0m         outputs = self._keras_tensor_symbolic_call(\n\u001b[0;32m-> 1091\u001b[0;31m             inputs, input_masks, args, kwargs)\n\u001b[0m\u001b[1;32m   1092\u001b[0m \u001b[0;34m\u001b[0m\u001b[0m\n\u001b[1;32m   1093\u001b[0m         \u001b[0;32mif\u001b[0m \u001b[0moutputs\u001b[0m \u001b[0;32mis\u001b[0m \u001b[0;32mNone\u001b[0m\u001b[0;34m:\u001b[0m\u001b[0;34m\u001b[0m\u001b[0;34m\u001b[0m\u001b[0m\n",
      "\u001b[0;32m/usr/local/lib/python3.7/dist-packages/tensorflow/python/keras/engine/base_layer.py\u001b[0m in \u001b[0;36m_keras_tensor_symbolic_call\u001b[0;34m(self, inputs, input_masks, args, kwargs)\u001b[0m\n\u001b[1;32m    820\u001b[0m       \u001b[0;32mreturn\u001b[0m \u001b[0mnest\u001b[0m\u001b[0;34m.\u001b[0m\u001b[0mmap_structure\u001b[0m\u001b[0;34m(\u001b[0m\u001b[0mkeras_tensor\u001b[0m\u001b[0;34m.\u001b[0m\u001b[0mKerasTensor\u001b[0m\u001b[0;34m,\u001b[0m \u001b[0moutput_signature\u001b[0m\u001b[0;34m)\u001b[0m\u001b[0;34m\u001b[0m\u001b[0;34m\u001b[0m\u001b[0m\n\u001b[1;32m    821\u001b[0m     \u001b[0;32melse\u001b[0m\u001b[0;34m:\u001b[0m\u001b[0;34m\u001b[0m\u001b[0;34m\u001b[0m\u001b[0m\n\u001b[0;32m--> 822\u001b[0;31m       \u001b[0;32mreturn\u001b[0m \u001b[0mself\u001b[0m\u001b[0;34m.\u001b[0m\u001b[0m_infer_output_signature\u001b[0m\u001b[0;34m(\u001b[0m\u001b[0minputs\u001b[0m\u001b[0;34m,\u001b[0m \u001b[0margs\u001b[0m\u001b[0;34m,\u001b[0m \u001b[0mkwargs\u001b[0m\u001b[0;34m,\u001b[0m \u001b[0minput_masks\u001b[0m\u001b[0;34m)\u001b[0m\u001b[0;34m\u001b[0m\u001b[0;34m\u001b[0m\u001b[0m\n\u001b[0m\u001b[1;32m    823\u001b[0m \u001b[0;34m\u001b[0m\u001b[0m\n\u001b[1;32m    824\u001b[0m   \u001b[0;32mdef\u001b[0m \u001b[0m_infer_output_signature\u001b[0m\u001b[0;34m(\u001b[0m\u001b[0mself\u001b[0m\u001b[0;34m,\u001b[0m \u001b[0minputs\u001b[0m\u001b[0;34m,\u001b[0m \u001b[0margs\u001b[0m\u001b[0;34m,\u001b[0m \u001b[0mkwargs\u001b[0m\u001b[0;34m,\u001b[0m \u001b[0minput_masks\u001b[0m\u001b[0;34m)\u001b[0m\u001b[0;34m:\u001b[0m\u001b[0;34m\u001b[0m\u001b[0;34m\u001b[0m\u001b[0m\n",
      "\u001b[0;32m/usr/local/lib/python3.7/dist-packages/tensorflow/python/keras/engine/base_layer.py\u001b[0m in \u001b[0;36m_infer_output_signature\u001b[0;34m(self, inputs, args, kwargs, input_masks)\u001b[0m\n\u001b[1;32m    861\u001b[0m           \u001b[0;31m# TODO(kaftan): do we maybe_build here, or have we already done it?\u001b[0m\u001b[0;34m\u001b[0m\u001b[0;34m\u001b[0m\u001b[0;34m\u001b[0m\u001b[0m\n\u001b[1;32m    862\u001b[0m           \u001b[0mself\u001b[0m\u001b[0;34m.\u001b[0m\u001b[0m_maybe_build\u001b[0m\u001b[0;34m(\u001b[0m\u001b[0minputs\u001b[0m\u001b[0;34m)\u001b[0m\u001b[0;34m\u001b[0m\u001b[0;34m\u001b[0m\u001b[0m\n\u001b[0;32m--> 863\u001b[0;31m           \u001b[0moutputs\u001b[0m \u001b[0;34m=\u001b[0m \u001b[0mcall_fn\u001b[0m\u001b[0;34m(\u001b[0m\u001b[0minputs\u001b[0m\u001b[0;34m,\u001b[0m \u001b[0;34m*\u001b[0m\u001b[0margs\u001b[0m\u001b[0;34m,\u001b[0m \u001b[0;34m**\u001b[0m\u001b[0mkwargs\u001b[0m\u001b[0;34m)\u001b[0m\u001b[0;34m\u001b[0m\u001b[0;34m\u001b[0m\u001b[0m\n\u001b[0m\u001b[1;32m    864\u001b[0m \u001b[0;34m\u001b[0m\u001b[0m\n\u001b[1;32m    865\u001b[0m         \u001b[0mself\u001b[0m\u001b[0;34m.\u001b[0m\u001b[0m_handle_activity_regularization\u001b[0m\u001b[0;34m(\u001b[0m\u001b[0minputs\u001b[0m\u001b[0;34m,\u001b[0m \u001b[0moutputs\u001b[0m\u001b[0;34m)\u001b[0m\u001b[0;34m\u001b[0m\u001b[0;34m\u001b[0m\u001b[0m\n",
      "\u001b[0;32m/usr/local/lib/python3.7/dist-packages/tensorflow/python/keras/engine/sequential.py\u001b[0m in \u001b[0;36mcall\u001b[0;34m(self, inputs, training, mask)\u001b[0m\n\u001b[1;32m    373\u001b[0m       \u001b[0;32mif\u001b[0m \u001b[0;32mnot\u001b[0m \u001b[0mself\u001b[0m\u001b[0;34m.\u001b[0m\u001b[0mbuilt\u001b[0m\u001b[0;34m:\u001b[0m\u001b[0;34m\u001b[0m\u001b[0;34m\u001b[0m\u001b[0m\n\u001b[1;32m    374\u001b[0m         \u001b[0mself\u001b[0m\u001b[0;34m.\u001b[0m\u001b[0m_init_graph_network\u001b[0m\u001b[0;34m(\u001b[0m\u001b[0mself\u001b[0m\u001b[0;34m.\u001b[0m\u001b[0minputs\u001b[0m\u001b[0;34m,\u001b[0m \u001b[0mself\u001b[0m\u001b[0;34m.\u001b[0m\u001b[0moutputs\u001b[0m\u001b[0;34m)\u001b[0m\u001b[0;34m\u001b[0m\u001b[0;34m\u001b[0m\u001b[0m\n\u001b[0;32m--> 375\u001b[0;31m       \u001b[0;32mreturn\u001b[0m \u001b[0msuper\u001b[0m\u001b[0;34m(\u001b[0m\u001b[0mSequential\u001b[0m\u001b[0;34m,\u001b[0m \u001b[0mself\u001b[0m\u001b[0;34m)\u001b[0m\u001b[0;34m.\u001b[0m\u001b[0mcall\u001b[0m\u001b[0;34m(\u001b[0m\u001b[0minputs\u001b[0m\u001b[0;34m,\u001b[0m \u001b[0mtraining\u001b[0m\u001b[0;34m=\u001b[0m\u001b[0mtraining\u001b[0m\u001b[0;34m,\u001b[0m \u001b[0mmask\u001b[0m\u001b[0;34m=\u001b[0m\u001b[0mmask\u001b[0m\u001b[0;34m)\u001b[0m\u001b[0;34m\u001b[0m\u001b[0;34m\u001b[0m\u001b[0m\n\u001b[0m\u001b[1;32m    376\u001b[0m \u001b[0;34m\u001b[0m\u001b[0m\n\u001b[1;32m    377\u001b[0m     \u001b[0moutputs\u001b[0m \u001b[0;34m=\u001b[0m \u001b[0minputs\u001b[0m  \u001b[0;31m# handle the corner case where self.layers is empty\u001b[0m\u001b[0;34m\u001b[0m\u001b[0;34m\u001b[0m\u001b[0m\n",
      "\u001b[0;32m/usr/local/lib/python3.7/dist-packages/tensorflow/python/keras/engine/functional.py\u001b[0m in \u001b[0;36mcall\u001b[0;34m(self, inputs, training, mask)\u001b[0m\n\u001b[1;32m    423\u001b[0m     \"\"\"\n\u001b[1;32m    424\u001b[0m     return self._run_internal_graph(\n\u001b[0;32m--> 425\u001b[0;31m         inputs, training=training, mask=mask)\n\u001b[0m\u001b[1;32m    426\u001b[0m \u001b[0;34m\u001b[0m\u001b[0m\n\u001b[1;32m    427\u001b[0m   \u001b[0;32mdef\u001b[0m \u001b[0mcompute_output_shape\u001b[0m\u001b[0;34m(\u001b[0m\u001b[0mself\u001b[0m\u001b[0;34m,\u001b[0m \u001b[0minput_shape\u001b[0m\u001b[0;34m)\u001b[0m\u001b[0;34m:\u001b[0m\u001b[0;34m\u001b[0m\u001b[0;34m\u001b[0m\u001b[0m\n",
      "\u001b[0;32m/usr/local/lib/python3.7/dist-packages/tensorflow/python/keras/engine/functional.py\u001b[0m in \u001b[0;36m_run_internal_graph\u001b[0;34m(self, inputs, training, mask)\u001b[0m\n\u001b[1;32m    558\u001b[0m \u001b[0;34m\u001b[0m\u001b[0m\n\u001b[1;32m    559\u001b[0m         \u001b[0margs\u001b[0m\u001b[0;34m,\u001b[0m \u001b[0mkwargs\u001b[0m \u001b[0;34m=\u001b[0m \u001b[0mnode\u001b[0m\u001b[0;34m.\u001b[0m\u001b[0mmap_arguments\u001b[0m\u001b[0;34m(\u001b[0m\u001b[0mtensor_dict\u001b[0m\u001b[0;34m)\u001b[0m\u001b[0;34m\u001b[0m\u001b[0;34m\u001b[0m\u001b[0m\n\u001b[0;32m--> 560\u001b[0;31m         \u001b[0moutputs\u001b[0m \u001b[0;34m=\u001b[0m \u001b[0mnode\u001b[0m\u001b[0;34m.\u001b[0m\u001b[0mlayer\u001b[0m\u001b[0;34m(\u001b[0m\u001b[0;34m*\u001b[0m\u001b[0margs\u001b[0m\u001b[0;34m,\u001b[0m \u001b[0;34m**\u001b[0m\u001b[0mkwargs\u001b[0m\u001b[0;34m)\u001b[0m\u001b[0;34m\u001b[0m\u001b[0;34m\u001b[0m\u001b[0m\n\u001b[0m\u001b[1;32m    561\u001b[0m \u001b[0;34m\u001b[0m\u001b[0m\n\u001b[1;32m    562\u001b[0m         \u001b[0;31m# Update tensor_dict.\u001b[0m\u001b[0;34m\u001b[0m\u001b[0;34m\u001b[0m\u001b[0;34m\u001b[0m\u001b[0m\n",
      "\u001b[0;32m/usr/local/lib/python3.7/dist-packages/tensorflow/python/keras/engine/base_layer.py\u001b[0m in \u001b[0;36m__call__\u001b[0;34m(self, *args, **kwargs)\u001b[0m\n\u001b[1;32m    996\u001b[0m         \u001b[0minputs\u001b[0m \u001b[0;34m=\u001b[0m \u001b[0mself\u001b[0m\u001b[0;34m.\u001b[0m\u001b[0m_maybe_cast_inputs\u001b[0m\u001b[0;34m(\u001b[0m\u001b[0minputs\u001b[0m\u001b[0;34m,\u001b[0m \u001b[0minput_list\u001b[0m\u001b[0;34m)\u001b[0m\u001b[0;34m\u001b[0m\u001b[0;34m\u001b[0m\u001b[0m\n\u001b[1;32m    997\u001b[0m \u001b[0;34m\u001b[0m\u001b[0m\n\u001b[0;32m--> 998\u001b[0;31m       \u001b[0minput_spec\u001b[0m\u001b[0;34m.\u001b[0m\u001b[0massert_input_compatibility\u001b[0m\u001b[0;34m(\u001b[0m\u001b[0mself\u001b[0m\u001b[0;34m.\u001b[0m\u001b[0minput_spec\u001b[0m\u001b[0;34m,\u001b[0m \u001b[0minputs\u001b[0m\u001b[0;34m,\u001b[0m \u001b[0mself\u001b[0m\u001b[0;34m.\u001b[0m\u001b[0mname\u001b[0m\u001b[0;34m)\u001b[0m\u001b[0;34m\u001b[0m\u001b[0;34m\u001b[0m\u001b[0m\n\u001b[0m\u001b[1;32m    999\u001b[0m       \u001b[0;32mif\u001b[0m \u001b[0meager\u001b[0m\u001b[0;34m:\u001b[0m\u001b[0;34m\u001b[0m\u001b[0;34m\u001b[0m\u001b[0m\n\u001b[1;32m   1000\u001b[0m         \u001b[0mcall_fn\u001b[0m \u001b[0;34m=\u001b[0m \u001b[0mself\u001b[0m\u001b[0;34m.\u001b[0m\u001b[0mcall\u001b[0m\u001b[0;34m\u001b[0m\u001b[0;34m\u001b[0m\u001b[0m\n",
      "\u001b[0;32m/usr/local/lib/python3.7/dist-packages/tensorflow/python/keras/engine/input_spec.py\u001b[0m in \u001b[0;36massert_input_compatibility\u001b[0;34m(input_spec, inputs, layer_name)\u001b[0m\n\u001b[1;32m    221\u001b[0m                          \u001b[0;34m'expected ndim='\u001b[0m \u001b[0;34m+\u001b[0m \u001b[0mstr\u001b[0m\u001b[0;34m(\u001b[0m\u001b[0mspec\u001b[0m\u001b[0;34m.\u001b[0m\u001b[0mndim\u001b[0m\u001b[0;34m)\u001b[0m \u001b[0;34m+\u001b[0m \u001b[0;34m', found ndim='\u001b[0m \u001b[0;34m+\u001b[0m\u001b[0;34m\u001b[0m\u001b[0;34m\u001b[0m\u001b[0m\n\u001b[1;32m    222\u001b[0m                          \u001b[0mstr\u001b[0m\u001b[0;34m(\u001b[0m\u001b[0mndim\u001b[0m\u001b[0;34m)\u001b[0m \u001b[0;34m+\u001b[0m \u001b[0;34m'. Full shape received: '\u001b[0m \u001b[0;34m+\u001b[0m\u001b[0;34m\u001b[0m\u001b[0;34m\u001b[0m\u001b[0m\n\u001b[0;32m--> 223\u001b[0;31m                          str(tuple(shape)))\n\u001b[0m\u001b[1;32m    224\u001b[0m     \u001b[0;32mif\u001b[0m \u001b[0mspec\u001b[0m\u001b[0;34m.\u001b[0m\u001b[0mmax_ndim\u001b[0m \u001b[0;32mis\u001b[0m \u001b[0;32mnot\u001b[0m \u001b[0;32mNone\u001b[0m\u001b[0;34m:\u001b[0m\u001b[0;34m\u001b[0m\u001b[0;34m\u001b[0m\u001b[0m\n\u001b[1;32m    225\u001b[0m       \u001b[0mndim\u001b[0m \u001b[0;34m=\u001b[0m \u001b[0mx\u001b[0m\u001b[0;34m.\u001b[0m\u001b[0mshape\u001b[0m\u001b[0;34m.\u001b[0m\u001b[0mrank\u001b[0m\u001b[0;34m\u001b[0m\u001b[0;34m\u001b[0m\u001b[0m\n",
      "\u001b[0;31mValueError\u001b[0m: Input 0 of layer max_pooling2d is incompatible with the layer: expected ndim=4, found ndim=5. Full shape received: (None, 326, 479, 672, 16)"
     ]
    }
   ],
   "source": [
    "data_scalo = import_data(electrodes[0], racine_scalo)\n",
    "X_train1, X_test1, X_val1, y_train1, y_test1, y_val1 = separation_data(data_scalo)\n",
    "\n",
    "data_spectro = import_data(electrodes[0], racine_spectro)\n",
    "X_train2, X_test2, X_val2, y_train2, y_test2, y_val2 = separation_data(data_spectro)\n",
    "\n",
    "from keras.layers import Input, Concatenate, Dense\n",
    "from keras.models import Model\n",
    "\n",
    "model1_in = Input(shape=np.shape(X_train1))\n",
    "model1_out = model1(model1_in)\n",
    "#model1_final = Model(model1_in, model1_out)\n",
    "\n",
    "model2_in = Input(shape=np.shape(X_train2))\n",
    "model2_out = model2(model2_in)\n",
    "#model2_final = Model(model3_in, model3_out)\n",
    "\n",
    "concatenated = Concatenate()([model1_out, model2_out])\n",
    "out = Dense(1, activation='softmax', name='output_layer')(concatenated)\n",
    "\n",
    "merged_model = Model([model1_in, model2_in], out)\n",
    "merged_model.compile(loss='binary_crossentropy', optimizer='adam', metrics=['accuracy'])"
   ]
  },
  {
   "cell_type": "code",
   "execution_count": null,
   "metadata": {
    "id": "M5WfKJrUmkd-"
   },
   "outputs": [],
   "source": [
    "  merged_model.fit([x1, x2], y=y, batch_size=384, epochs=5, verbose=1, validation_split=0.1)\n",
    "  \n",
    "  epochs = 5\n",
    "  batch_size = int(len(X_train)/ 6)\n",
    "  steps = int(len(X_train) / 32)\n",
    "  history = fit_model(model, epochs, batch_size, steps, X_train, X_val, y_train, y_val)"
   ]
  }
 ],
 "metadata": {
  "colab": {
   "authorship_tag": "ABX9TyN5EWbzlo9eTisB1hWLQB/Z",
   "collapsed_sections": [
    "AWQkhgVuamvM",
    "WVQuUj0Ijcfh"
   ],
   "mount_file_id": "1dOmisAi26F18Hr7_I4at69SPkqAwKReW",
   "name": "comparaison_electrodes.ipynb",
   "provenance": []
  },
  "kernelspec": {
   "display_name": "Python 3",
   "language": "python",
   "name": "python3"
  },
  "language_info": {
   "codemirror_mode": {
    "name": "ipython",
    "version": 3
   },
   "file_extension": ".py",
   "mimetype": "text/x-python",
   "name": "python",
   "nbconvert_exporter": "python",
   "pygments_lexer": "ipython3",
   "version": "3.7.6"
  }
 },
 "nbformat": 4,
 "nbformat_minor": 1
}
