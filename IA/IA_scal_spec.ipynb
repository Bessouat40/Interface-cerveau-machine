{
  "nbformat": 4,
  "nbformat_minor": 0,
  "metadata": {
    "colab": {
      "name": "IA_scal_spec.ipynb",
      "provenance": [],
      "collapsed_sections": [
        "3UvZIspeLNDT",
        "xSrWzzQOq3rF"
      ],
      "toc_visible": true
    },
    "kernelspec": {
      "name": "python3",
      "display_name": "Python 3"
    },
    "language_info": {
      "name": "python"
    },
    "accelerator": "GPU"
  },
  "cells": [
    {
      "cell_type": "code",
      "metadata": {
        "id": "tSxg4_pCzsBb"
      },
      "source": [
        "import cv2\n",
        "import os\n",
        "import glob\n",
        "import matplotlib.pyplot as plt\n",
        "import numpy as np\n",
        "import seaborn as sns\n",
        "import pandas as pd\n",
        "\n",
        "import random\n",
        "\n",
        "# Deep Learning\n",
        "import keras\n",
        "import tensorflow as tf\n",
        "from keras.models import Sequential, Model\n",
        "from keras.layers import Dense,  SeparableConv2D, Conv2D , Conv3D, MaxPool3D, MaxPool2D , Flatten, Input, Concatenate, concatenate , Dropout , BatchNormalization, Activation\n",
        "from keras.preprocessing.image import ImageDataGenerator\n",
        "from sklearn.model_selection import train_test_split\n",
        "from sklearn.metrics import classification_report,confusion_matrix\n",
        "from keras.callbacks import ReduceLROnPlateau\n",
        "import cv2\n",
        "from keras.preprocessing.image import ImageDataGenerator"
      ],
      "execution_count": null,
      "outputs": []
    },
    {
      "cell_type": "code",
      "metadata": {
        "id": "9Ey7V5bo1F-P"
      },
      "source": [
        "from bibliotheque_projet import import_data, separation_data, creation_model, fit_model, creation_y"
      ],
      "execution_count": null,
      "outputs": []
    },
    {
      "cell_type": "code",
      "metadata": {
        "colab": {
          "base_uri": "https://localhost:8080/"
        },
        "id": "7rOcjdS8djO8",
        "outputId": "74b9ae22-b120-49ad-be7b-331b6cf7573d"
      },
      "source": [
        "from google.colab import drive\n",
        "drive.mount('/content/drive')"
      ],
      "execution_count": null,
      "outputs": [
        {
          "output_type": "stream",
          "text": [
            "Drive already mounted at /content/drive; to attempt to forcibly remount, call drive.mount(\"/content/drive\", force_remount=True).\n"
          ],
          "name": "stdout"
        }
      ]
    },
    {
      "cell_type": "code",
      "metadata": {
        "id": "tin-g8Il1PaM"
      },
      "source": [
        "labels = [\"3\", \"2\"]\n",
        "electrodes = [\"C3\" , \"C4\" , \"Cz\"]\n",
        "\n",
        "racine_ondelettes = \"/content/drive/MyDrive/Projet_E4_Interface_Cerveau_Machine/Bases de données EEG/Bases de données/Desc_IIIa_COEF_cropped/k3b_coef\""
      ],
      "execution_count": null,
      "outputs": []
    },
    {
      "cell_type": "markdown",
      "metadata": {
        "id": "0gxB5eZV4gEx"
      },
      "source": [
        "# Importation des données"
      ]
    },
    {
      "cell_type": "code",
      "metadata": {
        "id": "oKQokEB52Rf7",
        "colab": {
          "base_uri": "https://localhost:8080/"
        },
        "outputId": "1bb1946c-f030-4803-94ca-cc14fe119549"
      },
      "source": [
        "data_scalo = import_data(electrodes[0], racine_ondelettes, labels)\n",
        "X_train1, X_test1, X_val1, y_train1, y_test1, y_val1 = separation_data(data_scalo)\n",
        "print(X_train1.shape)\n",
        "\n",
        "data_spectro = import_data(electrodes[1], racine_ondelettes, labels)\n",
        "X_train2, X_test2, X_val2, y_train2, y_test2, y_val2 = separation_data(data_spectro)\n",
        "print(X_train2.shape)\n",
        "\n",
        "data_scalo2 = import_data(electrodes[2], racine_ondelettes, labels)\n",
        "X_train3, X_test3, X_val3, y_train3, y_test3, y_val3 = separation_data(data_scalo2)\n",
        "print(X_train3.shape)"
      ],
      "execution_count": null,
      "outputs": [
        {
          "output_type": "stream",
          "text": [
            "(69, 250, 250, 3)\n",
            "(69, 250, 250, 3)\n",
            "(69, 250, 250, 3)\n"
          ],
          "name": "stdout"
        }
      ]
    },
    {
      "cell_type": "code",
      "metadata": {
        "id": "sQJnDmRPtMGA"
      },
      "source": [
        "y_train = creation_y(y_train1, labels)\n",
        "y_test = creation_y(y_test1, labels)\n",
        "y_val = creation_y(y_val1, labels)"
      ],
      "execution_count": null,
      "outputs": []
    },
    {
      "cell_type": "markdown",
      "metadata": {
        "id": "sGje2KZj-e-T"
      },
      "source": [
        "# On définit notre premier modèle"
      ]
    },
    {
      "cell_type": "markdown",
      "metadata": {
        "id": "lCyjD7Iw-i_6"
      },
      "source": [
        "Notre modèle va prendre 6 entrées:\n",
        "- l'image du scalogramme et du spectrogramme de l'électrode C3,\n",
        "- l'image du scalogramme et du spectrogramme de l'électrode C4,\n",
        "- l'image du scalogramme et du spectrogramme de l'électrode Cz"
      ]
    },
    {
      "cell_type": "code",
      "metadata": {
        "id": "--xoO9lB-eRx",
        "colab": {
          "base_uri": "https://localhost:8080/"
        },
        "outputId": "dd0ed731-d91f-4337-f35f-8b8b8653cf1e"
      },
      "source": [
        "shape = np.shape(X_train1)\n",
        "\n",
        "input_1 = Input(shape=shape[1:])\n",
        "input_2 = Input(shape=shape[1:])\n",
        "input_3 = Input(shape=shape[1:])\n",
        "\n",
        "model = concatenate([input_1, input_2, input_3], axis = -1)\n",
        "\n",
        "\n",
        "model = Conv2D(32, (3,3)) (model)\n",
        "model = Activation(\"relu\") (model)\n",
        "model = MaxPool2D((2,2)) (model)\n",
        "model = Activation('relu') (model)\n",
        "model = Dense(32) (model)\n",
        "model = Dropout(0.2) (model)\n",
        "\n",
        "model = Conv2D(64, (3,3)) (model)\n",
        "model = Activation(\"relu\") (model)\n",
        "model = MaxPool2D((2,2)) (model)\n",
        "model = Activation('relu') (model)\n",
        "model = Dense(64) (model)\n",
        "model = Dropout(0.2) (model)\n",
        "\n",
        "model = Conv2D(128, (3,3)) (model)\n",
        "model = Activation(\"relu\") (model)\n",
        "model = MaxPool2D((2,2)) (model)\n",
        "model = Activation('relu') (model)\n",
        "model = Dense(128) (model)\n",
        "model = Dropout(0.2) (model)\n",
        "\n",
        "model = Flatten() (model)\n",
        "model = Dense(128) (model)\n",
        "model = Activation('relu') (model)\n",
        "model = Dropout(0.5) (model)\n",
        "model = Dense(2) (model)\n",
        "\n",
        "output = Activation('softmax') (model)\n",
        "\n",
        "model = Model([input_1, input_2, input_3], output)\n",
        "\n",
        "model.summary()"
      ],
      "execution_count": null,
      "outputs": [
        {
          "output_type": "stream",
          "text": [
            "Model: \"model_28\"\n",
            "__________________________________________________________________________________________________\n",
            "Layer (type)                    Output Shape         Param #     Connected to                     \n",
            "==================================================================================================\n",
            "input_85 (InputLayer)           [(None, 250, 250, 3) 0                                            \n",
            "__________________________________________________________________________________________________\n",
            "input_86 (InputLayer)           [(None, 250, 250, 3) 0                                            \n",
            "__________________________________________________________________________________________________\n",
            "input_87 (InputLayer)           [(None, 250, 250, 3) 0                                            \n",
            "__________________________________________________________________________________________________\n",
            "concatenate_28 (Concatenate)    (None, 250, 250, 9)  0           input_85[0][0]                   \n",
            "                                                                 input_86[0][0]                   \n",
            "                                                                 input_87[0][0]                   \n",
            "__________________________________________________________________________________________________\n",
            "conv2d_102 (Conv2D)             (None, 248, 248, 32) 2624        concatenate_28[0][0]             \n",
            "__________________________________________________________________________________________________\n",
            "activation_260 (Activation)     (None, 248, 248, 32) 0           conv2d_102[0][0]                 \n",
            "__________________________________________________________________________________________________\n",
            "max_pooling2d_102 (MaxPooling2D (None, 124, 124, 32) 0           activation_260[0][0]             \n",
            "__________________________________________________________________________________________________\n",
            "activation_261 (Activation)     (None, 124, 124, 32) 0           max_pooling2d_102[0][0]          \n",
            "__________________________________________________________________________________________________\n",
            "dense_158 (Dense)               (None, 124, 124, 32) 1056        activation_261[0][0]             \n",
            "__________________________________________________________________________________________________\n",
            "dropout_130 (Dropout)           (None, 124, 124, 32) 0           dense_158[0][0]                  \n",
            "__________________________________________________________________________________________________\n",
            "conv2d_103 (Conv2D)             (None, 122, 122, 64) 18496       dropout_130[0][0]                \n",
            "__________________________________________________________________________________________________\n",
            "activation_262 (Activation)     (None, 122, 122, 64) 0           conv2d_103[0][0]                 \n",
            "__________________________________________________________________________________________________\n",
            "max_pooling2d_103 (MaxPooling2D (None, 61, 61, 64)   0           activation_262[0][0]             \n",
            "__________________________________________________________________________________________________\n",
            "activation_263 (Activation)     (None, 61, 61, 64)   0           max_pooling2d_103[0][0]          \n",
            "__________________________________________________________________________________________________\n",
            "dense_159 (Dense)               (None, 61, 61, 64)   4160        activation_263[0][0]             \n",
            "__________________________________________________________________________________________________\n",
            "dropout_131 (Dropout)           (None, 61, 61, 64)   0           dense_159[0][0]                  \n",
            "__________________________________________________________________________________________________\n",
            "conv2d_104 (Conv2D)             (None, 59, 59, 128)  73856       dropout_131[0][0]                \n",
            "__________________________________________________________________________________________________\n",
            "activation_264 (Activation)     (None, 59, 59, 128)  0           conv2d_104[0][0]                 \n",
            "__________________________________________________________________________________________________\n",
            "max_pooling2d_104 (MaxPooling2D (None, 29, 29, 128)  0           activation_264[0][0]             \n",
            "__________________________________________________________________________________________________\n",
            "activation_265 (Activation)     (None, 29, 29, 128)  0           max_pooling2d_104[0][0]          \n",
            "__________________________________________________________________________________________________\n",
            "dense_160 (Dense)               (None, 29, 29, 128)  16512       activation_265[0][0]             \n",
            "__________________________________________________________________________________________________\n",
            "dropout_132 (Dropout)           (None, 29, 29, 128)  0           dense_160[0][0]                  \n",
            "__________________________________________________________________________________________________\n",
            "flatten_28 (Flatten)            (None, 107648)       0           dropout_132[0][0]                \n",
            "__________________________________________________________________________________________________\n",
            "dense_161 (Dense)               (None, 128)          13779072    flatten_28[0][0]                 \n",
            "__________________________________________________________________________________________________\n",
            "activation_266 (Activation)     (None, 128)          0           dense_161[0][0]                  \n",
            "__________________________________________________________________________________________________\n",
            "dropout_133 (Dropout)           (None, 128)          0           activation_266[0][0]             \n",
            "__________________________________________________________________________________________________\n",
            "dense_162 (Dense)               (None, 2)            258         dropout_133[0][0]                \n",
            "__________________________________________________________________________________________________\n",
            "activation_267 (Activation)     (None, 2)            0           dense_162[0][0]                  \n",
            "==================================================================================================\n",
            "Total params: 13,896,034\n",
            "Trainable params: 13,896,034\n",
            "Non-trainable params: 0\n",
            "__________________________________________________________________________________________________\n"
          ],
          "name": "stdout"
        }
      ]
    },
    {
      "cell_type": "code",
      "metadata": {
        "colab": {
          "base_uri": "https://localhost:8080/"
        },
        "id": "RyexYKxQCOk1",
        "outputId": "555be24c-da4d-4e2a-a3a5-e00a92402664"
      },
      "source": [
        "epochs = 50\n",
        "batch_size = int(len(X_train1)/ 12)\n",
        "\n",
        "datagen = ImageDataGenerator( shear_range=0.2, zoom_range=0.2, horizontal_flip=True)\n",
        "datagen.fit(X_train1)\n",
        "\n",
        "model.compile(loss= \"categorical_crossentropy\", optimizer=\"adam\", metrics=[\"accuracy\"])\n",
        "\n",
        "history = model.fit([X_train1, X_train2, X_train3], y_train, batch_size = 16, \n",
        "          steps_per_epoch= int(len(X_train1) / 16),\n",
        "          epochs=epochs,\n",
        "          validation_data = ([X_val1, X_val2, X_val3], y_val))"
      ],
      "execution_count": null,
      "outputs": [
        {
          "output_type": "stream",
          "text": [
            "Epoch 1/50\n",
            "4/4 [==============================] - 1s 161ms/step - loss: 6.6591 - accuracy: 0.5000 - val_loss: 2.2076 - val_accuracy: 0.4000\n",
            "Epoch 2/50\n",
            "4/4 [==============================] - 0s 74ms/step - loss: 4.9330 - accuracy: 0.5355 - val_loss: 0.8268 - val_accuracy: 0.4000\n",
            "Epoch 3/50\n",
            "4/4 [==============================] - 0s 61ms/step - loss: 2.4562 - accuracy: 0.5912 - val_loss: 0.7118 - val_accuracy: 0.4000\n",
            "Epoch 4/50\n",
            "4/4 [==============================] - 0s 62ms/step - loss: 1.1989 - accuracy: 0.6180 - val_loss: 0.6798 - val_accuracy: 0.6000\n",
            "Epoch 5/50\n",
            "4/4 [==============================] - 0s 60ms/step - loss: 1.3091 - accuracy: 0.2879 - val_loss: 0.8042 - val_accuracy: 0.4000\n",
            "Epoch 6/50\n",
            "4/4 [==============================] - 0s 70ms/step - loss: 0.7268 - accuracy: 0.5000 - val_loss: 0.8627 - val_accuracy: 0.4000\n",
            "Epoch 7/50\n",
            "4/4 [==============================] - 0s 69ms/step - loss: 0.7105 - accuracy: 0.5288 - val_loss: 0.8982 - val_accuracy: 0.4000\n",
            "Epoch 8/50\n",
            "4/4 [==============================] - 0s 61ms/step - loss: 0.7268 - accuracy: 0.5112 - val_loss: 0.8294 - val_accuracy: 0.4000\n",
            "Epoch 9/50\n",
            "4/4 [==============================] - 0s 64ms/step - loss: 0.6851 - accuracy: 0.5332 - val_loss: 0.6937 - val_accuracy: 0.4000\n",
            "Epoch 10/50\n",
            "4/4 [==============================] - 0s 62ms/step - loss: 0.8533 - accuracy: 0.5475 - val_loss: 0.7048 - val_accuracy: 0.4000\n",
            "Epoch 11/50\n",
            "4/4 [==============================] - 0s 70ms/step - loss: 0.7445 - accuracy: 0.4938 - val_loss: 0.6916 - val_accuracy: 0.6000\n",
            "Epoch 12/50\n",
            "4/4 [==============================] - 0s 71ms/step - loss: 0.8088 - accuracy: 0.4528 - val_loss: 0.7244 - val_accuracy: 0.4000\n",
            "Epoch 13/50\n",
            "4/4 [==============================] - 0s 63ms/step - loss: 0.6709 - accuracy: 0.5736 - val_loss: 0.7057 - val_accuracy: 0.4000\n",
            "Epoch 14/50\n",
            "4/4 [==============================] - 0s 60ms/step - loss: 0.6875 - accuracy: 0.5908 - val_loss: 0.7157 - val_accuracy: 0.4000\n",
            "Epoch 15/50\n",
            "4/4 [==============================] - 0s 61ms/step - loss: 0.7098 - accuracy: 0.5066 - val_loss: 0.7643 - val_accuracy: 0.4000\n",
            "Epoch 16/50\n",
            "4/4 [==============================] - 0s 71ms/step - loss: 0.6904 - accuracy: 0.5167 - val_loss: 0.6698 - val_accuracy: 0.6000\n",
            "Epoch 17/50\n",
            "4/4 [==============================] - 0s 71ms/step - loss: 0.7621 - accuracy: 0.4378 - val_loss: 0.6752 - val_accuracy: 0.6000\n",
            "Epoch 18/50\n",
            "4/4 [==============================] - 0s 63ms/step - loss: 0.6801 - accuracy: 0.5479 - val_loss: 0.6964 - val_accuracy: 0.4000\n",
            "Epoch 19/50\n",
            "4/4 [==============================] - 0s 62ms/step - loss: 0.6721 - accuracy: 0.6827 - val_loss: 0.7044 - val_accuracy: 0.4000\n",
            "Epoch 20/50\n",
            "4/4 [==============================] - 0s 59ms/step - loss: 0.7006 - accuracy: 0.5147 - val_loss: 0.6938 - val_accuracy: 0.4000\n",
            "Epoch 21/50\n",
            "4/4 [==============================] - 0s 68ms/step - loss: 0.7241 - accuracy: 0.4896 - val_loss: 0.6760 - val_accuracy: 0.6000\n",
            "Epoch 22/50\n",
            "4/4 [==============================] - 0s 70ms/step - loss: 0.6481 - accuracy: 0.6913 - val_loss: 0.6574 - val_accuracy: 0.8000\n",
            "Epoch 23/50\n",
            "4/4 [==============================] - 0s 59ms/step - loss: 0.6371 - accuracy: 0.6440 - val_loss: 0.6169 - val_accuracy: 0.8000\n",
            "Epoch 24/50\n",
            "4/4 [==============================] - 0s 63ms/step - loss: 0.6094 - accuracy: 0.6872 - val_loss: 0.6379 - val_accuracy: 0.6000\n",
            "Epoch 25/50\n",
            "4/4 [==============================] - 0s 61ms/step - loss: 0.5826 - accuracy: 0.6524 - val_loss: 0.4650 - val_accuracy: 0.8000\n",
            "Epoch 26/50\n",
            "4/4 [==============================] - 0s 70ms/step - loss: 0.5671 - accuracy: 0.7000 - val_loss: 0.4529 - val_accuracy: 0.8000\n",
            "Epoch 27/50\n",
            "4/4 [==============================] - 0s 70ms/step - loss: 0.4869 - accuracy: 0.8260 - val_loss: 0.4182 - val_accuracy: 0.8000\n",
            "Epoch 28/50\n",
            "4/4 [==============================] - 0s 61ms/step - loss: 0.3264 - accuracy: 0.8884 - val_loss: 0.5039 - val_accuracy: 0.6000\n",
            "Epoch 29/50\n",
            "4/4 [==============================] - 0s 62ms/step - loss: 0.7405 - accuracy: 0.7317 - val_loss: 0.4004 - val_accuracy: 0.8000\n",
            "Epoch 30/50\n",
            "4/4 [==============================] - 0s 58ms/step - loss: 0.4970 - accuracy: 0.8107 - val_loss: 0.4786 - val_accuracy: 0.8000\n",
            "Epoch 31/50\n",
            "4/4 [==============================] - 0s 70ms/step - loss: 0.5768 - accuracy: 0.6396 - val_loss: 0.4064 - val_accuracy: 0.6000\n",
            "Epoch 32/50\n",
            "4/4 [==============================] - 0s 70ms/step - loss: 0.5477 - accuracy: 0.7356 - val_loss: 0.4246 - val_accuracy: 0.6000\n",
            "Epoch 33/50\n",
            "4/4 [==============================] - 0s 59ms/step - loss: 0.3157 - accuracy: 0.8934 - val_loss: 0.4926 - val_accuracy: 0.6000\n",
            "Epoch 34/50\n",
            "4/4 [==============================] - 0s 62ms/step - loss: 0.3256 - accuracy: 0.8751 - val_loss: 0.6388 - val_accuracy: 0.6000\n",
            "Epoch 35/50\n",
            "4/4 [==============================] - 0s 59ms/step - loss: 0.4433 - accuracy: 0.8485 - val_loss: 0.6417 - val_accuracy: 0.6000\n",
            "Epoch 36/50\n",
            "4/4 [==============================] - 0s 68ms/step - loss: 0.3041 - accuracy: 0.9104 - val_loss: 0.6088 - val_accuracy: 0.6000\n",
            "Epoch 37/50\n",
            "4/4 [==============================] - 0s 70ms/step - loss: 0.1842 - accuracy: 0.9795 - val_loss: 0.6272 - val_accuracy: 0.6000\n",
            "Epoch 38/50\n",
            "4/4 [==============================] - 0s 61ms/step - loss: 0.2491 - accuracy: 0.9150 - val_loss: 0.7087 - val_accuracy: 0.6000\n",
            "Epoch 39/50\n",
            "4/4 [==============================] - 0s 63ms/step - loss: 0.2067 - accuracy: 0.9094 - val_loss: 0.7475 - val_accuracy: 0.6000\n",
            "Epoch 40/50\n",
            "4/4 [==============================] - 0s 58ms/step - loss: 0.2039 - accuracy: 0.8789 - val_loss: 0.7241 - val_accuracy: 0.6000\n",
            "Epoch 41/50\n",
            "4/4 [==============================] - 0s 72ms/step - loss: 0.1349 - accuracy: 0.9604 - val_loss: 0.8177 - val_accuracy: 0.6000\n",
            "Epoch 42/50\n",
            "4/4 [==============================] - 0s 73ms/step - loss: 0.1816 - accuracy: 0.9075 - val_loss: 0.9010 - val_accuracy: 0.6000\n",
            "Epoch 43/50\n",
            "4/4 [==============================] - 0s 62ms/step - loss: 0.1111 - accuracy: 0.9624 - val_loss: 0.9663 - val_accuracy: 0.6000\n",
            "Epoch 44/50\n",
            "4/4 [==============================] - 0s 62ms/step - loss: 0.0553 - accuracy: 0.9849 - val_loss: 1.1537 - val_accuracy: 0.6000\n",
            "Epoch 45/50\n",
            "4/4 [==============================] - 0s 62ms/step - loss: 0.1626 - accuracy: 0.9211 - val_loss: 1.6049 - val_accuracy: 0.6000\n",
            "Epoch 46/50\n",
            "4/4 [==============================] - 0s 69ms/step - loss: 0.0729 - accuracy: 0.9729 - val_loss: 2.0503 - val_accuracy: 0.6000\n",
            "Epoch 47/50\n",
            "4/4 [==============================] - 0s 73ms/step - loss: 0.1552 - accuracy: 0.9149 - val_loss: 2.2223 - val_accuracy: 0.6000\n",
            "Epoch 48/50\n",
            "4/4 [==============================] - 0s 64ms/step - loss: 0.0424 - accuracy: 0.9870 - val_loss: 1.5357 - val_accuracy: 0.6000\n",
            "Epoch 49/50\n",
            "4/4 [==============================] - 0s 61ms/step - loss: 0.2028 - accuracy: 0.9018 - val_loss: 1.1220 - val_accuracy: 0.6000\n",
            "Epoch 50/50\n",
            "4/4 [==============================] - 0s 60ms/step - loss: 0.1581 - accuracy: 0.9211 - val_loss: 0.8175 - val_accuracy: 0.6000\n"
          ],
          "name": "stdout"
        }
      ]
    },
    {
      "cell_type": "code",
      "metadata": {
        "colab": {
          "base_uri": "https://localhost:8080/",
          "height": 313
        },
        "id": "xf_nXSF8_RAV",
        "outputId": "8ec67022-a479-4d1f-e906-8c1d374781c6"
      },
      "source": [
        "plt.plot(history.history['accuracy'])\n",
        "plt.plot(history.history['val_accuracy'])\n",
        "plt.title('model accuracy')\n",
        "plt.ylabel('accuracy')\n",
        "plt.xlabel('epoch')\n",
        "plt.legend(['train', 'valid'], loc='upper left')\n",
        "print(\"summarize history for accuracy\")"
      ],
      "execution_count": null,
      "outputs": [
        {
          "output_type": "stream",
          "text": [
            "summarize history for accuracy\n"
          ],
          "name": "stdout"
        },
        {
          "output_type": "display_data",
          "data": {
            "image/png": "[encoded data removed]",
            "text/plain": [
              "<Figure size 432x288 with 1 Axes>"
            ]
          },
          "metadata": {
            "tags": [],
            "needs_background": "light"
          }
        }
      ]
    },
    {
      "cell_type": "code",
      "metadata": {
        "colab": {
          "base_uri": "https://localhost:8080/"
        },
        "id": "AjHXONzhDh_7",
        "outputId": "45b6c091-adae-4d91-b303-5de0e978d66a"
      },
      "source": [
        "y_pred_final = model.predict([X_test1, X_test2, X_test3])\n",
        "un = np.argmax(y_pred_final, axis = 1)\n",
        "\n",
        "deux = np.argmax(y_test, axis = 1)\n",
        "\n",
        "print(\"prédictions : {}\".format(un))\n",
        "print(\"vraies valeurs : {}\".format(deux))\n",
        "\n",
        "print(\"précision : {:.{prec}f}%\".format((un == deux).sum()/len(un), prec=2))"
      ],
      "execution_count": null,
      "outputs": [
        {
          "output_type": "stream",
          "text": [
            "WARNING:tensorflow:8 out of the last 21 calls to <function Model.make_predict_function.<locals>.predict_function at 0x7fa2aa933320> triggered tf.function retracing. Tracing is expensive and the excessive number of tracings could be due to (1) creating @tf.function repeatedly in a loop, (2) passing tensors with different shapes, (3) passing Python objects instead of tensors. For (1), please define your @tf.function outside of the loop. For (2), @tf.function has experimental_relax_shapes=True option that relaxes argument shapes that can avoid unnecessary retracing. For (3), please refer to https://www.tensorflow.org/guide/function#controlling_retracing and https://www.tensorflow.org/api_docs/python/tf/function for  more details.\n",
            "prédictions : [0 1 1 1 1 0 0 1 0 0 0 1 1]\n",
            "vraies valeurs : [0 1 1 1 1 0 0 1 0 1 0 1 0]\n",
            "précision : 0.85%\n"
          ],
          "name": "stdout"
        }
      ]
    },
    {
      "cell_type": "code",
      "metadata": {
        "colab": {
          "base_uri": "https://localhost:8080/",
          "height": 287
        },
        "id": "xVWgg2YBWrIG",
        "outputId": "634d629f-dd44-4be8-a2f8-e2bee4e65c76"
      },
      "source": [
        "sns.heatmap(confusion_matrix(deux, un), annot=True)"
      ],
      "execution_count": null,
      "outputs": [
        {
          "output_type": "execute_result",
          "data": {
            "text/plain": [
              "<matplotlib.axes._subplots.AxesSubplot at 0x7fa2165c52d0>"
            ]
          },
          "metadata": {
            "tags": []
          },
          "execution_count": 175
        },
        {
          "output_type": "display_data",
          "data": {
            "image/png": "[encoded data removed]",
            "text/plain": [
              "<Figure size 432x288 with 2 Axes>"
            ]
          },
          "metadata": {
            "tags": [],
            "needs_background": "light"
          }
        }
      ]
    },
    {
      "cell_type": "code",
      "metadata": {
        "colab": {
          "base_uri": "https://localhost:8080/"
        },
        "id": "hOvts8ugLQgE",
        "outputId": "4d9d6f46-1a6a-4bd2-a2b8-451ecd0b4bf6"
      },
      "source": [
        "racine_ondelettes2 = \"/content/drive/MyDrive/Projet_E4_Interface_Cerveau_Machine/Bases de données EEG/Bases de données/Desc_IIIa_COEF_cropped/l1b_coef\"\n",
        "\n",
        "data_scalo_bis = import_data(electrodes[0], racine_ondelettes2, labels)\n",
        "X_train1_bis, X_test1_bis, X_val1_bis, y_train1_bis, y_test1_bis, y_val1_bis = separation_data(data_scalo_bis)\n",
        "print(X_train1_bis.shape)\n",
        "\n",
        "data_spectro_bis = import_data(electrodes[1], racine_ondelettes2, labels)\n",
        "X_train2_bis, X_test2_bis, X_val2_bis, y_train2_bis, y_test2_bis, y_val2_bis = separation_data(data_spectro_bis)\n",
        "print(X_train2_bis.shape)\n",
        "\n",
        "data_scalo2_bis = import_data(electrodes[2], racine_ondelettes2, labels)\n",
        "X_train3_bis, X_test3_bis, X_val3_bis, y_train3_bis, y_test3_bis, y_val3_bis = separation_data(data_scalo2_bis)\n",
        "print(X_train3_bis.shape)"
      ],
      "execution_count": null,
      "outputs": [
        {
          "output_type": "stream",
          "text": [
            "(46, 250, 250, 3)\n",
            "(46, 250, 250, 3)\n",
            "(46, 250, 250, 3)\n"
          ],
          "name": "stdout"
        }
      ]
    },
    {
      "cell_type": "code",
      "metadata": {
        "colab": {
          "base_uri": "https://localhost:8080/"
        },
        "id": "N5kC2b-_TeNQ",
        "outputId": "dfc4ff9e-efc8-48b0-a7c6-9473031fbd63"
      },
      "source": [
        "print(X_val1_bis.shape)\n",
        "print(y_val_bis.shape)"
      ],
      "execution_count": null,
      "outputs": [
        {
          "output_type": "stream",
          "text": [
            "(5, 250, 250, 3)\n",
            "(5, 2)\n"
          ],
          "name": "stdout"
        }
      ]
    },
    {
      "cell_type": "code",
      "metadata": {
        "id": "EO6qa-7tMU1e"
      },
      "source": [
        "y_train_bis = creation_y(y_train1_bis, labels)\n",
        "y_test_bis = creation_y(y_test1_bis, labels)\n",
        "y_val_bis = creation_y(y_val1_bis, labels)"
      ],
      "execution_count": null,
      "outputs": []
    },
    {
      "cell_type": "code",
      "metadata": {
        "colab": {
          "base_uri": "https://localhost:8080/"
        },
        "id": "wUzrKnvVNeJY",
        "outputId": "ca803e77-509a-4132-f8ed-63bf684f80b4"
      },
      "source": [
        "shape = np.shape(X_train1_bis)\n",
        "\n",
        "input_4 = Input(shape=shape[1:])\n",
        "input_5 = Input(shape=shape[1:])\n",
        "input_6 = Input(shape=shape[1:])\n",
        "\n",
        "model1 = concatenate([input_4, input_5, input_6], axis = -1)\n",
        "\n",
        "model1 = Conv2D(32, (3,3)) (model1)\n",
        "model1 = Activation(\"relu\") (model1)\n",
        "model1 = MaxPool2D((2,2)) (model1)\n",
        "model1 = Activation('relu') (model1)\n",
        "model1 = Dense(32) (model1)\n",
        "model1 = Dropout(0.2) (model1)\n",
        "\n",
        "model1 = Conv2D(64, (3,3)) (model1)\n",
        "model1 = Activation(\"relu\") (model1)\n",
        "model1 = MaxPool2D((2,2)) (model1)\n",
        "model1 = Activation('relu') (model1)\n",
        "model1 = Dense(64) (model1)\n",
        "model1 = Dropout(0.2) (model1)\n",
        "\n",
        "model1 = Conv2D(128, (3,3)) (model1)\n",
        "model1 = Activation(\"relu\") (model1)\n",
        "model1 = MaxPool2D((2,2)) (model1)\n",
        "model1 = Activation('relu') (model1)\n",
        "model1 = Dense(128) (model1)\n",
        "model1 = Dropout(0.2) (model1)\n",
        "\n",
        "model1 = Flatten() (model1)\n",
        "model1 = Dense(128) (model1)\n",
        "model1 = Activation('relu') (model1)\n",
        "model1 = Dropout(0.5) (model1)\n",
        "model1 = Dense(2) (model1)\n",
        "\n",
        "output = Activation('softmax') (model1)\n",
        "\n",
        "model1 = Model([input_4, input_5, input_6], output)\n",
        "\n",
        "model1.summary()"
      ],
      "execution_count": null,
      "outputs": [
        {
          "output_type": "stream",
          "text": [
            "Model: \"model_37\"\n",
            "__________________________________________________________________________________________________\n",
            "Layer (type)                    Output Shape         Param #     Connected to                     \n",
            "==================================================================================================\n",
            "input_112 (InputLayer)          [(None, 250, 250, 3) 0                                            \n",
            "__________________________________________________________________________________________________\n",
            "input_113 (InputLayer)          [(None, 250, 250, 3) 0                                            \n",
            "__________________________________________________________________________________________________\n",
            "input_114 (InputLayer)          [(None, 250, 250, 3) 0                                            \n",
            "__________________________________________________________________________________________________\n",
            "concatenate_37 (Concatenate)    (None, 250, 250, 9)  0           input_112[0][0]                  \n",
            "                                                                 input_113[0][0]                  \n",
            "                                                                 input_114[0][0]                  \n",
            "__________________________________________________________________________________________________\n",
            "conv2d_129 (Conv2D)             (None, 248, 248, 32) 2624        concatenate_37[0][0]             \n",
            "__________________________________________________________________________________________________\n",
            "activation_332 (Activation)     (None, 248, 248, 32) 0           conv2d_129[0][0]                 \n",
            "__________________________________________________________________________________________________\n",
            "max_pooling2d_129 (MaxPooling2D (None, 124, 124, 32) 0           activation_332[0][0]             \n",
            "__________________________________________________________________________________________________\n",
            "activation_333 (Activation)     (None, 124, 124, 32) 0           max_pooling2d_129[0][0]          \n",
            "__________________________________________________________________________________________________\n",
            "dense_203 (Dense)               (None, 124, 124, 32) 1056        activation_333[0][0]             \n",
            "__________________________________________________________________________________________________\n",
            "dropout_166 (Dropout)           (None, 124, 124, 32) 0           dense_203[0][0]                  \n",
            "__________________________________________________________________________________________________\n",
            "conv2d_130 (Conv2D)             (None, 122, 122, 64) 18496       dropout_166[0][0]                \n",
            "__________________________________________________________________________________________________\n",
            "activation_334 (Activation)     (None, 122, 122, 64) 0           conv2d_130[0][0]                 \n",
            "__________________________________________________________________________________________________\n",
            "max_pooling2d_130 (MaxPooling2D (None, 61, 61, 64)   0           activation_334[0][0]             \n",
            "__________________________________________________________________________________________________\n",
            "activation_335 (Activation)     (None, 61, 61, 64)   0           max_pooling2d_130[0][0]          \n",
            "__________________________________________________________________________________________________\n",
            "dense_204 (Dense)               (None, 61, 61, 64)   4160        activation_335[0][0]             \n",
            "__________________________________________________________________________________________________\n",
            "dropout_167 (Dropout)           (None, 61, 61, 64)   0           dense_204[0][0]                  \n",
            "__________________________________________________________________________________________________\n",
            "conv2d_131 (Conv2D)             (None, 59, 59, 128)  73856       dropout_167[0][0]                \n",
            "__________________________________________________________________________________________________\n",
            "activation_336 (Activation)     (None, 59, 59, 128)  0           conv2d_131[0][0]                 \n",
            "__________________________________________________________________________________________________\n",
            "max_pooling2d_131 (MaxPooling2D (None, 29, 29, 128)  0           activation_336[0][0]             \n",
            "__________________________________________________________________________________________________\n",
            "activation_337 (Activation)     (None, 29, 29, 128)  0           max_pooling2d_131[0][0]          \n",
            "__________________________________________________________________________________________________\n",
            "dense_205 (Dense)               (None, 29, 29, 128)  16512       activation_337[0][0]             \n",
            "__________________________________________________________________________________________________\n",
            "dropout_168 (Dropout)           (None, 29, 29, 128)  0           dense_205[0][0]                  \n",
            "__________________________________________________________________________________________________\n",
            "flatten_37 (Flatten)            (None, 107648)       0           dropout_168[0][0]                \n",
            "__________________________________________________________________________________________________\n",
            "dense_206 (Dense)               (None, 128)          13779072    flatten_37[0][0]                 \n",
            "__________________________________________________________________________________________________\n",
            "activation_338 (Activation)     (None, 128)          0           dense_206[0][0]                  \n",
            "__________________________________________________________________________________________________\n",
            "dropout_169 (Dropout)           (None, 128)          0           activation_338[0][0]             \n",
            "__________________________________________________________________________________________________\n",
            "dense_207 (Dense)               (None, 2)            258         dropout_169[0][0]                \n",
            "__________________________________________________________________________________________________\n",
            "activation_339 (Activation)     (None, 2)            0           dense_207[0][0]                  \n",
            "==================================================================================================\n",
            "Total params: 13,896,034\n",
            "Trainable params: 13,896,034\n",
            "Non-trainable params: 0\n",
            "__________________________________________________________________________________________________\n"
          ],
          "name": "stdout"
        }
      ]
    },
    {
      "cell_type": "code",
      "metadata": {
        "colab": {
          "base_uri": "https://localhost:8080/"
        },
        "id": "7-fneafJOLBW",
        "outputId": "1475a91c-de9a-4110-f0df-1510124f1b8d"
      },
      "source": [
        "epochs = 50\n",
        "batch_size = int(len(X_train1_bis)/ 12)\n",
        "\n",
        "model1.compile(loss= \"categorical_crossentropy\", optimizer=\"adam\", metrics=[\"accuracy\"])\n",
        "\n",
        "history = model1.fit([X_train1_bis, X_train2_bis, X_train3_bis], y_train_bis, batch_size = 16, \n",
        "          steps_per_epoch= int(len(X_train1_bis) / 16),\n",
        "          epochs=epochs,\n",
        "          validation_data = ([X_val1_bis, X_val2_bis, X_val3_bis], y_val_bis))"
      ],
      "execution_count": null,
      "outputs": [
        {
          "output_type": "stream",
          "text": [
            "Epoch 1/50\n",
            "2/2 [==============================] - 1s 347ms/step - loss: 1.6978 - accuracy: 0.4583 - val_loss: 1.1096 - val_accuracy: 0.6000\n",
            "Epoch 2/50\n",
            "2/2 [==============================] - 0s 119ms/step - loss: 2.3618 - accuracy: 0.5921 - val_loss: 0.9541 - val_accuracy: 0.6000\n",
            "Epoch 3/50\n",
            "2/2 [==============================] - 0s 108ms/step - loss: 1.1574 - accuracy: 0.6750 - val_loss: 0.8234 - val_accuracy: 0.4000\n",
            "Epoch 4/50\n",
            "2/2 [==============================] - 0s 110ms/step - loss: 0.8565 - accuracy: 0.6458 - val_loss: 0.6659 - val_accuracy: 0.6000\n",
            "Epoch 5/50\n",
            "2/2 [==============================] - 0s 115ms/step - loss: 1.2341 - accuracy: 0.4762 - val_loss: 0.8914 - val_accuracy: 0.4000\n",
            "Epoch 6/50\n",
            "2/2 [==============================] - 0s 104ms/step - loss: 0.9229 - accuracy: 0.4556 - val_loss: 0.6694 - val_accuracy: 0.6000\n",
            "Epoch 7/50\n",
            "2/2 [==============================] - 0s 104ms/step - loss: 0.8401 - accuracy: 0.4583 - val_loss: 0.6937 - val_accuracy: 0.4000\n",
            "Epoch 8/50\n",
            "2/2 [==============================] - 0s 104ms/step - loss: 0.6982 - accuracy: 0.5016 - val_loss: 0.6804 - val_accuracy: 0.4000\n",
            "Epoch 9/50\n",
            "2/2 [==============================] - 0s 102ms/step - loss: 0.7014 - accuracy: 0.5639 - val_loss: 0.6921 - val_accuracy: 0.4000\n",
            "Epoch 10/50\n",
            "2/2 [==============================] - 0s 100ms/step - loss: 0.7081 - accuracy: 0.3750 - val_loss: 0.7115 - val_accuracy: 0.4000\n",
            "Epoch 11/50\n",
            "2/2 [==============================] - 0s 100ms/step - loss: 0.6833 - accuracy: 0.5000 - val_loss: 0.6883 - val_accuracy: 0.4000\n",
            "Epoch 12/50\n",
            "2/2 [==============================] - 0s 101ms/step - loss: 0.6843 - accuracy: 0.4347 - val_loss: 0.6946 - val_accuracy: 0.4000\n",
            "Epoch 13/50\n",
            "2/2 [==============================] - 0s 105ms/step - loss: 0.6684 - accuracy: 0.6667 - val_loss: 0.6789 - val_accuracy: 0.6000\n",
            "Epoch 14/50\n",
            "2/2 [==============================] - 0s 100ms/step - loss: 0.6802 - accuracy: 0.6603 - val_loss: 0.6618 - val_accuracy: 0.6000\n",
            "Epoch 15/50\n",
            "2/2 [==============================] - 0s 100ms/step - loss: 0.6572 - accuracy: 0.6528 - val_loss: 0.6526 - val_accuracy: 0.6000\n",
            "Epoch 16/50\n",
            "2/2 [==============================] - 0s 109ms/step - loss: 0.6545 - accuracy: 0.6042 - val_loss: 0.6267 - val_accuracy: 0.6000\n",
            "Epoch 17/50\n",
            "2/2 [==============================] - 0s 102ms/step - loss: 0.6423 - accuracy: 0.5921 - val_loss: 0.5893 - val_accuracy: 0.6000\n",
            "Epoch 18/50\n",
            "2/2 [==============================] - 0s 104ms/step - loss: 0.7794 - accuracy: 0.4583 - val_loss: 0.5613 - val_accuracy: 0.8000\n",
            "Epoch 19/50\n",
            "2/2 [==============================] - 0s 105ms/step - loss: 0.5843 - accuracy: 0.6458 - val_loss: 0.5837 - val_accuracy: 0.6000\n",
            "Epoch 20/50\n",
            "2/2 [==============================] - 0s 106ms/step - loss: 0.5865 - accuracy: 0.6841 - val_loss: 0.5950 - val_accuracy: 0.8000\n",
            "Epoch 21/50\n",
            "2/2 [==============================] - 0s 99ms/step - loss: 0.5574 - accuracy: 0.5889 - val_loss: 0.5775 - val_accuracy: 0.8000\n",
            "Epoch 22/50\n",
            "2/2 [==============================] - 0s 108ms/step - loss: 0.5362 - accuracy: 0.6458 - val_loss: 0.6072 - val_accuracy: 0.8000\n",
            "Epoch 23/50\n",
            "2/2 [==============================] - 0s 100ms/step - loss: 0.4802 - accuracy: 0.7508 - val_loss: 0.6212 - val_accuracy: 0.8000\n",
            "Epoch 24/50\n",
            "2/2 [==============================] - 0s 89ms/step - loss: 0.3752 - accuracy: 0.8694 - val_loss: 0.7112 - val_accuracy: 0.8000\n",
            "Epoch 25/50\n",
            "2/2 [==============================] - 0s 106ms/step - loss: 0.4461 - accuracy: 0.8125 - val_loss: 0.8028 - val_accuracy: 0.8000\n",
            "Epoch 26/50\n",
            "2/2 [==============================] - 0s 102ms/step - loss: 0.3328 - accuracy: 0.8397 - val_loss: 1.0014 - val_accuracy: 0.6000\n",
            "Epoch 27/50\n",
            "2/2 [==============================] - 0s 89ms/step - loss: 0.3389 - accuracy: 0.8472 - val_loss: 1.3182 - val_accuracy: 0.6000\n",
            "Epoch 28/50\n",
            "2/2 [==============================] - 0s 102ms/step - loss: 0.2559 - accuracy: 0.8750 - val_loss: 1.7588 - val_accuracy: 0.6000\n",
            "Epoch 29/50\n",
            "2/2 [==============================] - 0s 99ms/step - loss: 0.3437 - accuracy: 0.8635 - val_loss: 1.5965 - val_accuracy: 0.6000\n",
            "Epoch 30/50\n",
            "2/2 [==============================] - 0s 89ms/step - loss: 0.2977 - accuracy: 0.8694 - val_loss: 1.1834 - val_accuracy: 0.6000\n",
            "Epoch 31/50\n",
            "2/2 [==============================] - 0s 99ms/step - loss: 0.2479 - accuracy: 0.8958 - val_loss: 1.0788 - val_accuracy: 0.6000\n",
            "Epoch 32/50\n",
            "2/2 [==============================] - 0s 98ms/step - loss: 0.1589 - accuracy: 0.9540 - val_loss: 1.3183 - val_accuracy: 0.6000\n",
            "Epoch 33/50\n",
            "2/2 [==============================] - 0s 91ms/step - loss: 0.1402 - accuracy: 0.9333 - val_loss: 1.5411 - val_accuracy: 0.6000\n",
            "Epoch 34/50\n",
            "2/2 [==============================] - 0s 101ms/step - loss: 0.1388 - accuracy: 0.9792 - val_loss: 1.4586 - val_accuracy: 0.6000\n",
            "Epoch 35/50\n",
            "2/2 [==============================] - 0s 101ms/step - loss: 0.1534 - accuracy: 0.9540 - val_loss: 1.5734 - val_accuracy: 0.6000\n",
            "Epoch 36/50\n",
            "2/2 [==============================] - 0s 90ms/step - loss: 0.0987 - accuracy: 0.9778 - val_loss: 1.9903 - val_accuracy: 0.6000\n",
            "Epoch 37/50\n",
            "2/2 [==============================] - 0s 100ms/step - loss: 0.0679 - accuracy: 1.0000 - val_loss: 2.7939 - val_accuracy: 0.6000\n",
            "Epoch 38/50\n",
            "2/2 [==============================] - 0s 106ms/step - loss: 0.1770 - accuracy: 0.8857 - val_loss: 3.5662 - val_accuracy: 0.2000\n",
            "Epoch 39/50\n",
            "2/2 [==============================] - 0s 99ms/step - loss: 0.1109 - accuracy: 0.9778 - val_loss: 2.7553 - val_accuracy: 0.6000\n",
            "Epoch 40/50\n",
            "2/2 [==============================] - 0s 102ms/step - loss: 0.1232 - accuracy: 0.9375 - val_loss: 2.3955 - val_accuracy: 0.6000\n",
            "Epoch 41/50\n",
            "2/2 [==============================] - 0s 103ms/step - loss: 0.0816 - accuracy: 0.9556 - val_loss: 2.3149 - val_accuracy: 0.6000\n",
            "Epoch 42/50\n",
            "2/2 [==============================] - 0s 98ms/step - loss: 0.0382 - accuracy: 1.0000 - val_loss: 2.3648 - val_accuracy: 0.6000\n",
            "Epoch 43/50\n",
            "2/2 [==============================] - 0s 102ms/step - loss: 0.0434 - accuracy: 1.0000 - val_loss: 2.5424 - val_accuracy: 0.6000\n",
            "Epoch 44/50\n",
            "2/2 [==============================] - 0s 103ms/step - loss: 0.3599 - accuracy: 0.8635 - val_loss: 1.9211 - val_accuracy: 0.6000\n",
            "Epoch 45/50\n",
            "2/2 [==============================] - 0s 102ms/step - loss: 0.0606 - accuracy: 1.0000 - val_loss: 1.7289 - val_accuracy: 0.4000\n",
            "Epoch 46/50\n",
            "2/2 [==============================] - 0s 104ms/step - loss: 0.2136 - accuracy: 0.9375 - val_loss: 1.7903 - val_accuracy: 0.4000\n",
            "Epoch 47/50\n",
            "2/2 [==============================] - 0s 101ms/step - loss: 0.0997 - accuracy: 1.0000 - val_loss: 2.5303 - val_accuracy: 0.6000\n",
            "Epoch 48/50\n",
            "2/2 [==============================] - 0s 97ms/step - loss: 0.1836 - accuracy: 0.8708 - val_loss: 3.1505 - val_accuracy: 0.6000\n",
            "Epoch 49/50\n",
            "2/2 [==============================] - 0s 99ms/step - loss: 0.0238 - accuracy: 1.0000 - val_loss: 3.5340 - val_accuracy: 0.4000\n",
            "Epoch 50/50\n",
            "2/2 [==============================] - 0s 100ms/step - loss: 0.3169 - accuracy: 0.9079 - val_loss: 2.4990 - val_accuracy: 0.6000\n"
          ],
          "name": "stdout"
        }
      ]
    },
    {
      "cell_type": "code",
      "metadata": {
        "colab": {
          "base_uri": "https://localhost:8080/",
          "height": 313
        },
        "id": "fvCOYDT9T3YS",
        "outputId": "59f28930-f9f5-436b-fbb3-6d9cca3b3deb"
      },
      "source": [
        "plt.plot(history.history['accuracy'])\n",
        "plt.plot(history.history['val_accuracy'])\n",
        "plt.title('model accuracy')\n",
        "plt.ylabel('accuracy')\n",
        "plt.xlabel('epoch')\n",
        "plt.legend(['train', 'valid'], loc='upper left')\n",
        "print(\"summarize history for accuracy\")"
      ],
      "execution_count": null,
      "outputs": [
        {
          "output_type": "stream",
          "text": [
            "summarize history for accuracy\n"
          ],
          "name": "stdout"
        },
        {
          "output_type": "display_data",
          "data": {
            "image/png": "[encoded data removed]",
            "text/plain": [
              "<Figure size 432x288 with 1 Axes>"
            ]
          },
          "metadata": {
            "tags": [],
            "needs_background": "light"
          }
        }
      ]
    },
    {
      "cell_type": "code",
      "metadata": {
        "colab": {
          "base_uri": "https://localhost:8080/"
        },
        "id": "lqL8IA8AMFJX",
        "outputId": "1834e001-20a3-4fae-f5bb-bcde0188c7ec"
      },
      "source": [
        "y_pred_final_bis = model1.predict([X_test1_bis, X_test2_bis, X_test3_bis])\n",
        "un_bis = np.argmax(y_pred_final_bis, axis = 1)\n",
        "\n",
        "deux_bis = np.argmax(y_test_bis, axis = 1)\n",
        "\n",
        "print(un_bis)\n",
        "print(deux_bis)\n",
        "\n",
        "(un_bis == deux_bis).sum()/len(un_bis)\n",
        "\n",
        "print(\"prédictions : {}\".format(un_bis))\n",
        "print(\"vraies valeurs : {}\".format(deux_bis))\n",
        "\n",
        "print(\"précision : {:.{prec}f}%\".format((un_bis == deux_bis).sum()/len(un_bis), prec=2))"
      ],
      "execution_count": null,
      "outputs": [
        {
          "output_type": "stream",
          "text": [
            "[0 0 1 0 1 0 1]\n",
            "[0 1 1 0 1 0 0]\n",
            "prédictions : [0 0 1 0 1 0 1]\n",
            "vraies valeurs : [0 1 1 0 1 0 0]\n",
            "précision : 0.71%\n"
          ],
          "name": "stdout"
        }
      ]
    },
    {
      "cell_type": "code",
      "metadata": {
        "colab": {
          "base_uri": "https://localhost:8080/",
          "height": 287
        },
        "id": "T_6akm-DVwVs",
        "outputId": "afecee2d-a961-4e4c-f5f7-845d39da9630"
      },
      "source": [
        "sns.heatmap(confusion_matrix(deux_bis, un_bis), annot=True)"
      ],
      "execution_count": null,
      "outputs": [
        {
          "output_type": "execute_result",
          "data": {
            "text/plain": [
              "<matplotlib.axes._subplots.AxesSubplot at 0x7fa22409c050>"
            ]
          },
          "metadata": {
            "tags": []
          },
          "execution_count": 174
        },
        {
          "output_type": "display_data",
          "data": {
            "image/png": "[encoded data removed]",
            "text/plain": [
              "<Figure size 432x288 with 2 Axes>"
            ]
          },
          "metadata": {
            "tags": [],
            "needs_background": "light"
          }
        }
      ]
    },
    {
      "cell_type": "markdown",
      "metadata": {
        "id": "3UvZIspeLNDT"
      },
      "source": [
        "# Suite"
      ]
    },
    {
      "cell_type": "code",
      "metadata": {
        "colab": {
          "base_uri": "https://localhost:8080/",
          "height": 244
        },
        "id": "iYsRXGDpTayt",
        "outputId": "d383c0d7-e6ab-4543-ec32-cee287780499"
      },
      "source": [
        "input_shape = np.shape(X_train1)\n",
        "\n",
        "model = Sequential()\n",
        "\n",
        "model.add(Conv2D(32, (3,3), input_size = input_shape[1:], activation = \"relu\"))\n",
        "model.add(MaxPool2D(32, (2,2), activation = \"relu\"))\n",
        "model.add(Dense(32, activation = \"relu\"))\n",
        "\n",
        "model.add(Conv2D(64, (3,3), input_size = input_shape[1:], activation = \"relu\"))\n",
        "model.add(MaxPool2D(64, (2,2), activation = \"relu\"))\n",
        "model.add(Dense(64, activation = \"relu\"))\n",
        "\n",
        "model.add(Flatten())\n",
        "model.add(Dense(64, activation = \"relu\"))\n",
        "model.add(Dropout(0.5))\n",
        "model.add(Dense(2, activation = \"softmax\"))\n",
        "\n",
        "model.summary"
      ],
      "execution_count": null,
      "outputs": [
        {
          "output_type": "error",
          "ename": "NameError",
          "evalue": "ignored",
          "traceback": [
            "\u001b[0;31m---------------------------------------------------------------------------\u001b[0m",
            "\u001b[0;31mNameError\u001b[0m                                 Traceback (most recent call last)",
            "\u001b[0;32m<ipython-input-8-99b726c42d5f>\u001b[0m in \u001b[0;36m<module>\u001b[0;34m()\u001b[0m\n\u001b[0;32m----> 1\u001b[0;31m \u001b[0minput_shape\u001b[0m \u001b[0;34m=\u001b[0m \u001b[0mnp\u001b[0m\u001b[0;34m.\u001b[0m\u001b[0mshape\u001b[0m\u001b[0;34m(\u001b[0m\u001b[0mX_train1\u001b[0m\u001b[0;34m)\u001b[0m\u001b[0;34m\u001b[0m\u001b[0;34m\u001b[0m\u001b[0m\n\u001b[0m\u001b[1;32m      2\u001b[0m \u001b[0;34m\u001b[0m\u001b[0m\n\u001b[1;32m      3\u001b[0m \u001b[0mmodel\u001b[0m \u001b[0;34m=\u001b[0m \u001b[0mSequential\u001b[0m\u001b[0;34m(\u001b[0m\u001b[0;34m)\u001b[0m\u001b[0;34m\u001b[0m\u001b[0;34m\u001b[0m\u001b[0m\n\u001b[1;32m      4\u001b[0m \u001b[0;34m\u001b[0m\u001b[0m\n\u001b[1;32m      5\u001b[0m \u001b[0mmodel\u001b[0m\u001b[0;34m.\u001b[0m\u001b[0madd\u001b[0m\u001b[0;34m(\u001b[0m\u001b[0mConv2D\u001b[0m\u001b[0;34m(\u001b[0m\u001b[0;36m32\u001b[0m\u001b[0;34m,\u001b[0m \u001b[0;34m(\u001b[0m\u001b[0;36m3\u001b[0m\u001b[0;34m,\u001b[0m\u001b[0;36m3\u001b[0m\u001b[0;34m)\u001b[0m\u001b[0;34m,\u001b[0m \u001b[0minput_size\u001b[0m \u001b[0;34m=\u001b[0m \u001b[0minput_shape\u001b[0m\u001b[0;34m[\u001b[0m\u001b[0;36m1\u001b[0m\u001b[0;34m:\u001b[0m\u001b[0;34m]\u001b[0m\u001b[0;34m,\u001b[0m \u001b[0mactivation\u001b[0m \u001b[0;34m=\u001b[0m \u001b[0;34m\"relu\"\u001b[0m\u001b[0;34m)\u001b[0m\u001b[0;34m)\u001b[0m\u001b[0;34m\u001b[0m\u001b[0;34m\u001b[0m\u001b[0m\n",
            "\u001b[0;31mNameError\u001b[0m: name 'np' is not defined"
          ]
        }
      ]
    },
    {
      "cell_type": "code",
      "metadata": {
        "id": "qkvlLU6CZZP1"
      },
      "source": [
        ""
      ],
      "execution_count": null,
      "outputs": []
    },
    {
      "cell_type": "markdown",
      "metadata": {
        "id": "xSrWzzQOq3rF"
      },
      "source": [
        "# Entrainement d'un modele qui prend en entrée la prédiction de 3 autres"
      ]
    },
    {
      "cell_type": "markdown",
      "metadata": {
        "id": "RKYBHqnPmerp"
      },
      "source": [
        "**Entraînement des 3 modèles**"
      ]
    },
    {
      "cell_type": "code",
      "metadata": {
        "id": "0JIlXszrfA2q"
      },
      "source": [
        "shape = np.shape(X_train1)\n",
        "\n",
        "input_1 = Input(shape=shape[1:])\n",
        "input_2 = Input(shape=shape[1:])\n",
        "input_3 = Input(shape=shape[1:])\n",
        "input_4 = Input(shape=shape[1:])\n",
        "input_5 = Input(shape=shape[1:])\n",
        "input_6 = Input(shape=shape[1:])\n",
        "\n",
        "#modele 1\n",
        "model_1 = concatenate([input_1, input_2], axis = -1)\n",
        "model_1 = Conv2D(32, (3,3)) (model_1)\n",
        "model_1 = Activation(\"relu\") (model_1)\n",
        "model_1 = MaxPool2D(32, (2,2)) (model_1)\n",
        "model_1 = Activation('relu') (model_1)\n",
        "model_1 = Dense(32) (model_1)\n",
        "model_1 = Dropout(0.2) (model_1)\n",
        "\n",
        "model_1 = Conv2D(64, (3,3)) (model_1)\n",
        "model_1 = Activation(\"relu\") (model_1)\n",
        "model_1 = MaxPool2D(64, (2,2)) (model_1)\n",
        "model_1 = Activation('relu') (model_1)\n",
        "model_1 = Dense(64) (model_1)\n",
        "model_1 = Dropout(0.25) (model_1)\n",
        "\n",
        "model_1 = Flatten() (model_1)\n",
        "model_1 = Dense(64) (model_1)\n",
        "model_1 = Activation('relu') (model_1)\n",
        "model_1 = Dropout(0.5) (model_1)\n",
        "model_1 = Dense(4) (model_1)\n",
        "\n",
        "output_1 = Activation('softmax') (model_1)\n",
        "\n",
        "model_1 = Model([input_1, input_2], output_1)\n",
        "\n",
        "#modele2\n",
        "model_2 = concatenate([input_3, input_4], axis = -1)\n",
        "model_2 = Conv2D(32, (3,3)) (model_2)\n",
        "model_2 = Activation(\"relu\") (model_2)\n",
        "model_2 = MaxPool2D(32, (2,2)) (model_2)\n",
        "model_2 = Activation('relu') (model_2)\n",
        "model_2 = Dense(32) (model_2)\n",
        "model_2 = Dropout(0.2) (model_2)\n",
        "\n",
        "model_2 = Conv2D(64, (3,3)) (model_2)\n",
        "model_2 = Activation(\"relu\") (model_2)\n",
        "model_2 = MaxPool2D(64, (2,2)) (model_2)\n",
        "model_2 = Activation('relu') (model_2)\n",
        "model_2 = Dense(64) (model_2)\n",
        "model_2 = Dropout(0.25) (model_2)\n",
        "\n",
        "model_2 = Flatten() (model_2)\n",
        "model_2 = Dense(64) (model_2)\n",
        "model_2 = Activation('relu') (model_2)\n",
        "model_2 = Dropout(0.5) (model_2)\n",
        "model_2 = Dense(4) (model_2)\n",
        "\n",
        "output_2 = Activation('softmax') (model_2)\n",
        "\n",
        "model_2 = Model([input_3, input_4], output_2)\n",
        "\n",
        "#modele3\n",
        "model_3 = concatenate([input_5, input_6], axis = -1)\n",
        "model_3 = Conv2D(32, (3,3)) (model_3)\n",
        "model_3 = Activation(\"relu\") (model_3)\n",
        "model_3 = MaxPool2D(32, (2,2)) (model_3)\n",
        "model_3 = Activation('relu') (model_3)\n",
        "model_3 = Dense(32) (model_3)\n",
        "model_3 = Dropout(0.2) (model_3)\n",
        "\n",
        "model_3 = Conv2D(64, (3,3)) (model_3)\n",
        "model_3 = Activation(\"relu\") (model_3)\n",
        "model_3 = MaxPool2D(64, (2,2)) (model_3)\n",
        "model_3 = Activation('relu') (model_3)\n",
        "model_3 = Dense(64) (model_3)\n",
        "model_3 = Dropout(0.25) (model_3)\n",
        "\n",
        "model_3 = Flatten() (model_3)\n",
        "model_3 = Dense(64) (model_3)\n",
        "model_3 = Activation('relu') (model_3)\n",
        "model_3 = Dropout(0.5) (model_3)\n",
        "model_3 = Dense(4) (model_3)\n",
        "\n",
        "output_3 = Activation('softmax') (model_3)\n",
        "\n",
        "model_3 = Model([input_5, input_6], output_3)"
      ],
      "execution_count": null,
      "outputs": []
    },
    {
      "cell_type": "code",
      "metadata": {
        "id": "EapcE5f4HR2_",
        "colab": {
          "base_uri": "https://localhost:8080/"
        },
        "outputId": "16ebbe4d-d9c4-4a67-8eef-a1c584d4ad36"
      },
      "source": [
        "epochs = 10\n",
        "batch_size = int(len(X_train1)/ 12)\n",
        "\n",
        "datagen = ImageDataGenerator( shear_range=0.2, zoom_range=0.2, horizontal_flip=True)\n",
        "datagen.fit(X_train1)\n",
        "\n",
        "model_1.compile(loss= \"categorical_crossentropy\", optimizer=\"adam\", metrics=[\"accuracy\"])\n",
        "\n",
        "model_1.fit(datagen.flow([X_train1, X_train2], y_train, batch_size = 32), \n",
        "          steps_per_epoch= int(len(X_train1) / 32),\n",
        "          epochs=epochs,\n",
        "          validation_data = ([X_val1, X_val2], y_val))"
      ],
      "execution_count": null,
      "outputs": [
        {
          "output_type": "stream",
          "text": [
            "Epoch 1/10\n",
            "10/10 [==============================] - 38s 487ms/step - loss: 6.7069 - accuracy: 0.2778 - val_loss: 2.5282 - val_accuracy: 0.0000e+00\n",
            "Epoch 2/10\n",
            "10/10 [==============================] - 4s 435ms/step - loss: 1.4524 - accuracy: 0.2577 - val_loss: 1.4211 - val_accuracy: 0.0000e+00\n",
            "Epoch 3/10\n",
            "10/10 [==============================] - 4s 431ms/step - loss: 1.4011 - accuracy: 0.2730 - val_loss: 2.7067 - val_accuracy: 0.0000e+00\n",
            "Epoch 4/10\n",
            "10/10 [==============================] - 4s 427ms/step - loss: 1.3953 - accuracy: 0.2613 - val_loss: 2.6554 - val_accuracy: 0.0000e+00\n",
            "Epoch 5/10\n",
            "10/10 [==============================] - 4s 425ms/step - loss: 1.3863 - accuracy: 0.2628 - val_loss: 1.8516 - val_accuracy: 0.0000e+00\n",
            "Epoch 6/10\n",
            "10/10 [==============================] - 4s 424ms/step - loss: 1.3863 - accuracy: 0.2665 - val_loss: 1.7018 - val_accuracy: 0.0000e+00\n",
            "Epoch 7/10\n",
            "10/10 [==============================] - 4s 477ms/step - loss: 1.3865 - accuracy: 0.2418 - val_loss: 1.6551 - val_accuracy: 0.0000e+00\n",
            "Epoch 8/10\n",
            "10/10 [==============================] - 4s 423ms/step - loss: 1.3866 - accuracy: 0.2193 - val_loss: 1.6387 - val_accuracy: 0.0000e+00\n",
            "Epoch 9/10\n",
            "10/10 [==============================] - 4s 427ms/step - loss: 1.3863 - accuracy: 0.2525 - val_loss: 1.6312 - val_accuracy: 0.0000e+00\n",
            "Epoch 10/10\n",
            "10/10 [==============================] - 4s 417ms/step - loss: 1.3859 - accuracy: 0.2777 - val_loss: 1.6263 - val_accuracy: 0.0000e+00\n"
          ],
          "name": "stdout"
        },
        {
          "output_type": "execute_result",
          "data": {
            "text/plain": [
              "<tensorflow.python.keras.callbacks.History at 0x7fb1f761aa10>"
            ]
          },
          "metadata": {
            "tags": []
          },
          "execution_count": 18
        }
      ]
    },
    {
      "cell_type": "code",
      "metadata": {
        "id": "Cvoi9fiImyk_"
      },
      "source": [
        "model_1.save('model_C3.h5')"
      ],
      "execution_count": null,
      "outputs": []
    },
    {
      "cell_type": "code",
      "metadata": {
        "colab": {
          "base_uri": "https://localhost:8080/"
        },
        "id": "tNc_Zjw-mdv7",
        "outputId": "c463200d-00ea-4589-d20d-045397bb4904"
      },
      "source": [
        "epochs = 10\n",
        "batch_size = int(len(X_train1)/ 12)\n",
        "\n",
        "datagen = ImageDataGenerator( shear_range=0.2, zoom_range=0.2, horizontal_flip=True)\n",
        "datagen.fit(X_train3)\n",
        "\n",
        "model_2.compile(loss= \"categorical_crossentropy\", optimizer=\"adam\", metrics=[\"accuracy\"])\n",
        "\n",
        "model_2.fit(datagen.flow([X_train3, X_train4], y_train, batch_size = 32), \n",
        "          steps_per_epoch= int(len(X_train3) / 32),\n",
        "          epochs=epochs,\n",
        "          validation_data = ([X_val3, X_val4], y_val))"
      ],
      "execution_count": null,
      "outputs": [
        {
          "output_type": "stream",
          "text": [
            "Epoch 1/10\n",
            "10/10 [==============================] - 5s 450ms/step - loss: 5.5476 - accuracy: 0.2327 - val_loss: 8.5635 - val_accuracy: 0.0000e+00\n",
            "Epoch 2/10\n",
            "10/10 [==============================] - 4s 426ms/step - loss: 1.9554 - accuracy: 0.1969 - val_loss: 1.3863 - val_accuracy: 0.0000e+00\n",
            "Epoch 3/10\n",
            "10/10 [==============================] - 4s 422ms/step - loss: 1.3902 - accuracy: 0.3003 - val_loss: 1.3531 - val_accuracy: 0.6000\n",
            "Epoch 4/10\n",
            "10/10 [==============================] - 4s 428ms/step - loss: 1.3862 - accuracy: 0.2862 - val_loss: 1.3863 - val_accuracy: 0.2000\n",
            "Epoch 5/10\n",
            "10/10 [==============================] - 4s 417ms/step - loss: 1.3862 - accuracy: 0.2736 - val_loss: 1.3879 - val_accuracy: 0.0000e+00\n",
            "Epoch 6/10\n",
            "10/10 [==============================] - 5s 458ms/step - loss: 1.3863 - accuracy: 0.2560 - val_loss: 1.3877 - val_accuracy: 0.0000e+00\n",
            "Epoch 7/10\n",
            "10/10 [==============================] - 4s 466ms/step - loss: 1.3862 - accuracy: 0.2783 - val_loss: 1.3882 - val_accuracy: 0.0000e+00\n",
            "Epoch 8/10\n",
            "10/10 [==============================] - 4s 426ms/step - loss: 1.3864 - accuracy: 0.2475 - val_loss: 1.3880 - val_accuracy: 0.0000e+00\n",
            "Epoch 9/10\n",
            "10/10 [==============================] - 4s 429ms/step - loss: 1.3861 - accuracy: 0.2691 - val_loss: 1.3887 - val_accuracy: 0.0000e+00\n",
            "Epoch 10/10\n",
            "10/10 [==============================] - 4s 415ms/step - loss: 1.3863 - accuracy: 0.2467 - val_loss: 1.3887 - val_accuracy: 0.0000e+00\n"
          ],
          "name": "stdout"
        },
        {
          "output_type": "execute_result",
          "data": {
            "text/plain": [
              "<tensorflow.python.keras.callbacks.History at 0x7fb202e54b90>"
            ]
          },
          "metadata": {
            "tags": []
          },
          "execution_count": 21
        }
      ]
    },
    {
      "cell_type": "code",
      "metadata": {
        "id": "P4xCn_BtnQJ2"
      },
      "source": [
        "model_2.save('model_C4.h5')"
      ],
      "execution_count": null,
      "outputs": []
    },
    {
      "cell_type": "code",
      "metadata": {
        "colab": {
          "base_uri": "https://localhost:8080/"
        },
        "id": "z7NJ2IkTngJn",
        "outputId": "f025a669-413c-4812-9ff5-ce3a795c08c3"
      },
      "source": [
        "epochs = 10\n",
        "batch_size = int(len(X_train1)/ 12)\n",
        "\n",
        "datagen = ImageDataGenerator( shear_range=0.2, zoom_range=0.2, horizontal_flip=True)\n",
        "datagen.fit(X_train5)\n",
        "\n",
        "model_3.compile(loss= \"categorical_crossentropy\", optimizer=\"adam\", metrics=[\"accuracy\"])\n",
        "\n",
        "model_3.fit(datagen.flow([X_train5, X_train6], y_train, batch_size = 32), \n",
        "          steps_per_epoch= int(len(X_train5) / 32),\n",
        "          epochs=epochs,\n",
        "          validation_data = ([X_val5, X_val6], y_val))"
      ],
      "execution_count": null,
      "outputs": [
        {
          "output_type": "stream",
          "text": [
            "Epoch 1/10\n",
            "10/10 [==============================] - 5s 498ms/step - loss: 5.3041 - accuracy: 0.1990 - val_loss: 1.6418 - val_accuracy: 0.0000e+00\n",
            "Epoch 2/10\n",
            "10/10 [==============================] - 4s 423ms/step - loss: 1.5206 - accuracy: 0.2431 - val_loss: 1.3489 - val_accuracy: 0.2000\n",
            "Epoch 3/10\n",
            "10/10 [==============================] - 4s 422ms/step - loss: 1.4147 - accuracy: 0.2680 - val_loss: 1.3845 - val_accuracy: 0.8000\n",
            "Epoch 4/10\n",
            "10/10 [==============================] - 4s 426ms/step - loss: 1.3863 - accuracy: 0.2499 - val_loss: 1.3836 - val_accuracy: 0.8000\n",
            "Epoch 5/10\n",
            "10/10 [==============================] - 4s 423ms/step - loss: 1.3903 - accuracy: 0.2434 - val_loss: 1.3831 - val_accuracy: 0.8000\n",
            "Epoch 6/10\n",
            "10/10 [==============================] - 4s 425ms/step - loss: 1.3864 - accuracy: 0.2374 - val_loss: 1.3840 - val_accuracy: 0.8000\n",
            "Epoch 7/10\n",
            "10/10 [==============================] - 4s 414ms/step - loss: 1.3862 - accuracy: 0.2522 - val_loss: 1.3841 - val_accuracy: 0.8000\n",
            "Epoch 8/10\n",
            "10/10 [==============================] - 5s 450ms/step - loss: 1.3861 - accuracy: 0.2817 - val_loss: 1.3827 - val_accuracy: 0.8000\n",
            "Epoch 9/10\n",
            "10/10 [==============================] - 4s 413ms/step - loss: 1.3859 - accuracy: 0.3037 - val_loss: 1.3817 - val_accuracy: 0.8000\n",
            "Epoch 10/10\n",
            "10/10 [==============================] - 5s 451ms/step - loss: 1.3865 - accuracy: 0.2256 - val_loss: 1.3816 - val_accuracy: 0.8000\n"
          ],
          "name": "stdout"
        },
        {
          "output_type": "execute_result",
          "data": {
            "text/plain": [
              "<tensorflow.python.keras.callbacks.History at 0x7fb2036fe590>"
            ]
          },
          "metadata": {
            "tags": []
          },
          "execution_count": 23
        }
      ]
    },
    {
      "cell_type": "code",
      "metadata": {
        "id": "nRj2txb3nwXB"
      },
      "source": [
        "model_3.save('model_Cz.h5')"
      ],
      "execution_count": null,
      "outputs": []
    },
    {
      "cell_type": "code",
      "metadata": {
        "id": "55I5sl-En_zz"
      },
      "source": [
        "y_pred1 = model_1.predict([X_train1, X_train2])\n",
        "y_pred2 = model_2.predict([X_train3, X_train4])\n",
        "y_pred3 = model_3.predict([X_train5, X_train6])"
      ],
      "execution_count": null,
      "outputs": []
    },
    {
      "cell_type": "code",
      "metadata": {
        "colab": {
          "base_uri": "https://localhost:8080/"
        },
        "id": "6fAhhT4coasU",
        "outputId": "2f639e3b-df44-4c8b-b024-8c573ae05332"
      },
      "source": [
        "y_pred1.shape"
      ],
      "execution_count": null,
      "outputs": [
        {
          "output_type": "execute_result",
          "data": {
            "text/plain": [
              "(326, 4)"
            ]
          },
          "metadata": {
            "tags": []
          },
          "execution_count": 26
        }
      ]
    },
    {
      "cell_type": "code",
      "metadata": {
        "colab": {
          "base_uri": "https://localhost:8080/"
        },
        "id": "vrQ5fRm5mJ9N",
        "outputId": "6781881d-31b0-4c60-c9d7-6729a0b3a8f9"
      },
      "source": [
        "shape_finale = y_pred1.shape\n",
        "\n",
        "input_7 = Input(shape_finale[1])\n",
        "input_8 = Input(shape_finale[1])\n",
        "input_9 = Input(shape_finale[1])\n",
        "\n",
        "model = concatenate([input_7, input_8, input_9], axis = -1)\n",
        "\n",
        "model = Dense(32) (model)\n",
        "model = Activation('relu') (model)\n",
        "model = Dense(64) (model)\n",
        "model = Activation('relu') (model)\n",
        "model = Dense(128) (model)\n",
        "model = Activation('relu') (model)\n",
        "model = Dense(4) (model)\n",
        "output = Activation('softmax') (model)\n",
        "\n",
        "model = Model([input_7, input_8, input_9], output)\n",
        "model.summary()"
      ],
      "execution_count": null,
      "outputs": [
        {
          "output_type": "stream",
          "text": [
            "Model: \"model_14\"\n",
            "__________________________________________________________________________________________________\n",
            "Layer (type)                    Output Shape         Param #     Connected to                     \n",
            "==================================================================================================\n",
            "input_52 (InputLayer)           [(None, 4)]          0                                            \n",
            "__________________________________________________________________________________________________\n",
            "input_53 (InputLayer)           [(None, 4)]          0                                            \n",
            "__________________________________________________________________________________________________\n",
            "input_54 (InputLayer)           [(None, 4)]          0                                            \n",
            "__________________________________________________________________________________________________\n",
            "concatenate_29 (Concatenate)    (None, 12)           0           input_52[0][0]                   \n",
            "                                                                 input_53[0][0]                   \n",
            "                                                                 input_54[0][0]                   \n",
            "__________________________________________________________________________________________________\n",
            "dense_94 (Dense)                (None, 32)           416         concatenate_29[0][0]             \n",
            "__________________________________________________________________________________________________\n",
            "activation_138 (Activation)     (None, 32)           0           dense_94[0][0]                   \n",
            "__________________________________________________________________________________________________\n",
            "dense_95 (Dense)                (None, 64)           2112        activation_138[0][0]             \n",
            "__________________________________________________________________________________________________\n",
            "activation_139 (Activation)     (None, 64)           0           dense_95[0][0]                   \n",
            "__________________________________________________________________________________________________\n",
            "dense_96 (Dense)                (None, 128)          8320        activation_139[0][0]             \n",
            "__________________________________________________________________________________________________\n",
            "activation_140 (Activation)     (None, 128)          0           dense_96[0][0]                   \n",
            "__________________________________________________________________________________________________\n",
            "dense_97 (Dense)                (None, 4)            516         activation_140[0][0]             \n",
            "__________________________________________________________________________________________________\n",
            "activation_141 (Activation)     (None, 4)            0           dense_97[0][0]                   \n",
            "==================================================================================================\n",
            "Total params: 11,364\n",
            "Trainable params: 11,364\n",
            "Non-trainable params: 0\n",
            "__________________________________________________________________________________________________\n"
          ],
          "name": "stdout"
        }
      ]
    },
    {
      "cell_type": "code",
      "metadata": {
        "colab": {
          "base_uri": "https://localhost:8080/"
        },
        "id": "RlRymXxfpV8z",
        "outputId": "ac39d64e-6e27-4703-a597-35699905d829"
      },
      "source": [
        "epochs = 10\n",
        "batch_size = int(len(X_train1)/ 12)\n",
        "\n",
        "datagen = ImageDataGenerator( shear_range=0.2, zoom_range=0.2, horizontal_flip=True)\n",
        "datagen.fit(X_train3)\n",
        "\n",
        "model.compile(loss= \"categorical_crossentropy\", optimizer=\"adam\", metrics=[\"accuracy\"])\n",
        "\n",
        "model.fit([y_pred1, y_pred2, y_pred3], y_train, batch_size = 32, \n",
        "          steps_per_epoch= int(len(y_pred1) / 32),\n",
        "          epochs=epochs)"
      ],
      "execution_count": null,
      "outputs": [
        {
          "output_type": "stream",
          "text": [
            "Epoch 1/10\n",
            "10/10 [==============================] - 0s 3ms/step - loss: 1.3880 - accuracy: 0.2312\n",
            "Epoch 2/10\n",
            "10/10 [==============================] - 0s 3ms/step - loss: 1.3852 - accuracy: 0.2687\n",
            "Epoch 3/10\n",
            "10/10 [==============================] - 0s 2ms/step - loss: 1.3873 - accuracy: 0.2283\n",
            "Epoch 4/10\n",
            "10/10 [==============================] - 0s 2ms/step - loss: 1.3849 - accuracy: 0.2932\n",
            "Epoch 5/10\n",
            "10/10 [==============================] - 0s 2ms/step - loss: 1.3873 - accuracy: 0.2562\n",
            "Epoch 6/10\n",
            "10/10 [==============================] - 0s 2ms/step - loss: 1.3855 - accuracy: 0.2831\n",
            "Epoch 7/10\n",
            "10/10 [==============================] - 0s 2ms/step - loss: 1.3842 - accuracy: 0.2793\n",
            "Epoch 8/10\n",
            "10/10 [==============================] - 0s 2ms/step - loss: 1.3864 - accuracy: 0.2832\n",
            "Epoch 9/10\n",
            "10/10 [==============================] - 0s 3ms/step - loss: 1.3796 - accuracy: 0.2883\n",
            "Epoch 10/10\n",
            "10/10 [==============================] - 0s 3ms/step - loss: 1.3848 - accuracy: 0.2543\n"
          ],
          "name": "stdout"
        },
        {
          "output_type": "execute_result",
          "data": {
            "text/plain": [
              "<tensorflow.python.keras.callbacks.History at 0x7fb253b5df10>"
            ]
          },
          "metadata": {
            "tags": []
          },
          "execution_count": 34
        }
      ]
    },
    {
      "cell_type": "code",
      "metadata": {
        "id": "5uFZNLS6p6Bk"
      },
      "source": [
        "y_fin1 = model_1.predict([X_test1, X_test2])\n",
        "y_fin2 = model_2.predict([X_test3, X_test4])\n",
        "y_fin3 = model_3.predict([X_test5, X_test6])\n",
        "\n",
        "y_pred_final = model.predict([y_fin1, y_fin2, y_fin3])\n",
        "np.argmax(y_pred_final, axis = 1)"
      ],
      "execution_count": null,
      "outputs": []
    },
    {
      "cell_type": "code",
      "metadata": {
        "colab": {
          "base_uri": "https://localhost:8080/"
        },
        "id": "kNOg7nJoqmKL",
        "outputId": "9d36d638-b173-4c67-8b83-30e7c33dc71f"
      },
      "source": [
        "np.argmax(y_pred_final, axis = 1)"
      ],
      "execution_count": null,
      "outputs": [
        {
          "output_type": "execute_result",
          "data": {
            "text/plain": [
              "array([3, 3, 3, 3, 3, 3, 3, 3, 3, 3, 3, 3, 3, 3, 3, 3, 3, 3, 3, 3, 3, 3,\n",
              "       3, 3, 3, 3, 3, 3, 3, 3, 3, 3, 3, 3, 3, 3, 3, 3, 3, 3, 3, 3, 3, 3,\n",
              "       3, 3, 3, 3, 3, 3, 3, 3, 3, 3, 3, 3, 3, 3, 3, 3, 3, 3, 3, 3, 3, 3,\n",
              "       3, 3, 3, 3, 3, 3, 3, 3, 3, 3, 3])"
            ]
          },
          "metadata": {
            "tags": []
          },
          "execution_count": 39
        }
      ]
    }
  ]
}