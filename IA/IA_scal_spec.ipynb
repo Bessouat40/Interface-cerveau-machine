{
  "nbformat": 4,
  "nbformat_minor": 0,
  "metadata": {
    "colab": {
      "name": "IA_scal_spec.ipynb",
      "provenance": [],
      "collapsed_sections": [
        "0gxB5eZV4gEx",
        "sGje2KZj-e-T"
      ]
    },
    "kernelspec": {
      "name": "python3",
      "display_name": "Python 3"
    },
    "language_info": {
      "name": "python"
    },
    "accelerator": "GPU"
  },
  "cells": [
    {
      "cell_type": "code",
      "metadata": {
        "id": "tSxg4_pCzsBb"
      },
      "source": [
        "import cv2\n",
        "import os\n",
        "import glob\n",
        "import matplotlib.pyplot as plt\n",
        "import numpy as np\n",
        "import seaborn as sns\n",
        "import pandas as pd\n",
        "\n",
        "import random\n",
        "\n",
        "# Deep Learning\n",
        "import keras\n",
        "import tensorflow as tf\n",
        "from keras.models import Sequential, Model\n",
        "from keras.layers import Dense,  SeparableConv2D, Conv2D , Conv3D, MaxPool3D, MaxPool2D , Flatten, Input, Concatenate, concatenate , Dropout , BatchNormalization, Activation\n",
        "from keras.preprocessing.image import ImageDataGenerator\n",
        "from sklearn.model_selection import train_test_split\n",
        "from sklearn.metrics import classification_report,confusion_matrix\n",
        "from keras.callbacks import ReduceLROnPlateau\n",
        "import cv2\n",
        "from keras.preprocessing.image import ImageDataGenerator"
      ],
      "execution_count": null,
      "outputs": []
    },
    {
      "cell_type": "code",
      "metadata": {
        "id": "9Ey7V5bo1F-P"
      },
      "source": [
        "from bibliotheque_projet import import_data, separation_data, creation_model, fit_model, creation_y"
      ],
      "execution_count": null,
      "outputs": []
    },
    {
      "cell_type": "code",
      "metadata": {
        "id": "tin-g8Il1PaM"
      },
      "source": [
        "labels = [\"1\" , \"2\" , \"3\" , \"4\"]\n",
        "electrodes = [\"C3\" , \"C4\" , \"Cz\"]\n",
        "\n",
        "racine_scalo = \"/content/drive/MyDrive/Projet_E4_Interface_Cerveau_Machine/Bases de données EEG/Bases de données/bdd_scalo\"\n",
        "racine_spectro = \"/content/drive/MyDrive/Projet_E4_Interface_Cerveau_Machine/Bases de données EEG/Bases de données/bdd_spectro\""
      ],
      "execution_count": null,
      "outputs": []
    },
    {
      "cell_type": "markdown",
      "metadata": {
        "id": "0gxB5eZV4gEx"
      },
      "source": [
        "# Importation des données"
      ]
    },
    {
      "cell_type": "code",
      "metadata": {
        "id": "oKQokEB52Rf7",
        "colab": {
          "base_uri": "https://localhost:8080/"
        },
        "outputId": "073d10c6-d9d6-4921-b829-b0fb7e3fbf56"
      },
      "source": [
        "data_scalo = import_data(electrodes[0], racine_scalo, labels)\n",
        "X_train1, X_test1, X_val1, y_train1, y_test1, y_val1 = separation_data(data_scalo)\n",
        "print(X_train1.shape)\n",
        "\n",
        "data_spectro = import_data(electrodes[0], racine_spectro, labels)\n",
        "X_train2, X_test2, X_val2, y_train2, y_test2, y_val2 = separation_data(data_spectro)\n",
        "print(X_train2.shape)\n",
        "\n",
        "data_scalo2 = import_data(electrodes[1], racine_scalo, labels)\n",
        "X_train3, X_test3, X_val3, y_train3, y_test3, y_val3 = separation_data(data_scalo)\n",
        "print(X_train3.shape)\n",
        "\n",
        "data_spectro2 = import_data(electrodes[1], racine_spectro, labels)\n",
        "X_train4, X_test4, X_val4, y_train4, y_test4, y_val4 = separation_data(data_spectro)\n",
        "print(X_train3.shape)\n",
        "\n",
        "data_scalo3 = import_data(electrodes[2], racine_scalo, labels)\n",
        "X_train5, X_test5, X_val5, y_train5, y_test5, y_val5 = separation_data(data_scalo)\n",
        "print(X_train5.shape)\n",
        "\n",
        "data_spectro3 = import_data(electrodes[2], racine_spectro, labels)\n",
        "X_train6, X_test6, X_val6, y_train6, y_test6, y_val6 = separation_data(data_spectro)\n",
        "print(X_train6.shape)"
      ],
      "execution_count": null,
      "outputs": [
        {
          "output_type": "stream",
          "text": [
            "(326, 250, 250, 3)\n",
            "(326, 250, 250, 3)\n",
            "(326, 250, 250, 3)\n",
            "(326, 250, 250, 3)\n",
            "(326, 250, 250, 3)\n",
            "(326, 250, 250, 3)\n"
          ],
          "name": "stdout"
        }
      ]
    },
    {
      "cell_type": "code",
      "metadata": {
        "id": "sQJnDmRPtMGA"
      },
      "source": [
        "y_train = creation_y(y_train1)\n",
        "y_test = creation_y(y_test1)\n",
        "y_val = creation_y(y_val1)"
      ],
      "execution_count": null,
      "outputs": []
    },
    {
      "cell_type": "markdown",
      "metadata": {
        "id": "sGje2KZj-e-T"
      },
      "source": [
        "# On définit notre premier modèle"
      ]
    },
    {
      "cell_type": "markdown",
      "metadata": {
        "id": "lCyjD7Iw-i_6"
      },
      "source": [
        "Notre modèle va prendre 6 entrées:\n",
        "- l'image du scalogramme et du spectrogramme de l'électrode C3,\n",
        "- l'image du scalogramme et du spectrogramme de l'électrode C4,\n",
        "- l'image du scalogramme et du spectrogramme de l'électrode Cz"
      ]
    },
    {
      "cell_type": "code",
      "metadata": {
        "id": "--xoO9lB-eRx",
        "colab": {
          "base_uri": "https://localhost:8080/"
        },
        "outputId": "18f98d30-d801-42bf-c05a-917dae1f4233"
      },
      "source": [
        "shape = np.shape(X_train1)\n",
        "\n",
        "input_1 = Input(shape=shape[1:])\n",
        "input_2 = Input(shape=shape[1:])\n",
        "input_3 = Input(shape=shape[1:])\n",
        "input_4 = Input(shape=shape[1:])\n",
        "input_5 = Input(shape=shape[1:])\n",
        "input_6 = Input(shape=shape[1:])\n",
        "\n",
        "model = concatenate([input_1, input_2, input_3, input_4, input_5, input_6], axis = -1)\n",
        "\n",
        "model = Conv2D(16, (3,3)) (model)\n",
        "model = Activation(\"relu\") (model)\n",
        "model = MaxPool2D(16, (2,2)) (model)\n",
        "model = Activation('relu') (model)\n",
        "model = Dense(16) (model)\n",
        "model = Dropout(0.2) (model)\n",
        "\n",
        "model = Conv2D(32, (3,3)) (model)\n",
        "model = Activation(\"relu\") (model)\n",
        "model = MaxPool2D(32, (2,2)) (model)\n",
        "model = Activation('relu') (model)\n",
        "model = Dense(32) (model)\n",
        "model = Dropout(0.2) (model)\n",
        "\n",
        "model = Conv2D(64, (3,3)) (model)\n",
        "model = Activation(\"relu\") (model)\n",
        "model = MaxPool2D(64, (2,2)) (model)\n",
        "model = Activation('relu') (model)\n",
        "model = Dense(64) (model)\n",
        "model = Dropout(0.25) (model)\n",
        "\n",
        "model = Flatten() (model)\n",
        "model = Dense(64) (model)\n",
        "model = Activation('relu') (model)\n",
        "model = Dropout(0.5) (model)\n",
        "model = Dense(4) (model)\n",
        "\n",
        "output = Activation('softmax') (model)\n",
        "\n",
        "model = Model([input_1, input_3, input_5], output)\n",
        "\n",
        "model.summary()"
      ],
      "execution_count": null,
      "outputs": [
        {
          "output_type": "stream",
          "text": [
            "Model: \"model\"\n",
            "__________________________________________________________________________________________________\n",
            "Layer (type)                    Output Shape         Param #     Connected to                     \n",
            "==================================================================================================\n",
            "input_13 (InputLayer)           [(None, 250, 250, 3) 0                                            \n",
            "__________________________________________________________________________________________________\n",
            "input_15 (InputLayer)           [(None, 250, 250, 3) 0                                            \n",
            "__________________________________________________________________________________________________\n",
            "input_17 (InputLayer)           [(None, 250, 250, 3) 0                                            \n",
            "__________________________________________________________________________________________________\n",
            "concatenate_2 (Concatenate)     (None, 250, 250, 9)  0           input_13[0][0]                   \n",
            "                                                                 input_15[0][0]                   \n",
            "                                                                 input_17[0][0]                   \n",
            "__________________________________________________________________________________________________\n",
            "conv2d_6 (Conv2D)               (None, 248, 248, 32) 2624        concatenate_2[0][0]              \n",
            "__________________________________________________________________________________________________\n",
            "activation_10 (Activation)      (None, 248, 248, 32) 0           conv2d_6[0][0]                   \n",
            "__________________________________________________________________________________________________\n",
            "max_pooling2d_6 (MaxPooling2D)  (None, 109, 109, 32) 0           activation_10[0][0]              \n",
            "__________________________________________________________________________________________________\n",
            "activation_11 (Activation)      (None, 109, 109, 32) 0           max_pooling2d_6[0][0]            \n",
            "__________________________________________________________________________________________________\n",
            "dense_4 (Dense)                 (None, 109, 109, 32) 1056        activation_11[0][0]              \n",
            "__________________________________________________________________________________________________\n",
            "dropout_4 (Dropout)             (None, 109, 109, 32) 0           dense_4[0][0]                    \n",
            "__________________________________________________________________________________________________\n",
            "conv2d_7 (Conv2D)               (None, 107, 107, 64) 18496       dropout_4[0][0]                  \n",
            "__________________________________________________________________________________________________\n",
            "activation_12 (Activation)      (None, 107, 107, 64) 0           conv2d_7[0][0]                   \n",
            "__________________________________________________________________________________________________\n",
            "max_pooling2d_7 (MaxPooling2D)  (None, 22, 22, 64)   0           activation_12[0][0]              \n",
            "__________________________________________________________________________________________________\n",
            "activation_13 (Activation)      (None, 22, 22, 64)   0           max_pooling2d_7[0][0]            \n",
            "__________________________________________________________________________________________________\n",
            "dense_5 (Dense)                 (None, 22, 22, 64)   4160        activation_13[0][0]              \n",
            "__________________________________________________________________________________________________\n",
            "dropout_5 (Dropout)             (None, 22, 22, 64)   0           dense_5[0][0]                    \n",
            "__________________________________________________________________________________________________\n",
            "flatten (Flatten)               (None, 30976)        0           dropout_5[0][0]                  \n",
            "__________________________________________________________________________________________________\n",
            "dense_6 (Dense)                 (None, 64)           1982528     flatten[0][0]                    \n",
            "__________________________________________________________________________________________________\n",
            "activation_14 (Activation)      (None, 64)           0           dense_6[0][0]                    \n",
            "__________________________________________________________________________________________________\n",
            "dropout_6 (Dropout)             (None, 64)           0           activation_14[0][0]              \n",
            "__________________________________________________________________________________________________\n",
            "dense_7 (Dense)                 (None, 4)            260         dropout_6[0][0]                  \n",
            "__________________________________________________________________________________________________\n",
            "activation_15 (Activation)      (None, 4)            0           dense_7[0][0]                    \n",
            "==================================================================================================\n",
            "Total params: 2,009,124\n",
            "Trainable params: 2,009,124\n",
            "Non-trainable params: 0\n",
            "__________________________________________________________________________________________________\n"
          ],
          "name": "stdout"
        }
      ]
    },
    {
      "cell_type": "markdown",
      "metadata": {
        "id": "xSrWzzQOq3rF"
      },
      "source": [
        "# Entrainement d'un modele qui prend en entrée la prédiction de 3 autres"
      ]
    },
    {
      "cell_type": "markdown",
      "metadata": {
        "id": "RKYBHqnPmerp"
      },
      "source": [
        "**Entraînement des 3 modèles**"
      ]
    },
    {
      "cell_type": "code",
      "metadata": {
        "id": "0JIlXszrfA2q"
      },
      "source": [
        "shape = np.shape(X_train1)\n",
        "\n",
        "input_1 = Input(shape=shape[1:])\n",
        "input_2 = Input(shape=shape[1:])\n",
        "input_3 = Input(shape=shape[1:])\n",
        "input_4 = Input(shape=shape[1:])\n",
        "input_5 = Input(shape=shape[1:])\n",
        "input_6 = Input(shape=shape[1:])\n",
        "\n",
        "#modele 1\n",
        "model_1 = concatenate([input_1, input_2], axis = -1)\n",
        "model_1 = Conv2D(32, (3,3)) (model_1)\n",
        "model_1 = Activation(\"relu\") (model_1)\n",
        "model_1 = MaxPool2D(32, (2,2)) (model_1)\n",
        "model_1 = Activation('relu') (model_1)\n",
        "model_1 = Dense(32) (model_1)\n",
        "model_1 = Dropout(0.2) (model_1)\n",
        "\n",
        "model_1 = Conv2D(64, (3,3)) (model_1)\n",
        "model_1 = Activation(\"relu\") (model_1)\n",
        "model_1 = MaxPool2D(64, (2,2)) (model_1)\n",
        "model_1 = Activation('relu') (model_1)\n",
        "model_1 = Dense(64) (model_1)\n",
        "model_1 = Dropout(0.25) (model_1)\n",
        "\n",
        "model_1 = Flatten() (model_1)\n",
        "model_1 = Dense(64) (model_1)\n",
        "model_1 = Activation('relu') (model_1)\n",
        "model_1 = Dropout(0.5) (model_1)\n",
        "model_1 = Dense(4) (model_1)\n",
        "\n",
        "output_1 = Activation('softmax') (model_1)\n",
        "\n",
        "model_1 = Model([input_1, input_2], output_1)\n",
        "\n",
        "#modele2\n",
        "model_2 = concatenate([input_3, input_4], axis = -1)\n",
        "model_2 = Conv2D(32, (3,3)) (model_2)\n",
        "model_2 = Activation(\"relu\") (model_2)\n",
        "model_2 = MaxPool2D(32, (2,2)) (model_2)\n",
        "model_2 = Activation('relu') (model_2)\n",
        "model_2 = Dense(32) (model_2)\n",
        "model_2 = Dropout(0.2) (model_2)\n",
        "\n",
        "model_2 = Conv2D(64, (3,3)) (model_2)\n",
        "model_2 = Activation(\"relu\") (model_2)\n",
        "model_2 = MaxPool2D(64, (2,2)) (model_2)\n",
        "model_2 = Activation('relu') (model_2)\n",
        "model_2 = Dense(64) (model_2)\n",
        "model_2 = Dropout(0.25) (model_2)\n",
        "\n",
        "model_2 = Flatten() (model_2)\n",
        "model_2 = Dense(64) (model_2)\n",
        "model_2 = Activation('relu') (model_2)\n",
        "model_2 = Dropout(0.5) (model_2)\n",
        "model_2 = Dense(4) (model_2)\n",
        "\n",
        "output_2 = Activation('softmax') (model_2)\n",
        "\n",
        "model_2 = Model([input_3, input_4], output_2)\n",
        "\n",
        "#modele3\n",
        "model_3 = concatenate([input_5, input_6], axis = -1)\n",
        "model_3 = Conv2D(32, (3,3)) (model_3)\n",
        "model_3 = Activation(\"relu\") (model_3)\n",
        "model_3 = MaxPool2D(32, (2,2)) (model_3)\n",
        "model_3 = Activation('relu') (model_3)\n",
        "model_3 = Dense(32) (model_3)\n",
        "model_3 = Dropout(0.2) (model_3)\n",
        "\n",
        "model_3 = Conv2D(64, (3,3)) (model_3)\n",
        "model_3 = Activation(\"relu\") (model_3)\n",
        "model_3 = MaxPool2D(64, (2,2)) (model_3)\n",
        "model_3 = Activation('relu') (model_3)\n",
        "model_3 = Dense(64) (model_3)\n",
        "model_3 = Dropout(0.25) (model_3)\n",
        "\n",
        "model_3 = Flatten() (model_3)\n",
        "model_3 = Dense(64) (model_3)\n",
        "model_3 = Activation('relu') (model_3)\n",
        "model_3 = Dropout(0.5) (model_3)\n",
        "model_3 = Dense(4) (model_3)\n",
        "\n",
        "output_3 = Activation('softmax') (model_3)\n",
        "\n",
        "model_3 = Model([input_5, input_6], output_3)"
      ],
      "execution_count": null,
      "outputs": []
    },
    {
      "cell_type": "code",
      "metadata": {
        "id": "EapcE5f4HR2_",
        "colab": {
          "base_uri": "https://localhost:8080/"
        },
        "outputId": "16ebbe4d-d9c4-4a67-8eef-a1c584d4ad36"
      },
      "source": [
        "epochs = 10\n",
        "batch_size = int(len(X_train1)/ 12)\n",
        "\n",
        "datagen = ImageDataGenerator( shear_range=0.2, zoom_range=0.2, horizontal_flip=True)\n",
        "datagen.fit(X_train1)\n",
        "\n",
        "model_1.compile(loss= \"categorical_crossentropy\", optimizer=\"adam\", metrics=[\"accuracy\"])\n",
        "\n",
        "model_1.fit(datagen.flow([X_train1, X_train2], y_train, batch_size = 32), \n",
        "          steps_per_epoch= int(len(X_train1) / 32),\n",
        "          epochs=epochs,\n",
        "          validation_data = ([X_val1, X_val2], y_val))"
      ],
      "execution_count": null,
      "outputs": [
        {
          "output_type": "stream",
          "text": [
            "Epoch 1/10\n",
            "10/10 [==============================] - 38s 487ms/step - loss: 6.7069 - accuracy: 0.2778 - val_loss: 2.5282 - val_accuracy: 0.0000e+00\n",
            "Epoch 2/10\n",
            "10/10 [==============================] - 4s 435ms/step - loss: 1.4524 - accuracy: 0.2577 - val_loss: 1.4211 - val_accuracy: 0.0000e+00\n",
            "Epoch 3/10\n",
            "10/10 [==============================] - 4s 431ms/step - loss: 1.4011 - accuracy: 0.2730 - val_loss: 2.7067 - val_accuracy: 0.0000e+00\n",
            "Epoch 4/10\n",
            "10/10 [==============================] - 4s 427ms/step - loss: 1.3953 - accuracy: 0.2613 - val_loss: 2.6554 - val_accuracy: 0.0000e+00\n",
            "Epoch 5/10\n",
            "10/10 [==============================] - 4s 425ms/step - loss: 1.3863 - accuracy: 0.2628 - val_loss: 1.8516 - val_accuracy: 0.0000e+00\n",
            "Epoch 6/10\n",
            "10/10 [==============================] - 4s 424ms/step - loss: 1.3863 - accuracy: 0.2665 - val_loss: 1.7018 - val_accuracy: 0.0000e+00\n",
            "Epoch 7/10\n",
            "10/10 [==============================] - 4s 477ms/step - loss: 1.3865 - accuracy: 0.2418 - val_loss: 1.6551 - val_accuracy: 0.0000e+00\n",
            "Epoch 8/10\n",
            "10/10 [==============================] - 4s 423ms/step - loss: 1.3866 - accuracy: 0.2193 - val_loss: 1.6387 - val_accuracy: 0.0000e+00\n",
            "Epoch 9/10\n",
            "10/10 [==============================] - 4s 427ms/step - loss: 1.3863 - accuracy: 0.2525 - val_loss: 1.6312 - val_accuracy: 0.0000e+00\n",
            "Epoch 10/10\n",
            "10/10 [==============================] - 4s 417ms/step - loss: 1.3859 - accuracy: 0.2777 - val_loss: 1.6263 - val_accuracy: 0.0000e+00\n"
          ],
          "name": "stdout"
        },
        {
          "output_type": "execute_result",
          "data": {
            "text/plain": [
              "<tensorflow.python.keras.callbacks.History at 0x7fb1f761aa10>"
            ]
          },
          "metadata": {
            "tags": []
          },
          "execution_count": 18
        }
      ]
    },
    {
      "cell_type": "code",
      "metadata": {
        "id": "Cvoi9fiImyk_"
      },
      "source": [
        "model_1.save('model_C3.h5')"
      ],
      "execution_count": null,
      "outputs": []
    },
    {
      "cell_type": "code",
      "metadata": {
        "colab": {
          "base_uri": "https://localhost:8080/"
        },
        "id": "tNc_Zjw-mdv7",
        "outputId": "c463200d-00ea-4589-d20d-045397bb4904"
      },
      "source": [
        "epochs = 10\n",
        "batch_size = int(len(X_train1)/ 12)\n",
        "\n",
        "datagen = ImageDataGenerator( shear_range=0.2, zoom_range=0.2, horizontal_flip=True)\n",
        "datagen.fit(X_train3)\n",
        "\n",
        "model_2.compile(loss= \"categorical_crossentropy\", optimizer=\"adam\", metrics=[\"accuracy\"])\n",
        "\n",
        "model_2.fit(datagen.flow([X_train3, X_train4], y_train, batch_size = 32), \n",
        "          steps_per_epoch= int(len(X_train3) / 32),\n",
        "          epochs=epochs,\n",
        "          validation_data = ([X_val3, X_val4], y_val))"
      ],
      "execution_count": null,
      "outputs": [
        {
          "output_type": "stream",
          "text": [
            "Epoch 1/10\n",
            "10/10 [==============================] - 5s 450ms/step - loss: 5.5476 - accuracy: 0.2327 - val_loss: 8.5635 - val_accuracy: 0.0000e+00\n",
            "Epoch 2/10\n",
            "10/10 [==============================] - 4s 426ms/step - loss: 1.9554 - accuracy: 0.1969 - val_loss: 1.3863 - val_accuracy: 0.0000e+00\n",
            "Epoch 3/10\n",
            "10/10 [==============================] - 4s 422ms/step - loss: 1.3902 - accuracy: 0.3003 - val_loss: 1.3531 - val_accuracy: 0.6000\n",
            "Epoch 4/10\n",
            "10/10 [==============================] - 4s 428ms/step - loss: 1.3862 - accuracy: 0.2862 - val_loss: 1.3863 - val_accuracy: 0.2000\n",
            "Epoch 5/10\n",
            "10/10 [==============================] - 4s 417ms/step - loss: 1.3862 - accuracy: 0.2736 - val_loss: 1.3879 - val_accuracy: 0.0000e+00\n",
            "Epoch 6/10\n",
            "10/10 [==============================] - 5s 458ms/step - loss: 1.3863 - accuracy: 0.2560 - val_loss: 1.3877 - val_accuracy: 0.0000e+00\n",
            "Epoch 7/10\n",
            "10/10 [==============================] - 4s 466ms/step - loss: 1.3862 - accuracy: 0.2783 - val_loss: 1.3882 - val_accuracy: 0.0000e+00\n",
            "Epoch 8/10\n",
            "10/10 [==============================] - 4s 426ms/step - loss: 1.3864 - accuracy: 0.2475 - val_loss: 1.3880 - val_accuracy: 0.0000e+00\n",
            "Epoch 9/10\n",
            "10/10 [==============================] - 4s 429ms/step - loss: 1.3861 - accuracy: 0.2691 - val_loss: 1.3887 - val_accuracy: 0.0000e+00\n",
            "Epoch 10/10\n",
            "10/10 [==============================] - 4s 415ms/step - loss: 1.3863 - accuracy: 0.2467 - val_loss: 1.3887 - val_accuracy: 0.0000e+00\n"
          ],
          "name": "stdout"
        },
        {
          "output_type": "execute_result",
          "data": {
            "text/plain": [
              "<tensorflow.python.keras.callbacks.History at 0x7fb202e54b90>"
            ]
          },
          "metadata": {
            "tags": []
          },
          "execution_count": 21
        }
      ]
    },
    {
      "cell_type": "code",
      "metadata": {
        "id": "P4xCn_BtnQJ2"
      },
      "source": [
        "model_2.save('model_C4.h5')"
      ],
      "execution_count": null,
      "outputs": []
    },
    {
      "cell_type": "code",
      "metadata": {
        "colab": {
          "base_uri": "https://localhost:8080/"
        },
        "id": "z7NJ2IkTngJn",
        "outputId": "f025a669-413c-4812-9ff5-ce3a795c08c3"
      },
      "source": [
        "epochs = 10\n",
        "batch_size = int(len(X_train1)/ 12)\n",
        "\n",
        "datagen = ImageDataGenerator( shear_range=0.2, zoom_range=0.2, horizontal_flip=True)\n",
        "datagen.fit(X_train5)\n",
        "\n",
        "model_3.compile(loss= \"categorical_crossentropy\", optimizer=\"adam\", metrics=[\"accuracy\"])\n",
        "\n",
        "model_3.fit(datagen.flow([X_train5, X_train6], y_train, batch_size = 32), \n",
        "          steps_per_epoch= int(len(X_train5) / 32),\n",
        "          epochs=epochs,\n",
        "          validation_data = ([X_val5, X_val6], y_val))"
      ],
      "execution_count": null,
      "outputs": [
        {
          "output_type": "stream",
          "text": [
            "Epoch 1/10\n",
            "10/10 [==============================] - 5s 498ms/step - loss: 5.3041 - accuracy: 0.1990 - val_loss: 1.6418 - val_accuracy: 0.0000e+00\n",
            "Epoch 2/10\n",
            "10/10 [==============================] - 4s 423ms/step - loss: 1.5206 - accuracy: 0.2431 - val_loss: 1.3489 - val_accuracy: 0.2000\n",
            "Epoch 3/10\n",
            "10/10 [==============================] - 4s 422ms/step - loss: 1.4147 - accuracy: 0.2680 - val_loss: 1.3845 - val_accuracy: 0.8000\n",
            "Epoch 4/10\n",
            "10/10 [==============================] - 4s 426ms/step - loss: 1.3863 - accuracy: 0.2499 - val_loss: 1.3836 - val_accuracy: 0.8000\n",
            "Epoch 5/10\n",
            "10/10 [==============================] - 4s 423ms/step - loss: 1.3903 - accuracy: 0.2434 - val_loss: 1.3831 - val_accuracy: 0.8000\n",
            "Epoch 6/10\n",
            "10/10 [==============================] - 4s 425ms/step - loss: 1.3864 - accuracy: 0.2374 - val_loss: 1.3840 - val_accuracy: 0.8000\n",
            "Epoch 7/10\n",
            "10/10 [==============================] - 4s 414ms/step - loss: 1.3862 - accuracy: 0.2522 - val_loss: 1.3841 - val_accuracy: 0.8000\n",
            "Epoch 8/10\n",
            "10/10 [==============================] - 5s 450ms/step - loss: 1.3861 - accuracy: 0.2817 - val_loss: 1.3827 - val_accuracy: 0.8000\n",
            "Epoch 9/10\n",
            "10/10 [==============================] - 4s 413ms/step - loss: 1.3859 - accuracy: 0.3037 - val_loss: 1.3817 - val_accuracy: 0.8000\n",
            "Epoch 10/10\n",
            "10/10 [==============================] - 5s 451ms/step - loss: 1.3865 - accuracy: 0.2256 - val_loss: 1.3816 - val_accuracy: 0.8000\n"
          ],
          "name": "stdout"
        },
        {
          "output_type": "execute_result",
          "data": {
            "text/plain": [
              "<tensorflow.python.keras.callbacks.History at 0x7fb2036fe590>"
            ]
          },
          "metadata": {
            "tags": []
          },
          "execution_count": 23
        }
      ]
    },
    {
      "cell_type": "code",
      "metadata": {
        "id": "nRj2txb3nwXB"
      },
      "source": [
        "model_3.save('model_Cz.h5')"
      ],
      "execution_count": null,
      "outputs": []
    },
    {
      "cell_type": "code",
      "metadata": {
        "id": "55I5sl-En_zz"
      },
      "source": [
        "y_pred1 = model_1.predict([X_train1, X_train2])\n",
        "y_pred2 = model_2.predict([X_train3, X_train4])\n",
        "y_pred3 = model_3.predict([X_train5, X_train6])"
      ],
      "execution_count": null,
      "outputs": []
    },
    {
      "cell_type": "code",
      "metadata": {
        "colab": {
          "base_uri": "https://localhost:8080/"
        },
        "id": "6fAhhT4coasU",
        "outputId": "2f639e3b-df44-4c8b-b024-8c573ae05332"
      },
      "source": [
        "y_pred1.shape"
      ],
      "execution_count": null,
      "outputs": [
        {
          "output_type": "execute_result",
          "data": {
            "text/plain": [
              "(326, 4)"
            ]
          },
          "metadata": {
            "tags": []
          },
          "execution_count": 26
        }
      ]
    },
    {
      "cell_type": "code",
      "metadata": {
        "colab": {
          "base_uri": "https://localhost:8080/"
        },
        "id": "vrQ5fRm5mJ9N",
        "outputId": "6781881d-31b0-4c60-c9d7-6729a0b3a8f9"
      },
      "source": [
        "shape_finale = y_pred1.shape\n",
        "\n",
        "input_7 = Input(shape_finale[1])\n",
        "input_8 = Input(shape_finale[1])\n",
        "input_9 = Input(shape_finale[1])\n",
        "\n",
        "model = concatenate([input_7, input_8, input_9], axis = -1)\n",
        "\n",
        "model = Dense(32) (model)\n",
        "model = Activation('relu') (model)\n",
        "model = Dense(64) (model)\n",
        "model = Activation('relu') (model)\n",
        "model = Dense(128) (model)\n",
        "model = Activation('relu') (model)\n",
        "model = Dense(4) (model)\n",
        "output = Activation('softmax') (model)\n",
        "\n",
        "model = Model([input_7, input_8, input_9], output)\n",
        "model.summary()"
      ],
      "execution_count": null,
      "outputs": [
        {
          "output_type": "stream",
          "text": [
            "Model: \"model_14\"\n",
            "__________________________________________________________________________________________________\n",
            "Layer (type)                    Output Shape         Param #     Connected to                     \n",
            "==================================================================================================\n",
            "input_52 (InputLayer)           [(None, 4)]          0                                            \n",
            "__________________________________________________________________________________________________\n",
            "input_53 (InputLayer)           [(None, 4)]          0                                            \n",
            "__________________________________________________________________________________________________\n",
            "input_54 (InputLayer)           [(None, 4)]          0                                            \n",
            "__________________________________________________________________________________________________\n",
            "concatenate_29 (Concatenate)    (None, 12)           0           input_52[0][0]                   \n",
            "                                                                 input_53[0][0]                   \n",
            "                                                                 input_54[0][0]                   \n",
            "__________________________________________________________________________________________________\n",
            "dense_94 (Dense)                (None, 32)           416         concatenate_29[0][0]             \n",
            "__________________________________________________________________________________________________\n",
            "activation_138 (Activation)     (None, 32)           0           dense_94[0][0]                   \n",
            "__________________________________________________________________________________________________\n",
            "dense_95 (Dense)                (None, 64)           2112        activation_138[0][0]             \n",
            "__________________________________________________________________________________________________\n",
            "activation_139 (Activation)     (None, 64)           0           dense_95[0][0]                   \n",
            "__________________________________________________________________________________________________\n",
            "dense_96 (Dense)                (None, 128)          8320        activation_139[0][0]             \n",
            "__________________________________________________________________________________________________\n",
            "activation_140 (Activation)     (None, 128)          0           dense_96[0][0]                   \n",
            "__________________________________________________________________________________________________\n",
            "dense_97 (Dense)                (None, 4)            516         activation_140[0][0]             \n",
            "__________________________________________________________________________________________________\n",
            "activation_141 (Activation)     (None, 4)            0           dense_97[0][0]                   \n",
            "==================================================================================================\n",
            "Total params: 11,364\n",
            "Trainable params: 11,364\n",
            "Non-trainable params: 0\n",
            "__________________________________________________________________________________________________\n"
          ],
          "name": "stdout"
        }
      ]
    },
    {
      "cell_type": "code",
      "metadata": {
        "colab": {
          "base_uri": "https://localhost:8080/"
        },
        "id": "RlRymXxfpV8z",
        "outputId": "ac39d64e-6e27-4703-a597-35699905d829"
      },
      "source": [
        "epochs = 10\n",
        "batch_size = int(len(X_train1)/ 12)\n",
        "\n",
        "datagen = ImageDataGenerator( shear_range=0.2, zoom_range=0.2, horizontal_flip=True)\n",
        "datagen.fit(X_train3)\n",
        "\n",
        "model.compile(loss= \"categorical_crossentropy\", optimizer=\"adam\", metrics=[\"accuracy\"])\n",
        "\n",
        "model.fit([y_pred1, y_pred2, y_pred3], y_train, batch_size = 32, \n",
        "          steps_per_epoch= int(len(y_pred1) / 32),\n",
        "          epochs=epochs)"
      ],
      "execution_count": null,
      "outputs": [
        {
          "output_type": "stream",
          "text": [
            "Epoch 1/10\n",
            "10/10 [==============================] - 0s 3ms/step - loss: 1.3880 - accuracy: 0.2312\n",
            "Epoch 2/10\n",
            "10/10 [==============================] - 0s 3ms/step - loss: 1.3852 - accuracy: 0.2687\n",
            "Epoch 3/10\n",
            "10/10 [==============================] - 0s 2ms/step - loss: 1.3873 - accuracy: 0.2283\n",
            "Epoch 4/10\n",
            "10/10 [==============================] - 0s 2ms/step - loss: 1.3849 - accuracy: 0.2932\n",
            "Epoch 5/10\n",
            "10/10 [==============================] - 0s 2ms/step - loss: 1.3873 - accuracy: 0.2562\n",
            "Epoch 6/10\n",
            "10/10 [==============================] - 0s 2ms/step - loss: 1.3855 - accuracy: 0.2831\n",
            "Epoch 7/10\n",
            "10/10 [==============================] - 0s 2ms/step - loss: 1.3842 - accuracy: 0.2793\n",
            "Epoch 8/10\n",
            "10/10 [==============================] - 0s 2ms/step - loss: 1.3864 - accuracy: 0.2832\n",
            "Epoch 9/10\n",
            "10/10 [==============================] - 0s 3ms/step - loss: 1.3796 - accuracy: 0.2883\n",
            "Epoch 10/10\n",
            "10/10 [==============================] - 0s 3ms/step - loss: 1.3848 - accuracy: 0.2543\n"
          ],
          "name": "stdout"
        },
        {
          "output_type": "execute_result",
          "data": {
            "text/plain": [
              "<tensorflow.python.keras.callbacks.History at 0x7fb253b5df10>"
            ]
          },
          "metadata": {
            "tags": []
          },
          "execution_count": 34
        }
      ]
    },
    {
      "cell_type": "code",
      "metadata": {
        "id": "5uFZNLS6p6Bk"
      },
      "source": [
        "y_fin1 = model_1.predict([X_test1, X_test2])\n",
        "y_fin2 = model_2.predict([X_test3, X_test4])\n",
        "y_fin3 = model_3.predict([X_test5, X_test6])\n",
        "\n",
        "y_pred_final = model.predict([y_fin1, y_fin2, y_fin3])"
      ],
      "execution_count": null,
      "outputs": []
    },
    {
      "cell_type": "code",
      "metadata": {
        "colab": {
          "base_uri": "https://localhost:8080/"
        },
        "id": "kNOg7nJoqmKL",
        "outputId": "9d36d638-b173-4c67-8b83-30e7c33dc71f"
      },
      "source": [
        "np.argmax(y_pred_final, axis = 1)"
      ],
      "execution_count": null,
      "outputs": [
        {
          "output_type": "execute_result",
          "data": {
            "text/plain": [
              "array([3, 3, 3, 3, 3, 3, 3, 3, 3, 3, 3, 3, 3, 3, 3, 3, 3, 3, 3, 3, 3, 3,\n",
              "       3, 3, 3, 3, 3, 3, 3, 3, 3, 3, 3, 3, 3, 3, 3, 3, 3, 3, 3, 3, 3, 3,\n",
              "       3, 3, 3, 3, 3, 3, 3, 3, 3, 3, 3, 3, 3, 3, 3, 3, 3, 3, 3, 3, 3, 3,\n",
              "       3, 3, 3, 3, 3, 3, 3, 3, 3, 3, 3])"
            ]
          },
          "metadata": {
            "tags": []
          },
          "execution_count": 39
        }
      ]
    }
  ]
}