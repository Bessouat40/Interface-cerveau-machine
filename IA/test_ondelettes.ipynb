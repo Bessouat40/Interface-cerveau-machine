{
  "nbformat": 4,
  "nbformat_minor": 0,
  "metadata": {
    "colab": {
      "name": "test_ondelettes.ipynb",
      "provenance": [],
      "collapsed_sections": []
    },
    "kernelspec": {
      "name": "python3",
      "display_name": "Python 3"
    },
    "language_info": {
      "name": "python"
    },
    "accelerator": "GPU"
  },
  "cells": [
    {
      "cell_type": "code",
      "metadata": {
        "id": "wM7rsn4tdCBW"
      },
      "source": [
        "import cv2\n",
        "import os\n",
        "import glob\n",
        "import matplotlib.pyplot as plt\n",
        "import numpy as np\n",
        "import seaborn as sns\n",
        "import pandas as pd\n",
        "\n",
        "import random\n",
        "\n",
        "# Deep Learning\n",
        "import keras\n",
        "import tensorflow as tf\n",
        "from keras.models import Sequential, Model\n",
        "from keras.layers import Dense,  SeparableConv2D, Conv2D , Conv3D, MaxPool3D, MaxPool2D , Flatten, Input, Concatenate, concatenate , Dropout , BatchNormalization, Activation\n",
        "from keras.preprocessing.image import ImageDataGenerator\n",
        "from sklearn.model_selection import train_test_split\n",
        "from sklearn.metrics import classification_report,confusion_matrix\n",
        "from keras.callbacks import ReduceLROnPlateau\n",
        "import cv2\n",
        "from keras.preprocessing.image import ImageDataGenerator"
      ],
      "execution_count": 1,
      "outputs": []
    },
    {
      "cell_type": "code",
      "metadata": {
        "id": "dSYDOuoCdT2E"
      },
      "source": [
        "from bibliotheque_projet import import_data, separation_data, creation_model, fit_model, creation_y"
      ],
      "execution_count": 6,
      "outputs": []
    },
    {
      "cell_type": "code",
      "metadata": {
        "id": "phgBLF1Mdcev"
      },
      "source": [
        "labels = [\"1\" , \"2\" , \"3\" , \"4\"]\n",
        "electrodes = [\"C3\" , \"C4\" , \"Cz\"]\n",
        "\n",
        "racine_ondelettes = \"/content/drive/MyDrive/Projet_E4_Interface_Cerveau_Machine/Bases de données EEG/Bases de données/bdd_ondelettes\""
      ],
      "execution_count": 7,
      "outputs": []
    },
    {
      "cell_type": "code",
      "metadata": {
        "colab": {
          "base_uri": "https://localhost:8080/"
        },
        "id": "qmodK1CpdglW",
        "outputId": "7cda664f-1b1a-44c8-a839-d71745bb6fe4"
      },
      "source": [
        "data_scalo = import_data(electrodes[0], racine_ondelettes, labels)\n",
        "X_train1, X_test1, X_val1, y_train1, y_test1, y_val1 = separation_data(data_scalo)\n",
        "print(X_train1.shape)\n",
        "\n",
        "data_scalo2 = import_data(electrodes[1], racine_ondelettes, labels)\n",
        "X_train2, X_test2, X_val2, y_train2, y_test2, y_val2 = separation_data(data_scalo)\n",
        "print(X_train2.shape)\n",
        "\n",
        "data_scalo3 = import_data(electrodes[2], racine_ondelettes, labels)\n",
        "X_train3, X_test3, X_val3, y_train3, y_test3, y_val3 = separation_data(data_scalo)\n",
        "print(X_train3.shape)"
      ],
      "execution_count": 9,
      "outputs": [
        {
          "output_type": "stream",
          "text": [
            "(326, 250, 250, 3)\n",
            "(326, 250, 250, 3)\n",
            "(326, 250, 250, 3)\n"
          ],
          "name": "stdout"
        }
      ]
    },
    {
      "cell_type": "code",
      "metadata": {
        "id": "SV8NWz5JdsDD"
      },
      "source": [
        "y_train = creation_y(y_train1)\n",
        "y_test = creation_y(y_test1)\n",
        "y_val = creation_y(y_val1)"
      ],
      "execution_count": 10,
      "outputs": []
    },
    {
      "cell_type": "code",
      "metadata": {
        "colab": {
          "base_uri": "https://localhost:8080/"
        },
        "id": "QbwKPFBolNrB",
        "outputId": "7f7df64d-d986-42a2-c334-d673ad40a1a1"
      },
      "source": [
        "np.argmax(y_test, axis = 1)"
      ],
      "execution_count": 13,
      "outputs": [
        {
          "output_type": "execute_result",
          "data": {
            "text/plain": [
              "array([3, 0, 0, 1, 1, 3, 0, 1, 0, 3, 0, 0, 3, 3, 1, 2, 1, 1, 3, 1, 2, 1,\n",
              "       0, 1, 0, 1, 2, 2, 1, 3, 3, 2, 0, 2, 1, 1, 3, 0, 0, 0, 3, 1, 3, 2,\n",
              "       0, 2, 0, 2, 2, 3, 0, 3, 0, 3, 3, 0, 1, 2, 1, 0, 2, 2, 2, 3, 0, 2,\n",
              "       1, 1, 3, 3, 2, 1, 3, 1, 2, 0, 3])"
            ]
          },
          "metadata": {
            "tags": []
          },
          "execution_count": 13
        }
      ]
    },
    {
      "cell_type": "markdown",
      "metadata": {
        "id": "6N1X4HPueG4Y"
      },
      "source": [
        "#Modèle 1"
      ]
    },
    {
      "cell_type": "code",
      "metadata": {
        "id": "dd0vaSbeeDrr"
      },
      "source": [
        "def importation_entrainement() :\n",
        "  X_train = X_train1\n",
        "  y_train = y_train1\n",
        "  X_val = X_val1\n",
        "  y_val = y_val1\n",
        "  model = creation_model(np.shape(X_train))\n",
        "  model.compile(loss= \"binary_crossentropy\", optimizer=\"adam\", metrics=[\"accuracy\"])\n",
        "  epochs = 5\n",
        "  batch_size = int(len(X_train)/ 6)\n",
        "  steps = int(len(X_train) / 32)\n",
        "  history = fit_model(model, epochs, batch_size, steps, X_train, X_val, y_train, y_val)\n",
        "  return history"
      ],
      "execution_count": 40,
      "outputs": []
    },
    {
      "cell_type": "code",
      "metadata": {
        "colab": {
          "base_uri": "https://localhost:8080/"
        },
        "id": "Zht-N2Ssf_Ju",
        "outputId": "65ed1bd8-5fee-427e-e491-52d2f9fb341d"
      },
      "source": [
        "test_1 = importation_entrainement()"
      ],
      "execution_count": 9,
      "outputs": [
        {
          "output_type": "stream",
          "text": [
            "Epoch 1/5\n",
            "10/10 [==============================] - 36s 375ms/step - loss: -22.4756 - accuracy: 0.2814 - val_loss: -259.8080 - val_accuracy: 0.0000e+00\n",
            "Epoch 2/5\n",
            "10/10 [==============================] - 3s 334ms/step - loss: -382.1208 - accuracy: 0.2806 - val_loss: -2621.3516 - val_accuracy: 0.0000e+00\n",
            "Epoch 3/5\n",
            "10/10 [==============================] - 3s 331ms/step - loss: -2540.6136 - accuracy: 0.3333 - val_loss: -16547.0195 - val_accuracy: 0.0000e+00\n",
            "Epoch 4/5\n",
            "10/10 [==============================] - 3s 332ms/step - loss: -13492.1058 - accuracy: 0.3137 - val_loss: -73155.5781 - val_accuracy: 0.0000e+00\n",
            "Epoch 5/5\n",
            "10/10 [==============================] - 3s 333ms/step - loss: -51667.8136 - accuracy: 0.3078 - val_loss: -264781.2188 - val_accuracy: 0.0000e+00\n"
          ],
          "name": "stdout"
        }
      ]
    },
    {
      "cell_type": "markdown",
      "metadata": {
        "id": "GTkhPRWFgXtH"
      },
      "source": [
        "#Modele 2"
      ]
    },
    {
      "cell_type": "code",
      "metadata": {
        "colab": {
          "base_uri": "https://localhost:8080/"
        },
        "id": "gmbAosmxgZZV",
        "outputId": "f56d646a-6daf-4cc5-e3ee-67fe80d4db33"
      },
      "source": [
        "shape = np.shape(X_train1)\n",
        "\n",
        "input_1 = Input(shape=shape[1:])\n",
        "input_2 = Input(shape=shape[1:])\n",
        "input_3 = Input(shape=shape[1:])\n",
        "\n",
        "model = concatenate([input_1, input_2, input_3], axis = -1)\n",
        "\n",
        "model = Conv2D(16, (3,3)) (model)\n",
        "model = Activation(\"relu\") (model)\n",
        "model = MaxPool2D(16, (2,2)) (model)\n",
        "model = Activation('relu') (model)\n",
        "#model = Dense(16) (model)\n",
        "model = Dropout(0.2) (model)\n",
        "\n",
        "model = Conv2D(32, (3,3)) (model)\n",
        "model = Activation(\"relu\") (model)\n",
        "model = MaxPool2D(32, (2,2)) (model)\n",
        "model = Activation('relu') (model)\n",
        "#model = Dense(32) (model)\n",
        "model = Dropout(0.2) (model)\n",
        "\n",
        "model = Flatten() (model)\n",
        "model = Dense(64) (model)\n",
        "model = Activation('relu') (model)\n",
        "#model = Dropout(0.2) (model)\n",
        "model = Dense(4) (model)\n",
        "\n",
        "output = Activation('softmax') (model)\n",
        "\n",
        "model = Model([input_1, input_2, input_3], output)\n",
        "\n",
        "model.summary()"
      ],
      "execution_count": 109,
      "outputs": [
        {
          "output_type": "stream",
          "text": [
            "Model: \"model_26\"\n",
            "__________________________________________________________________________________________________\n",
            "Layer (type)                    Output Shape         Param #     Connected to                     \n",
            "==================================================================================================\n",
            "input_112 (InputLayer)          [(None, 250, 250, 3) 0                                            \n",
            "__________________________________________________________________________________________________\n",
            "input_113 (InputLayer)          [(None, 250, 250, 3) 0                                            \n",
            "__________________________________________________________________________________________________\n",
            "input_114 (InputLayer)          [(None, 250, 250, 3) 0                                            \n",
            "__________________________________________________________________________________________________\n",
            "concatenate_37 (Concatenate)    (None, 250, 250, 9)  0           input_112[0][0]                  \n",
            "                                                                 input_113[0][0]                  \n",
            "                                                                 input_114[0][0]                  \n",
            "__________________________________________________________________________________________________\n",
            "conv2d_83 (Conv2D)              (None, 248, 248, 16) 1312        concatenate_37[0][0]             \n",
            "__________________________________________________________________________________________________\n",
            "activation_207 (Activation)     (None, 248, 248, 16) 0           conv2d_83[0][0]                  \n",
            "__________________________________________________________________________________________________\n",
            "max_pooling2d_83 (MaxPooling2D) (None, 117, 117, 16) 0           activation_207[0][0]             \n",
            "__________________________________________________________________________________________________\n",
            "activation_208 (Activation)     (None, 117, 117, 16) 0           max_pooling2d_83[0][0]           \n",
            "__________________________________________________________________________________________________\n",
            "dropout_67 (Dropout)            (None, 117, 117, 16) 0           activation_208[0][0]             \n",
            "__________________________________________________________________________________________________\n",
            "conv2d_84 (Conv2D)              (None, 115, 115, 32) 4640        dropout_67[0][0]                 \n",
            "__________________________________________________________________________________________________\n",
            "activation_209 (Activation)     (None, 115, 115, 32) 0           conv2d_84[0][0]                  \n",
            "__________________________________________________________________________________________________\n",
            "max_pooling2d_84 (MaxPooling2D) (None, 42, 42, 32)   0           activation_209[0][0]             \n",
            "__________________________________________________________________________________________________\n",
            "activation_210 (Activation)     (None, 42, 42, 32)   0           max_pooling2d_84[0][0]           \n",
            "__________________________________________________________________________________________________\n",
            "dropout_68 (Dropout)            (None, 42, 42, 32)   0           activation_210[0][0]             \n",
            "__________________________________________________________________________________________________\n",
            "flatten_26 (Flatten)            (None, 56448)        0           dropout_68[0][0]                 \n",
            "__________________________________________________________________________________________________\n",
            "dense_119 (Dense)               (None, 64)           3612736     flatten_26[0][0]                 \n",
            "__________________________________________________________________________________________________\n",
            "activation_211 (Activation)     (None, 64)           0           dense_119[0][0]                  \n",
            "__________________________________________________________________________________________________\n",
            "dense_120 (Dense)               (None, 4)            260         activation_211[0][0]             \n",
            "__________________________________________________________________________________________________\n",
            "activation_212 (Activation)     (None, 4)            0           dense_120[0][0]                  \n",
            "==================================================================================================\n",
            "Total params: 3,618,948\n",
            "Trainable params: 3,618,948\n",
            "Non-trainable params: 0\n",
            "__________________________________________________________________________________________________\n"
          ],
          "name": "stdout"
        }
      ]
    },
    {
      "cell_type": "code",
      "metadata": {
        "colab": {
          "base_uri": "https://localhost:8080/"
        },
        "id": "zGCu85GdgcvR",
        "outputId": "9ebbfa78-3212-430e-e948-cab41e7e36cb"
      },
      "source": [
        "epochs = 75\n",
        "batch_size = int(len(X_train1)/ 12)\n",
        "\n",
        "datagen = ImageDataGenerator( shear_range=0.2, zoom_range=0.2, horizontal_flip=True)\n",
        "datagen.fit(X_train1)\n",
        "\n",
        "model.compile(loss= \"categorical_crossentropy\", optimizer=\"adam\", metrics=[\"accuracy\"])\n",
        "\n",
        "model.fit([X_train1,X_train2,X_train3], y_train, batch_size = 32, \n",
        "          steps_per_epoch= int(len(X_train1) / 32),\n",
        "          epochs=epochs,\n",
        "          validation_data = ([X_val1, X_val2,X_val3], y_val))"
      ],
      "execution_count": 110,
      "outputs": [
        {
          "output_type": "stream",
          "text": [
            "Epoch 1/75\n",
            "10/10 [==============================] - 2s 115ms/step - loss: 23.3381 - accuracy: 0.2382 - val_loss: 1.3845 - val_accuracy: 0.4000\n",
            "Epoch 2/75\n",
            "10/10 [==============================] - 1s 90ms/step - loss: 1.3866 - accuracy: 0.2182 - val_loss: 1.3672 - val_accuracy: 0.4000\n",
            "Epoch 3/75\n",
            "10/10 [==============================] - 1s 84ms/step - loss: 1.4270 - accuracy: 0.3170 - val_loss: 1.3833 - val_accuracy: 0.4000\n",
            "Epoch 4/75\n",
            "10/10 [==============================] - 1s 84ms/step - loss: 1.3861 - accuracy: 0.3047 - val_loss: 1.3832 - val_accuracy: 0.4000\n",
            "Epoch 5/75\n",
            "10/10 [==============================] - 1s 81ms/step - loss: 1.3865 - accuracy: 0.2342 - val_loss: 1.3834 - val_accuracy: 0.4000\n",
            "Epoch 6/75\n",
            "10/10 [==============================] - 1s 83ms/step - loss: 1.3858 - accuracy: 0.2924 - val_loss: 1.3833 - val_accuracy: 0.4000\n",
            "Epoch 7/75\n",
            "10/10 [==============================] - 1s 84ms/step - loss: 1.3860 - accuracy: 0.2807 - val_loss: 1.3834 - val_accuracy: 0.4000\n",
            "Epoch 8/75\n",
            "10/10 [==============================] - 1s 84ms/step - loss: 1.3865 - accuracy: 0.2522 - val_loss: 1.3834 - val_accuracy: 0.4000\n",
            "Epoch 9/75\n",
            "10/10 [==============================] - 1s 80ms/step - loss: 1.3868 - accuracy: 0.2333 - val_loss: 1.3831 - val_accuracy: 0.4000\n",
            "Epoch 10/75\n",
            "10/10 [==============================] - 1s 83ms/step - loss: 1.3864 - accuracy: 0.2537 - val_loss: 1.3827 - val_accuracy: 0.4000\n",
            "Epoch 11/75\n",
            "10/10 [==============================] - 1s 83ms/step - loss: 1.3861 - accuracy: 0.2588 - val_loss: 1.3820 - val_accuracy: 0.4000\n",
            "Epoch 12/75\n",
            "10/10 [==============================] - 1s 88ms/step - loss: 1.3859 - accuracy: 0.2765 - val_loss: 1.3816 - val_accuracy: 0.4000\n",
            "Epoch 13/75\n",
            "10/10 [==============================] - 1s 86ms/step - loss: 1.3843 - accuracy: 0.3304 - val_loss: 1.3809 - val_accuracy: 0.4000\n",
            "Epoch 14/75\n",
            "10/10 [==============================] - 1s 84ms/step - loss: 1.3849 - accuracy: 0.3020 - val_loss: 1.3806 - val_accuracy: 0.4000\n",
            "Epoch 15/75\n",
            "10/10 [==============================] - 1s 87ms/step - loss: 1.3865 - accuracy: 0.2460 - val_loss: 1.3811 - val_accuracy: 0.4000\n",
            "Epoch 16/75\n",
            "10/10 [==============================] - 1s 83ms/step - loss: 1.3870 - accuracy: 0.2298 - val_loss: 1.3813 - val_accuracy: 0.4000\n",
            "Epoch 17/75\n",
            "10/10 [==============================] - 1s 83ms/step - loss: 1.3864 - accuracy: 0.2512 - val_loss: 1.3810 - val_accuracy: 0.4000\n",
            "Epoch 18/75\n",
            "10/10 [==============================] - 1s 81ms/step - loss: 1.3855 - accuracy: 0.2785 - val_loss: 1.3810 - val_accuracy: 0.4000\n",
            "Epoch 19/75\n",
            "10/10 [==============================] - 1s 85ms/step - loss: 1.3919 - accuracy: 0.2836 - val_loss: 1.3813 - val_accuracy: 0.4000\n",
            "Epoch 20/75\n",
            "10/10 [==============================] - 1s 84ms/step - loss: 1.3868 - accuracy: 0.2371 - val_loss: 1.3817 - val_accuracy: 0.4000\n",
            "Epoch 21/75\n",
            "10/10 [==============================] - 1s 83ms/step - loss: 1.3846 - accuracy: 0.3034 - val_loss: 1.3817 - val_accuracy: 0.4000\n",
            "Epoch 22/75\n",
            "10/10 [==============================] - 1s 85ms/step - loss: 1.3847 - accuracy: 0.2916 - val_loss: 1.3821 - val_accuracy: 0.4000\n",
            "Epoch 23/75\n",
            "10/10 [==============================] - 1s 89ms/step - loss: 1.3853 - accuracy: 0.2719 - val_loss: 1.3817 - val_accuracy: 0.4000\n",
            "Epoch 24/75\n",
            "10/10 [==============================] - 1s 91ms/step - loss: 1.3863 - accuracy: 0.2433 - val_loss: 1.3815 - val_accuracy: 0.4000\n",
            "Epoch 25/75\n",
            "10/10 [==============================] - 1s 83ms/step - loss: 1.3871 - accuracy: 0.2454 - val_loss: 1.3815 - val_accuracy: 0.4000\n",
            "Epoch 26/75\n",
            "10/10 [==============================] - 1s 83ms/step - loss: 1.3859 - accuracy: 0.2435 - val_loss: 1.3819 - val_accuracy: 0.4000\n",
            "Epoch 27/75\n",
            "10/10 [==============================] - 1s 83ms/step - loss: 1.3856 - accuracy: 0.2690 - val_loss: 1.3815 - val_accuracy: 0.4000\n",
            "Epoch 28/75\n",
            "10/10 [==============================] - 1s 83ms/step - loss: 1.3844 - accuracy: 0.2894 - val_loss: 1.3811 - val_accuracy: 0.4000\n",
            "Epoch 29/75\n",
            "10/10 [==============================] - 1s 82ms/step - loss: 1.3876 - accuracy: 0.2244 - val_loss: 1.3808 - val_accuracy: 0.4000\n",
            "Epoch 30/75\n",
            "10/10 [==============================] - 1s 83ms/step - loss: 1.3859 - accuracy: 0.2699 - val_loss: 1.3807 - val_accuracy: 0.4000\n",
            "Epoch 31/75\n",
            "10/10 [==============================] - 1s 82ms/step - loss: 1.3869 - accuracy: 0.2379 - val_loss: 1.3810 - val_accuracy: 0.4000\n",
            "Epoch 32/75\n",
            "10/10 [==============================] - 1s 83ms/step - loss: 1.3873 - accuracy: 0.2291 - val_loss: 1.3812 - val_accuracy: 0.4000\n",
            "Epoch 33/75\n",
            "10/10 [==============================] - 1s 83ms/step - loss: 1.3842 - accuracy: 0.2884 - val_loss: 1.3809 - val_accuracy: 0.4000\n",
            "Epoch 34/75\n",
            "10/10 [==============================] - 1s 90ms/step - loss: 1.3876 - accuracy: 0.2295 - val_loss: 1.3806 - val_accuracy: 0.4000\n",
            "Epoch 35/75\n",
            "10/10 [==============================] - 1s 87ms/step - loss: 1.3850 - accuracy: 0.2743 - val_loss: 1.3805 - val_accuracy: 0.4000\n",
            "Epoch 36/75\n",
            "10/10 [==============================] - 1s 85ms/step - loss: 1.3891 - accuracy: 0.1964 - val_loss: 1.3806 - val_accuracy: 0.4000\n",
            "Epoch 37/75\n",
            "10/10 [==============================] - 1s 86ms/step - loss: 1.3819 - accuracy: 0.3497 - val_loss: 1.3799 - val_accuracy: 0.4000\n",
            "Epoch 38/75\n",
            "10/10 [==============================] - 1s 81ms/step - loss: 1.3866 - accuracy: 0.2718 - val_loss: 1.3801 - val_accuracy: 0.4000\n",
            "Epoch 39/75\n",
            "10/10 [==============================] - 1s 81ms/step - loss: 1.3841 - accuracy: 0.2805 - val_loss: 1.3806 - val_accuracy: 0.4000\n",
            "Epoch 40/75\n",
            "10/10 [==============================] - 1s 85ms/step - loss: 1.3855 - accuracy: 0.2665 - val_loss: 1.3808 - val_accuracy: 0.4000\n",
            "Epoch 41/75\n",
            "10/10 [==============================] - 1s 84ms/step - loss: 1.3870 - accuracy: 0.2358 - val_loss: 1.3808 - val_accuracy: 0.4000\n",
            "Epoch 42/75\n",
            "10/10 [==============================] - 1s 85ms/step - loss: 1.3844 - accuracy: 0.2735 - val_loss: 1.3809 - val_accuracy: 0.4000\n",
            "Epoch 43/75\n",
            "10/10 [==============================] - 1s 84ms/step - loss: 1.3870 - accuracy: 0.2472 - val_loss: 1.3810 - val_accuracy: 0.4000\n",
            "Epoch 44/75\n",
            "10/10 [==============================] - 1s 85ms/step - loss: 1.3871 - accuracy: 0.2264 - val_loss: 1.3802 - val_accuracy: 0.4000\n",
            "Epoch 45/75\n",
            "10/10 [==============================] - 1s 91ms/step - loss: 1.3861 - accuracy: 0.2539 - val_loss: 1.3803 - val_accuracy: 0.4000\n",
            "Epoch 46/75\n",
            "10/10 [==============================] - 1s 90ms/step - loss: 1.3844 - accuracy: 0.3032 - val_loss: 1.3794 - val_accuracy: 0.4000\n",
            "Epoch 47/75\n",
            "10/10 [==============================] - 1s 83ms/step - loss: 1.3837 - accuracy: 0.3019 - val_loss: 1.3798 - val_accuracy: 0.4000\n",
            "Epoch 48/75\n",
            "10/10 [==============================] - 1s 85ms/step - loss: 1.3863 - accuracy: 0.2412 - val_loss: 1.3802 - val_accuracy: 0.4000\n",
            "Epoch 49/75\n",
            "10/10 [==============================] - 1s 82ms/step - loss: 1.3855 - accuracy: 0.2627 - val_loss: 1.3806 - val_accuracy: 0.4000\n",
            "Epoch 50/75\n",
            "10/10 [==============================] - 1s 83ms/step - loss: 1.3852 - accuracy: 0.2837 - val_loss: 1.3810 - val_accuracy: 0.4000\n",
            "Epoch 51/75\n",
            "10/10 [==============================] - 1s 85ms/step - loss: 1.3866 - accuracy: 0.2438 - val_loss: 1.3818 - val_accuracy: 0.4000\n",
            "Epoch 52/75\n",
            "10/10 [==============================] - 1s 85ms/step - loss: 1.3848 - accuracy: 0.2733 - val_loss: 1.3826 - val_accuracy: 0.4000\n",
            "Epoch 53/75\n",
            "10/10 [==============================] - 1s 82ms/step - loss: 1.3868 - accuracy: 0.2393 - val_loss: 1.3829 - val_accuracy: 0.4000\n",
            "Epoch 54/75\n",
            "10/10 [==============================] - 1s 83ms/step - loss: 1.3870 - accuracy: 0.2430 - val_loss: 1.3831 - val_accuracy: 0.4000\n",
            "Epoch 55/75\n",
            "10/10 [==============================] - 1s 81ms/step - loss: 1.3851 - accuracy: 0.2743 - val_loss: 1.3826 - val_accuracy: 0.4000\n",
            "Epoch 56/75\n",
            "10/10 [==============================] - 1s 89ms/step - loss: 1.3861 - accuracy: 0.2615 - val_loss: 1.3824 - val_accuracy: 0.4000\n",
            "Epoch 57/75\n",
            "10/10 [==============================] - 1s 90ms/step - loss: 1.3884 - accuracy: 0.2093 - val_loss: 1.3828 - val_accuracy: 0.4000\n",
            "Epoch 58/75\n",
            "10/10 [==============================] - 1s 87ms/step - loss: 1.3863 - accuracy: 0.2567 - val_loss: 1.3829 - val_accuracy: 0.4000\n",
            "Epoch 59/75\n",
            "10/10 [==============================] - 1s 84ms/step - loss: 1.3848 - accuracy: 0.2658 - val_loss: 1.3828 - val_accuracy: 0.4000\n",
            "Epoch 60/75\n",
            "10/10 [==============================] - 1s 81ms/step - loss: 1.3883 - accuracy: 0.2266 - val_loss: 1.3832 - val_accuracy: 0.4000\n",
            "Epoch 61/75\n",
            "10/10 [==============================] - 1s 85ms/step - loss: 1.3849 - accuracy: 0.2958 - val_loss: 1.3835 - val_accuracy: 0.4000\n",
            "Epoch 62/75\n",
            "10/10 [==============================] - 1s 83ms/step - loss: 1.3864 - accuracy: 0.2411 - val_loss: 1.3837 - val_accuracy: 0.4000\n",
            "Epoch 63/75\n",
            "10/10 [==============================] - 1s 83ms/step - loss: 1.3870 - accuracy: 0.2716 - val_loss: 1.3834 - val_accuracy: 0.4000\n",
            "Epoch 64/75\n",
            "10/10 [==============================] - 1s 84ms/step - loss: 1.3860 - accuracy: 0.2570 - val_loss: 1.3835 - val_accuracy: 0.4000\n",
            "Epoch 65/75\n",
            "10/10 [==============================] - 1s 83ms/step - loss: 1.3869 - accuracy: 0.2391 - val_loss: 1.3836 - val_accuracy: 0.4000\n",
            "Epoch 66/75\n",
            "10/10 [==============================] - 1s 85ms/step - loss: 1.3852 - accuracy: 0.2925 - val_loss: 1.3833 - val_accuracy: 0.4000\n",
            "Epoch 67/75\n",
            "10/10 [==============================] - 1s 91ms/step - loss: 1.3858 - accuracy: 0.2771 - val_loss: 1.3828 - val_accuracy: 0.4000\n",
            "Epoch 68/75\n",
            "10/10 [==============================] - 1s 93ms/step - loss: 1.3879 - accuracy: 0.2549 - val_loss: 1.3828 - val_accuracy: 0.4000\n",
            "Epoch 69/75\n",
            "10/10 [==============================] - 1s 88ms/step - loss: 1.3834 - accuracy: 0.2773 - val_loss: 1.3825 - val_accuracy: 0.4000\n",
            "Epoch 70/75\n",
            "10/10 [==============================] - 1s 84ms/step - loss: 1.3839 - accuracy: 0.2806 - val_loss: 1.3819 - val_accuracy: 0.4000\n",
            "Epoch 71/75\n",
            "10/10 [==============================] - 1s 81ms/step - loss: 1.3842 - accuracy: 0.2883 - val_loss: 1.3817 - val_accuracy: 0.4000\n",
            "Epoch 72/75\n",
            "10/10 [==============================] - 1s 82ms/step - loss: 1.3876 - accuracy: 0.2436 - val_loss: 1.3818 - val_accuracy: 0.4000\n",
            "Epoch 73/75\n",
            "10/10 [==============================] - 1s 86ms/step - loss: 1.3838 - accuracy: 0.2675 - val_loss: 1.3816 - val_accuracy: 0.4000\n",
            "Epoch 74/75\n",
            "10/10 [==============================] - 1s 85ms/step - loss: 1.3884 - accuracy: 0.2210 - val_loss: 1.3816 - val_accuracy: 0.4000\n",
            "Epoch 75/75\n",
            "10/10 [==============================] - 1s 84ms/step - loss: 1.3868 - accuracy: 0.2558 - val_loss: 1.3817 - val_accuracy: 0.4000\n"
          ],
          "name": "stdout"
        },
        {
          "output_type": "execute_result",
          "data": {
            "text/plain": [
              "<tensorflow.python.keras.callbacks.History at 0x7f619a7b25d0>"
            ]
          },
          "metadata": {
            "tags": []
          },
          "execution_count": 110
        }
      ]
    },
    {
      "cell_type": "code",
      "metadata": {
        "colab": {
          "base_uri": "https://localhost:8080/"
        },
        "id": "ES_p7jo2hP7m",
        "outputId": "847f7a3f-84d6-4e63-d11d-0e30a9bc847d"
      },
      "source": [
        "y_pred = model.predict([X_test1,X_test2,X_test3])"
      ],
      "execution_count": 111,
      "outputs": [
        {
          "output_type": "stream",
          "text": [
            "WARNING:tensorflow:5 out of the last 13 calls to <function Model.make_predict_function.<locals>.predict_function at 0x7f619248c950> triggered tf.function retracing. Tracing is expensive and the excessive number of tracings could be due to (1) creating @tf.function repeatedly in a loop, (2) passing tensors with different shapes, (3) passing Python objects instead of tensors. For (1), please define your @tf.function outside of the loop. For (2), @tf.function has experimental_relax_shapes=True option that relaxes argument shapes that can avoid unnecessary retracing. For (3), please refer to https://www.tensorflow.org/guide/function#controlling_retracing and https://www.tensorflow.org/api_docs/python/tf/function for  more details.\n"
          ],
          "name": "stdout"
        }
      ]
    },
    {
      "cell_type": "code",
      "metadata": {
        "colab": {
          "base_uri": "https://localhost:8080/"
        },
        "id": "NMrlOZCpjNjd",
        "outputId": "dbde6bc8-940c-49d3-8682-7195756695fb"
      },
      "source": [
        "np.argmax(y_pred, axis = 1)"
      ],
      "execution_count": 112,
      "outputs": [
        {
          "output_type": "execute_result",
          "data": {
            "text/plain": [
              "array([2, 2, 2, 2, 2, 2, 2, 2, 2, 2, 2, 2, 2, 2, 2, 2, 2, 2, 2, 2, 2, 2,\n",
              "       2, 2, 2, 2, 2, 2, 2, 2, 2, 2, 2, 2, 2, 2, 2, 2, 2, 2, 2, 2, 2, 2,\n",
              "       2, 2, 2, 2, 2, 2, 2, 2, 2, 2, 2, 2, 2, 2, 2, 2, 2, 2, 2, 2, 2, 2,\n",
              "       2, 2, 2, 2, 2, 2, 2, 2, 2, 2, 2])"
            ]
          },
          "metadata": {
            "tags": []
          },
          "execution_count": 112
        }
      ]
    },
    {
      "cell_type": "code",
      "metadata": {
        "colab": {
          "base_uri": "https://localhost:8080/"
        },
        "id": "MSiHRzeMjcOO",
        "outputId": "83322685-c8af-4225-aff7-3f17cd24255b"
      },
      "source": [
        "np.argmax(y_test, axis = 1)"
      ],
      "execution_count": 113,
      "outputs": [
        {
          "output_type": "execute_result",
          "data": {
            "text/plain": [
              "array([3, 0, 0, 1, 1, 3, 0, 1, 0, 3, 0, 0, 3, 3, 1, 2, 1, 1, 3, 1, 2, 1,\n",
              "       0, 1, 0, 1, 2, 2, 1, 3, 3, 2, 0, 2, 1, 1, 3, 0, 0, 0, 3, 1, 3, 2,\n",
              "       0, 2, 0, 2, 2, 3, 0, 3, 0, 3, 3, 0, 1, 2, 1, 0, 2, 2, 2, 3, 0, 2,\n",
              "       1, 1, 3, 3, 2, 1, 3, 1, 2, 0, 3])"
            ]
          },
          "metadata": {
            "tags": []
          },
          "execution_count": 113
        }
      ]
    },
    {
      "cell_type": "code",
      "metadata": {
        "id": "UrxGcG3Tnrxz"
      },
      "source": [
        "res = np.argmax(y_pred, axis = 1) -np.argmax(y_test, axis = 1)"
      ],
      "execution_count": 114,
      "outputs": []
    },
    {
      "cell_type": "code",
      "metadata": {
        "colab": {
          "base_uri": "https://localhost:8080/"
        },
        "id": "EbZ_29Ffn0DN",
        "outputId": "967c7a6d-441e-48e3-cc82-a310ff17d582"
      },
      "source": [
        "(res == 0).sum()/len(res)"
      ],
      "execution_count": 115,
      "outputs": [
        {
          "output_type": "execute_result",
          "data": {
            "text/plain": [
              "0.22077922077922077"
            ]
          },
          "metadata": {
            "tags": []
          },
          "execution_count": 115
        }
      ]
    },
    {
      "cell_type": "markdown",
      "metadata": {
        "id": "iapn24iZvveL"
      },
      "source": [
        "#Modele 3"
      ]
    },
    {
      "cell_type": "code",
      "metadata": {
        "colab": {
          "base_uri": "https://localhost:8080/",
          "height": 322
        },
        "id": "IfBcPhN5t6iE",
        "outputId": "8e566571-04a6-4a53-bd34-9b059e0196d3"
      },
      "source": [
        "shape = (250,250,3)\n",
        "\n",
        "input_1 = Input(shape=shape[1:])\n",
        "input_2 = Input(shape=shape[1:])\n",
        "input_3 = Input(shape=shape[1:])\n",
        "input_4 = Input(shape=shape[1:])\n",
        "input_5 = Input(shape=shape[1:])\n",
        "input_6 = Input(shape=shape[1:])\n",
        "\n",
        "#modele 1\n",
        "model_1 = Sequential()\n",
        "model_1.add(Conv2D(32, (3,3), input_dim = shape))\n",
        "model_1.add(Activation(\"relu\"))\n",
        "model_1.add(MaxPool2D(32, (2,2)))\n",
        "model_1.add(Activation('relu'))\n",
        "model_1.add(Dense(32))\n",
        "model_1.add(Dropout(0.2))\n",
        "\n",
        "model_1.add(Conv2D(64, (3,3)))\n",
        "model_1.add(Activation(\"relu\"))\n",
        "model_1.add(MaxPool2D(64, (2,2)))\n",
        "model_1.add(Activation('relu'))\n",
        "model_1.add(Dense(64))\n",
        "model_1.add(Dropout(0.25))\n",
        "\n",
        "model_1.add(Flatten())\n",
        "model_1.add(Dense(64))\n",
        "model_1.add(Activation('relu'))\n",
        "model_1.add(Dropout(0.5))\n",
        "model_1.add(Dense(4))\n",
        "model_1.add(Activation('softmax'))\n",
        "\n",
        "#modele2\n",
        "model_2 = Sequential()\n",
        "model_2.add(Conv2D(32, (3,3), input_dim = shape))\n",
        "model_2.add(Activation(\"relu\"))\n",
        "model_2.add(MaxPool2D(32, (2,2)))\n",
        "model_2.add(Activation('relu'))\n",
        "model_2.add(Dense(32))\n",
        "model_2.add(Dropout(0.2))\n",
        "\n",
        "model_2.add(Conv2D(64, (3,3)))\n",
        "model_2.add(Activation(\"relu\"))\n",
        "model_2.add(MaxPool2D(64, (2,2)))\n",
        "model_2.add(Activation('relu'))\n",
        "model_2.add(Dense(64))\n",
        "model_2.add(Dropout(0.25))\n",
        "\n",
        "model_2.add(Flatten())\n",
        "model_2.add(Dense(64))\n",
        "model_2.add(Activation('relu'))\n",
        "model_2.add(Dropout(0.5))\n",
        "model_2.add(Dense(4))\n",
        "model_2.add(Activation('softmax'))\n",
        "\n",
        "#modele3\n",
        "model_3 = Sequential()\n",
        "model_3.add(Conv2D(32, (3,3), input_dim = shape))\n",
        "model_3.add(Activation(\"relu\"))\n",
        "model_3.add(MaxPool2D(32, (2,2)))\n",
        "model_3.add(Activation('relu'))\n",
        "model_3.add(Dense(32))\n",
        "model_3.add(Dropout(0.2))\n",
        "\n",
        "model_3.add(Conv2D(64, (3,3)))\n",
        "model_3.add(Activation(\"relu\"))\n",
        "model_3.add(MaxPool2D(64, (2,2)))\n",
        "model_3.add(Activation('relu'))\n",
        "model_3.add(Dense(64))\n",
        "model_3.add(Dropout(0.25))\n",
        "\n",
        "model_3.add(Flatten())\n",
        "model_3.add(Dense(64))\n",
        "model_3.add(Activation('relu'))\n",
        "model_3.add(Dropout(0.5))\n",
        "model_3.add(Dense(4))\n",
        "model_3.add(Activation('softmax'))"
      ],
      "execution_count": 125,
      "outputs": [
        {
          "output_type": "error",
          "ename": "TypeError",
          "evalue": "ignored",
          "traceback": [
            "\u001b[0;31m---------------------------------------------------------------------------\u001b[0m",
            "\u001b[0;31mTypeError\u001b[0m                                 Traceback (most recent call last)",
            "\u001b[0;32m<ipython-input-125-945aabce8e06>\u001b[0m in \u001b[0;36m<module>\u001b[0;34m()\u001b[0m\n\u001b[1;32m     10\u001b[0m \u001b[0;31m#modele 1\u001b[0m\u001b[0;34m\u001b[0m\u001b[0;34m\u001b[0m\u001b[0;34m\u001b[0m\u001b[0m\n\u001b[1;32m     11\u001b[0m \u001b[0mmodel_1\u001b[0m \u001b[0;34m=\u001b[0m \u001b[0mSequential\u001b[0m\u001b[0;34m(\u001b[0m\u001b[0;34m)\u001b[0m\u001b[0;34m\u001b[0m\u001b[0;34m\u001b[0m\u001b[0m\n\u001b[0;32m---> 12\u001b[0;31m \u001b[0mmodel_1\u001b[0m\u001b[0;34m.\u001b[0m\u001b[0madd\u001b[0m\u001b[0;34m(\u001b[0m\u001b[0mConv2D\u001b[0m\u001b[0;34m(\u001b[0m\u001b[0;36m32\u001b[0m\u001b[0;34m,\u001b[0m \u001b[0;34m(\u001b[0m\u001b[0;36m3\u001b[0m\u001b[0;34m,\u001b[0m\u001b[0;36m3\u001b[0m\u001b[0;34m)\u001b[0m\u001b[0;34m,\u001b[0m \u001b[0minput_dim\u001b[0m \u001b[0;34m=\u001b[0m \u001b[0mshape\u001b[0m\u001b[0;34m)\u001b[0m\u001b[0;34m)\u001b[0m\u001b[0;34m\u001b[0m\u001b[0;34m\u001b[0m\u001b[0m\n\u001b[0m\u001b[1;32m     13\u001b[0m \u001b[0mmodel_1\u001b[0m\u001b[0;34m.\u001b[0m\u001b[0madd\u001b[0m\u001b[0;34m(\u001b[0m\u001b[0mActivation\u001b[0m\u001b[0;34m(\u001b[0m\u001b[0;34m\"relu\"\u001b[0m\u001b[0;34m)\u001b[0m\u001b[0;34m)\u001b[0m\u001b[0;34m\u001b[0m\u001b[0;34m\u001b[0m\u001b[0m\n\u001b[1;32m     14\u001b[0m \u001b[0mmodel_1\u001b[0m\u001b[0;34m.\u001b[0m\u001b[0madd\u001b[0m\u001b[0;34m(\u001b[0m\u001b[0mMaxPool2D\u001b[0m\u001b[0;34m(\u001b[0m\u001b[0;36m32\u001b[0m\u001b[0;34m,\u001b[0m \u001b[0;34m(\u001b[0m\u001b[0;36m2\u001b[0m\u001b[0;34m,\u001b[0m\u001b[0;36m2\u001b[0m\u001b[0;34m)\u001b[0m\u001b[0;34m)\u001b[0m\u001b[0;34m)\u001b[0m\u001b[0;34m\u001b[0m\u001b[0;34m\u001b[0m\u001b[0m\n",
            "\u001b[0;32m/usr/local/lib/python3.7/dist-packages/tensorflow/python/training/tracking/base.py\u001b[0m in \u001b[0;36m_method_wrapper\u001b[0;34m(self, *args, **kwargs)\u001b[0m\n\u001b[1;32m    515\u001b[0m     \u001b[0mself\u001b[0m\u001b[0;34m.\u001b[0m\u001b[0m_self_setattr_tracking\u001b[0m \u001b[0;34m=\u001b[0m \u001b[0;32mFalse\u001b[0m  \u001b[0;31m# pylint: disable=protected-access\u001b[0m\u001b[0;34m\u001b[0m\u001b[0;34m\u001b[0m\u001b[0m\n\u001b[1;32m    516\u001b[0m     \u001b[0;32mtry\u001b[0m\u001b[0;34m:\u001b[0m\u001b[0;34m\u001b[0m\u001b[0;34m\u001b[0m\u001b[0m\n\u001b[0;32m--> 517\u001b[0;31m       \u001b[0mresult\u001b[0m \u001b[0;34m=\u001b[0m \u001b[0mmethod\u001b[0m\u001b[0;34m(\u001b[0m\u001b[0mself\u001b[0m\u001b[0;34m,\u001b[0m \u001b[0;34m*\u001b[0m\u001b[0margs\u001b[0m\u001b[0;34m,\u001b[0m \u001b[0;34m**\u001b[0m\u001b[0mkwargs\u001b[0m\u001b[0;34m)\u001b[0m\u001b[0;34m\u001b[0m\u001b[0;34m\u001b[0m\u001b[0m\n\u001b[0m\u001b[1;32m    518\u001b[0m     \u001b[0;32mfinally\u001b[0m\u001b[0;34m:\u001b[0m\u001b[0;34m\u001b[0m\u001b[0;34m\u001b[0m\u001b[0m\n\u001b[1;32m    519\u001b[0m       \u001b[0mself\u001b[0m\u001b[0;34m.\u001b[0m\u001b[0m_self_setattr_tracking\u001b[0m \u001b[0;34m=\u001b[0m \u001b[0mprevious_value\u001b[0m  \u001b[0;31m# pylint: disable=protected-access\u001b[0m\u001b[0;34m\u001b[0m\u001b[0;34m\u001b[0m\u001b[0m\n",
            "\u001b[0;32m/usr/local/lib/python3.7/dist-packages/tensorflow/python/keras/engine/sequential.py\u001b[0m in \u001b[0;36madd\u001b[0;34m(self, layer)\u001b[0m\n\u001b[1;32m    202\u001b[0m           \u001b[0;31m# Instantiate an input layer.\u001b[0m\u001b[0;34m\u001b[0m\u001b[0;34m\u001b[0m\u001b[0;34m\u001b[0m\u001b[0m\n\u001b[1;32m    203\u001b[0m           x = input_layer.Input(\n\u001b[0;32m--> 204\u001b[0;31m               batch_shape=batch_shape, dtype=dtype, name=layer.name + '_input')\n\u001b[0m\u001b[1;32m    205\u001b[0m           \u001b[0;31m# This will build the current layer\u001b[0m\u001b[0;34m\u001b[0m\u001b[0;34m\u001b[0m\u001b[0;34m\u001b[0m\u001b[0m\n\u001b[1;32m    206\u001b[0m           \u001b[0;31m# and create the node connecting the current layer\u001b[0m\u001b[0;34m\u001b[0m\u001b[0;34m\u001b[0m\u001b[0;34m\u001b[0m\u001b[0m\n",
            "\u001b[0;32m/usr/local/lib/python3.7/dist-packages/tensorflow/python/keras/engine/input_layer.py\u001b[0m in \u001b[0;36mInput\u001b[0;34m(shape, batch_size, name, dtype, sparse, tensor, ragged, **kwargs)\u001b[0m\n\u001b[1;32m    307\u001b[0m     input_layer_config.update(\n\u001b[1;32m    308\u001b[0m         {'batch_size': batch_size, 'input_shape': shape})\n\u001b[0;32m--> 309\u001b[0;31m   \u001b[0minput_layer\u001b[0m \u001b[0;34m=\u001b[0m \u001b[0mInputLayer\u001b[0m\u001b[0;34m(\u001b[0m\u001b[0;34m**\u001b[0m\u001b[0minput_layer_config\u001b[0m\u001b[0;34m)\u001b[0m\u001b[0;34m\u001b[0m\u001b[0;34m\u001b[0m\u001b[0m\n\u001b[0m\u001b[1;32m    310\u001b[0m \u001b[0;34m\u001b[0m\u001b[0m\n\u001b[1;32m    311\u001b[0m   \u001b[0;31m# Return tensor including `_keras_history`.\u001b[0m\u001b[0;34m\u001b[0m\u001b[0;34m\u001b[0m\u001b[0;34m\u001b[0m\u001b[0m\n",
            "\u001b[0;32m/usr/local/lib/python3.7/dist-packages/tensorflow/python/keras/engine/input_layer.py\u001b[0m in \u001b[0;36m__init__\u001b[0;34m(self, input_shape, batch_size, dtype, input_tensor, sparse, name, ragged, **kwargs)\u001b[0m\n\u001b[1;32m    158\u001b[0m             \u001b[0mname\u001b[0m\u001b[0;34m=\u001b[0m\u001b[0mself\u001b[0m\u001b[0;34m.\u001b[0m\u001b[0mname\u001b[0m\u001b[0;34m,\u001b[0m\u001b[0;34m\u001b[0m\u001b[0;34m\u001b[0m\u001b[0m\n\u001b[1;32m    159\u001b[0m             \u001b[0msparse\u001b[0m\u001b[0;34m=\u001b[0m\u001b[0msparse\u001b[0m\u001b[0;34m,\u001b[0m\u001b[0;34m\u001b[0m\u001b[0;34m\u001b[0m\u001b[0m\n\u001b[0;32m--> 160\u001b[0;31m             ragged=ragged)\n\u001b[0m\u001b[1;32m    161\u001b[0m \u001b[0;34m\u001b[0m\u001b[0m\n\u001b[1;32m    162\u001b[0m       \u001b[0mself\u001b[0m\u001b[0;34m.\u001b[0m\u001b[0mis_placeholder\u001b[0m \u001b[0;34m=\u001b[0m \u001b[0;32mTrue\u001b[0m\u001b[0;34m\u001b[0m\u001b[0;34m\u001b[0m\u001b[0m\n",
            "\u001b[0;32m/usr/local/lib/python3.7/dist-packages/tensorflow/python/keras/backend.py\u001b[0m in \u001b[0;36mplaceholder\u001b[0;34m(shape, ndim, dtype, sparse, name, ragged)\u001b[0m\n\u001b[1;32m   1245\u001b[0m     \u001b[0;32melse\u001b[0m\u001b[0;34m:\u001b[0m\u001b[0;34m\u001b[0m\u001b[0;34m\u001b[0m\u001b[0m\n\u001b[1;32m   1246\u001b[0m       spec = tensor_spec.TensorSpec(\n\u001b[0;32m-> 1247\u001b[0;31m           shape=shape, dtype=dtype, name=name)\n\u001b[0m\u001b[1;32m   1248\u001b[0m       \u001b[0mx\u001b[0m \u001b[0;34m=\u001b[0m \u001b[0mkeras_tensor\u001b[0m\u001b[0;34m.\u001b[0m\u001b[0mKerasTensor\u001b[0m\u001b[0;34m(\u001b[0m\u001b[0mspec\u001b[0m\u001b[0;34m,\u001b[0m \u001b[0mname\u001b[0m\u001b[0;34m=\u001b[0m\u001b[0mname\u001b[0m\u001b[0;34m)\u001b[0m\u001b[0;34m\u001b[0m\u001b[0;34m\u001b[0m\u001b[0m\n\u001b[1;32m   1249\u001b[0m   \u001b[0;32melse\u001b[0m\u001b[0;34m:\u001b[0m\u001b[0;34m\u001b[0m\u001b[0;34m\u001b[0m\u001b[0m\n",
            "\u001b[0;32m/usr/local/lib/python3.7/dist-packages/tensorflow/python/framework/tensor_spec.py\u001b[0m in \u001b[0;36m__init__\u001b[0;34m(self, shape, dtype, name)\u001b[0m\n\u001b[1;32m     49\u001b[0m         \u001b[0;32mnot\u001b[0m \u001b[0mconvertible\u001b[0m \u001b[0mto\u001b[0m \u001b[0ma\u001b[0m\u001b[0;31m \u001b[0m\u001b[0;31m`\u001b[0m\u001b[0mtf\u001b[0m\u001b[0;34m.\u001b[0m\u001b[0mDType\u001b[0m\u001b[0;31m`\u001b[0m\u001b[0;34m.\u001b[0m\u001b[0;34m\u001b[0m\u001b[0;34m\u001b[0m\u001b[0m\n\u001b[1;32m     50\u001b[0m     \"\"\"\n\u001b[0;32m---> 51\u001b[0;31m     \u001b[0mself\u001b[0m\u001b[0;34m.\u001b[0m\u001b[0m_shape\u001b[0m \u001b[0;34m=\u001b[0m \u001b[0mtensor_shape\u001b[0m\u001b[0;34m.\u001b[0m\u001b[0mTensorShape\u001b[0m\u001b[0;34m(\u001b[0m\u001b[0mshape\u001b[0m\u001b[0;34m)\u001b[0m\u001b[0;34m\u001b[0m\u001b[0;34m\u001b[0m\u001b[0m\n\u001b[0m\u001b[1;32m     52\u001b[0m     \u001b[0;32mtry\u001b[0m\u001b[0;34m:\u001b[0m\u001b[0;34m\u001b[0m\u001b[0;34m\u001b[0m\u001b[0m\n\u001b[1;32m     53\u001b[0m       \u001b[0mself\u001b[0m\u001b[0;34m.\u001b[0m\u001b[0m_shape_tuple\u001b[0m \u001b[0;34m=\u001b[0m \u001b[0mtuple\u001b[0m\u001b[0;34m(\u001b[0m\u001b[0mself\u001b[0m\u001b[0;34m.\u001b[0m\u001b[0mshape\u001b[0m\u001b[0;34m.\u001b[0m\u001b[0mas_list\u001b[0m\u001b[0;34m(\u001b[0m\u001b[0;34m)\u001b[0m\u001b[0;34m)\u001b[0m\u001b[0;34m\u001b[0m\u001b[0;34m\u001b[0m\u001b[0m\n",
            "\u001b[0;32m/usr/local/lib/python3.7/dist-packages/tensorflow/python/framework/tensor_shape.py\u001b[0m in \u001b[0;36m__init__\u001b[0;34m(self, dims)\u001b[0m\n\u001b[1;32m    756\u001b[0m     \"\"\"\n\u001b[1;32m    757\u001b[0m     \u001b[0;32mif\u001b[0m \u001b[0misinstance\u001b[0m\u001b[0;34m(\u001b[0m\u001b[0mdims\u001b[0m\u001b[0;34m,\u001b[0m \u001b[0;34m(\u001b[0m\u001b[0mtuple\u001b[0m\u001b[0;34m,\u001b[0m \u001b[0mlist\u001b[0m\u001b[0;34m)\u001b[0m\u001b[0;34m)\u001b[0m\u001b[0;34m:\u001b[0m  \u001b[0;31m# Most common case.\u001b[0m\u001b[0;34m\u001b[0m\u001b[0;34m\u001b[0m\u001b[0m\n\u001b[0;32m--> 758\u001b[0;31m       \u001b[0mself\u001b[0m\u001b[0;34m.\u001b[0m\u001b[0m_dims\u001b[0m \u001b[0;34m=\u001b[0m \u001b[0;34m[\u001b[0m\u001b[0mDimension\u001b[0m\u001b[0;34m(\u001b[0m\u001b[0md\u001b[0m\u001b[0;34m)\u001b[0m \u001b[0;32mfor\u001b[0m \u001b[0md\u001b[0m \u001b[0;32min\u001b[0m \u001b[0mdims\u001b[0m\u001b[0;34m]\u001b[0m\u001b[0;34m\u001b[0m\u001b[0;34m\u001b[0m\u001b[0m\n\u001b[0m\u001b[1;32m    759\u001b[0m     \u001b[0;32melif\u001b[0m \u001b[0mdims\u001b[0m \u001b[0;32mis\u001b[0m \u001b[0;32mNone\u001b[0m\u001b[0;34m:\u001b[0m\u001b[0;34m\u001b[0m\u001b[0;34m\u001b[0m\u001b[0m\n\u001b[1;32m    760\u001b[0m       \u001b[0mself\u001b[0m\u001b[0;34m.\u001b[0m\u001b[0m_dims\u001b[0m \u001b[0;34m=\u001b[0m \u001b[0;32mNone\u001b[0m\u001b[0;34m\u001b[0m\u001b[0;34m\u001b[0m\u001b[0m\n",
            "\u001b[0;32m/usr/local/lib/python3.7/dist-packages/tensorflow/python/framework/tensor_shape.py\u001b[0m in \u001b[0;36m<listcomp>\u001b[0;34m(.0)\u001b[0m\n\u001b[1;32m    756\u001b[0m     \"\"\"\n\u001b[1;32m    757\u001b[0m     \u001b[0;32mif\u001b[0m \u001b[0misinstance\u001b[0m\u001b[0;34m(\u001b[0m\u001b[0mdims\u001b[0m\u001b[0;34m,\u001b[0m \u001b[0;34m(\u001b[0m\u001b[0mtuple\u001b[0m\u001b[0;34m,\u001b[0m \u001b[0mlist\u001b[0m\u001b[0;34m)\u001b[0m\u001b[0;34m)\u001b[0m\u001b[0;34m:\u001b[0m  \u001b[0;31m# Most common case.\u001b[0m\u001b[0;34m\u001b[0m\u001b[0;34m\u001b[0m\u001b[0m\n\u001b[0;32m--> 758\u001b[0;31m       \u001b[0mself\u001b[0m\u001b[0;34m.\u001b[0m\u001b[0m_dims\u001b[0m \u001b[0;34m=\u001b[0m \u001b[0;34m[\u001b[0m\u001b[0mDimension\u001b[0m\u001b[0;34m(\u001b[0m\u001b[0md\u001b[0m\u001b[0;34m)\u001b[0m \u001b[0;32mfor\u001b[0m \u001b[0md\u001b[0m \u001b[0;32min\u001b[0m \u001b[0mdims\u001b[0m\u001b[0;34m]\u001b[0m\u001b[0;34m\u001b[0m\u001b[0;34m\u001b[0m\u001b[0m\n\u001b[0m\u001b[1;32m    759\u001b[0m     \u001b[0;32melif\u001b[0m \u001b[0mdims\u001b[0m \u001b[0;32mis\u001b[0m \u001b[0;32mNone\u001b[0m\u001b[0;34m:\u001b[0m\u001b[0;34m\u001b[0m\u001b[0;34m\u001b[0m\u001b[0m\n\u001b[1;32m    760\u001b[0m       \u001b[0mself\u001b[0m\u001b[0;34m.\u001b[0m\u001b[0m_dims\u001b[0m \u001b[0;34m=\u001b[0m \u001b[0;32mNone\u001b[0m\u001b[0;34m\u001b[0m\u001b[0;34m\u001b[0m\u001b[0m\n",
            "\u001b[0;32m/usr/local/lib/python3.7/dist-packages/tensorflow/python/framework/tensor_shape.py\u001b[0m in \u001b[0;36m__init__\u001b[0;34m(self, value)\u001b[0m\n\u001b[1;32m    204\u001b[0m             TypeError(\"Dimension value must be integer or None or have \"\n\u001b[1;32m    205\u001b[0m                       \u001b[0;34m\"an __index__ method, got value '{0!r}' with type '{1!r}'\"\u001b[0m\u001b[0;34m\u001b[0m\u001b[0;34m\u001b[0m\u001b[0m\n\u001b[0;32m--> 206\u001b[0;31m                       .format(value, type(value))), None)\n\u001b[0m\u001b[1;32m    207\u001b[0m       \u001b[0;32mif\u001b[0m \u001b[0mself\u001b[0m\u001b[0;34m.\u001b[0m\u001b[0m_value\u001b[0m \u001b[0;34m<\u001b[0m \u001b[0;36m0\u001b[0m\u001b[0;34m:\u001b[0m\u001b[0;34m\u001b[0m\u001b[0;34m\u001b[0m\u001b[0m\n\u001b[1;32m    208\u001b[0m         \u001b[0;32mraise\u001b[0m \u001b[0mValueError\u001b[0m\u001b[0;34m(\u001b[0m\u001b[0;34m\"Dimension %d must be >= 0\"\u001b[0m \u001b[0;34m%\u001b[0m \u001b[0mself\u001b[0m\u001b[0;34m.\u001b[0m\u001b[0m_value\u001b[0m\u001b[0;34m)\u001b[0m\u001b[0;34m\u001b[0m\u001b[0;34m\u001b[0m\u001b[0m\n",
            "\u001b[0;32m/usr/local/lib/python3.7/dist-packages/six.py\u001b[0m in \u001b[0;36mraise_from\u001b[0;34m(value, from_value)\u001b[0m\n",
            "\u001b[0;31mTypeError\u001b[0m: Dimension value must be integer or None or have an __index__ method, got value '(250, 250, 3)' with type '<class 'tuple'>'"
          ]
        }
      ]
    },
    {
      "cell_type": "code",
      "metadata": {
        "colab": {
          "base_uri": "https://localhost:8080/",
          "height": 469
        },
        "id": "ZcP9AbBLv3_7",
        "outputId": "fdc828a3-d6f2-4fa1-de20-bcc9c379725a"
      },
      "source": [
        "epochs = 50\n",
        "batch_size = int(len(X_train1)/ 12)\n",
        "\n",
        "datagen = ImageDataGenerator( shear_range=0.2, zoom_range=0.2, horizontal_flip=True)\n",
        "datagen.fit(X_train1)\n",
        "\n",
        "model_1.compile(loss= \"categorical_crossentropy\", optimizer=\"adam\", metrics=[\"accuracy\"])\n",
        "\n",
        "model_1.fit(datagen.flow([X_train1, X_train2], y_train, batch_size = 32), \n",
        "          steps_per_epoch= int(len(X_train1) / 32),\n",
        "          epochs=epochs,\n",
        "          validation_data = ([X_val1, X_val2], y_val))"
      ],
      "execution_count": 117,
      "outputs": [
        {
          "output_type": "stream",
          "text": [
            "Epoch 1/50\n",
            "10/10 [==============================] - 5s 425ms/step - loss: 6.0567 - accuracy: 0.1760 - val_loss: 7.4473 - val_accuracy: 0.2000\n",
            "Epoch 2/50\n",
            " 2/10 [=====>........................] - ETA: 3s - loss: 1.5866 - accuracy: 0.2734"
          ],
          "name": "stdout"
        },
        {
          "output_type": "error",
          "ename": "KeyboardInterrupt",
          "evalue": "ignored",
          "traceback": [
            "\u001b[0;31m---------------------------------------------------------------------------\u001b[0m",
            "\u001b[0;31mKeyboardInterrupt\u001b[0m                         Traceback (most recent call last)",
            "\u001b[0;32m<ipython-input-117-bf2c08fc7bce>\u001b[0m in \u001b[0;36m<module>\u001b[0;34m()\u001b[0m\n\u001b[1;32m     10\u001b[0m           \u001b[0msteps_per_epoch\u001b[0m\u001b[0;34m=\u001b[0m \u001b[0mint\u001b[0m\u001b[0;34m(\u001b[0m\u001b[0mlen\u001b[0m\u001b[0;34m(\u001b[0m\u001b[0mX_train1\u001b[0m\u001b[0;34m)\u001b[0m \u001b[0;34m/\u001b[0m \u001b[0;36m32\u001b[0m\u001b[0;34m)\u001b[0m\u001b[0;34m,\u001b[0m\u001b[0;34m\u001b[0m\u001b[0;34m\u001b[0m\u001b[0m\n\u001b[1;32m     11\u001b[0m           \u001b[0mepochs\u001b[0m\u001b[0;34m=\u001b[0m\u001b[0mepochs\u001b[0m\u001b[0;34m,\u001b[0m\u001b[0;34m\u001b[0m\u001b[0;34m\u001b[0m\u001b[0m\n\u001b[0;32m---> 12\u001b[0;31m           validation_data = ([X_val1, X_val2], y_val))\n\u001b[0m",
            "\u001b[0;32m/usr/local/lib/python3.7/dist-packages/tensorflow/python/keras/engine/training.py\u001b[0m in \u001b[0;36mfit\u001b[0;34m(self, x, y, batch_size, epochs, verbose, callbacks, validation_split, validation_data, shuffle, class_weight, sample_weight, initial_epoch, steps_per_epoch, validation_steps, validation_batch_size, validation_freq, max_queue_size, workers, use_multiprocessing)\u001b[0m\n\u001b[1;32m   1098\u001b[0m                 _r=1):\n\u001b[1;32m   1099\u001b[0m               \u001b[0mcallbacks\u001b[0m\u001b[0;34m.\u001b[0m\u001b[0mon_train_batch_begin\u001b[0m\u001b[0;34m(\u001b[0m\u001b[0mstep\u001b[0m\u001b[0;34m)\u001b[0m\u001b[0;34m\u001b[0m\u001b[0;34m\u001b[0m\u001b[0m\n\u001b[0;32m-> 1100\u001b[0;31m               \u001b[0mtmp_logs\u001b[0m \u001b[0;34m=\u001b[0m \u001b[0mself\u001b[0m\u001b[0;34m.\u001b[0m\u001b[0mtrain_function\u001b[0m\u001b[0;34m(\u001b[0m\u001b[0miterator\u001b[0m\u001b[0;34m)\u001b[0m\u001b[0;34m\u001b[0m\u001b[0;34m\u001b[0m\u001b[0m\n\u001b[0m\u001b[1;32m   1101\u001b[0m               \u001b[0;32mif\u001b[0m \u001b[0mdata_handler\u001b[0m\u001b[0;34m.\u001b[0m\u001b[0mshould_sync\u001b[0m\u001b[0;34m:\u001b[0m\u001b[0;34m\u001b[0m\u001b[0;34m\u001b[0m\u001b[0m\n\u001b[1;32m   1102\u001b[0m                 \u001b[0mcontext\u001b[0m\u001b[0;34m.\u001b[0m\u001b[0masync_wait\u001b[0m\u001b[0;34m(\u001b[0m\u001b[0;34m)\u001b[0m\u001b[0;34m\u001b[0m\u001b[0;34m\u001b[0m\u001b[0m\n",
            "\u001b[0;32m/usr/local/lib/python3.7/dist-packages/tensorflow/python/eager/def_function.py\u001b[0m in \u001b[0;36m__call__\u001b[0;34m(self, *args, **kwds)\u001b[0m\n\u001b[1;32m    826\u001b[0m     \u001b[0mtracing_count\u001b[0m \u001b[0;34m=\u001b[0m \u001b[0mself\u001b[0m\u001b[0;34m.\u001b[0m\u001b[0mexperimental_get_tracing_count\u001b[0m\u001b[0;34m(\u001b[0m\u001b[0;34m)\u001b[0m\u001b[0;34m\u001b[0m\u001b[0;34m\u001b[0m\u001b[0m\n\u001b[1;32m    827\u001b[0m     \u001b[0;32mwith\u001b[0m \u001b[0mtrace\u001b[0m\u001b[0;34m.\u001b[0m\u001b[0mTrace\u001b[0m\u001b[0;34m(\u001b[0m\u001b[0mself\u001b[0m\u001b[0;34m.\u001b[0m\u001b[0m_name\u001b[0m\u001b[0;34m)\u001b[0m \u001b[0;32mas\u001b[0m \u001b[0mtm\u001b[0m\u001b[0;34m:\u001b[0m\u001b[0;34m\u001b[0m\u001b[0;34m\u001b[0m\u001b[0m\n\u001b[0;32m--> 828\u001b[0;31m       \u001b[0mresult\u001b[0m \u001b[0;34m=\u001b[0m \u001b[0mself\u001b[0m\u001b[0;34m.\u001b[0m\u001b[0m_call\u001b[0m\u001b[0;34m(\u001b[0m\u001b[0;34m*\u001b[0m\u001b[0margs\u001b[0m\u001b[0;34m,\u001b[0m \u001b[0;34m**\u001b[0m\u001b[0mkwds\u001b[0m\u001b[0;34m)\u001b[0m\u001b[0;34m\u001b[0m\u001b[0;34m\u001b[0m\u001b[0m\n\u001b[0m\u001b[1;32m    829\u001b[0m       \u001b[0mcompiler\u001b[0m \u001b[0;34m=\u001b[0m \u001b[0;34m\"xla\"\u001b[0m \u001b[0;32mif\u001b[0m \u001b[0mself\u001b[0m\u001b[0;34m.\u001b[0m\u001b[0m_experimental_compile\u001b[0m \u001b[0;32melse\u001b[0m \u001b[0;34m\"nonXla\"\u001b[0m\u001b[0;34m\u001b[0m\u001b[0;34m\u001b[0m\u001b[0m\n\u001b[1;32m    830\u001b[0m       \u001b[0mnew_tracing_count\u001b[0m \u001b[0;34m=\u001b[0m \u001b[0mself\u001b[0m\u001b[0;34m.\u001b[0m\u001b[0mexperimental_get_tracing_count\u001b[0m\u001b[0;34m(\u001b[0m\u001b[0;34m)\u001b[0m\u001b[0;34m\u001b[0m\u001b[0;34m\u001b[0m\u001b[0m\n",
            "\u001b[0;32m/usr/local/lib/python3.7/dist-packages/tensorflow/python/eager/def_function.py\u001b[0m in \u001b[0;36m_call\u001b[0;34m(self, *args, **kwds)\u001b[0m\n\u001b[1;32m    853\u001b[0m       \u001b[0;31m# In this case we have created variables on the first call, so we run the\u001b[0m\u001b[0;34m\u001b[0m\u001b[0;34m\u001b[0m\u001b[0;34m\u001b[0m\u001b[0m\n\u001b[1;32m    854\u001b[0m       \u001b[0;31m# defunned version which is guaranteed to never create variables.\u001b[0m\u001b[0;34m\u001b[0m\u001b[0;34m\u001b[0m\u001b[0;34m\u001b[0m\u001b[0m\n\u001b[0;32m--> 855\u001b[0;31m       \u001b[0;32mreturn\u001b[0m \u001b[0mself\u001b[0m\u001b[0;34m.\u001b[0m\u001b[0m_stateless_fn\u001b[0m\u001b[0;34m(\u001b[0m\u001b[0;34m*\u001b[0m\u001b[0margs\u001b[0m\u001b[0;34m,\u001b[0m \u001b[0;34m**\u001b[0m\u001b[0mkwds\u001b[0m\u001b[0;34m)\u001b[0m  \u001b[0;31m# pylint: disable=not-callable\u001b[0m\u001b[0;34m\u001b[0m\u001b[0;34m\u001b[0m\u001b[0m\n\u001b[0m\u001b[1;32m    856\u001b[0m     \u001b[0;32melif\u001b[0m \u001b[0mself\u001b[0m\u001b[0;34m.\u001b[0m\u001b[0m_stateful_fn\u001b[0m \u001b[0;32mis\u001b[0m \u001b[0;32mnot\u001b[0m \u001b[0;32mNone\u001b[0m\u001b[0;34m:\u001b[0m\u001b[0;34m\u001b[0m\u001b[0;34m\u001b[0m\u001b[0m\n\u001b[1;32m    857\u001b[0m       \u001b[0;31m# Release the lock early so that multiple threads can perform the call\u001b[0m\u001b[0;34m\u001b[0m\u001b[0;34m\u001b[0m\u001b[0;34m\u001b[0m\u001b[0m\n",
            "\u001b[0;32m/usr/local/lib/python3.7/dist-packages/tensorflow/python/eager/function.py\u001b[0m in \u001b[0;36m__call__\u001b[0;34m(self, *args, **kwargs)\u001b[0m\n\u001b[1;32m   2941\u001b[0m        filtered_flat_args) = self._maybe_define_function(args, kwargs)\n\u001b[1;32m   2942\u001b[0m     return graph_function._call_flat(\n\u001b[0;32m-> 2943\u001b[0;31m         filtered_flat_args, captured_inputs=graph_function.captured_inputs)  # pylint: disable=protected-access\n\u001b[0m\u001b[1;32m   2944\u001b[0m \u001b[0;34m\u001b[0m\u001b[0m\n\u001b[1;32m   2945\u001b[0m   \u001b[0;34m@\u001b[0m\u001b[0mproperty\u001b[0m\u001b[0;34m\u001b[0m\u001b[0;34m\u001b[0m\u001b[0m\n",
            "\u001b[0;32m/usr/local/lib/python3.7/dist-packages/tensorflow/python/eager/function.py\u001b[0m in \u001b[0;36m_call_flat\u001b[0;34m(self, args, captured_inputs, cancellation_manager)\u001b[0m\n\u001b[1;32m   1917\u001b[0m       \u001b[0;31m# No tape is watching; skip to running the function.\u001b[0m\u001b[0;34m\u001b[0m\u001b[0;34m\u001b[0m\u001b[0;34m\u001b[0m\u001b[0m\n\u001b[1;32m   1918\u001b[0m       return self._build_call_outputs(self._inference_function.call(\n\u001b[0;32m-> 1919\u001b[0;31m           ctx, args, cancellation_manager=cancellation_manager))\n\u001b[0m\u001b[1;32m   1920\u001b[0m     forward_backward = self._select_forward_and_backward_functions(\n\u001b[1;32m   1921\u001b[0m         \u001b[0margs\u001b[0m\u001b[0;34m,\u001b[0m\u001b[0;34m\u001b[0m\u001b[0;34m\u001b[0m\u001b[0m\n",
            "\u001b[0;32m/usr/local/lib/python3.7/dist-packages/tensorflow/python/eager/function.py\u001b[0m in \u001b[0;36mcall\u001b[0;34m(self, ctx, args, cancellation_manager)\u001b[0m\n\u001b[1;32m    558\u001b[0m               \u001b[0minputs\u001b[0m\u001b[0;34m=\u001b[0m\u001b[0margs\u001b[0m\u001b[0;34m,\u001b[0m\u001b[0;34m\u001b[0m\u001b[0;34m\u001b[0m\u001b[0m\n\u001b[1;32m    559\u001b[0m               \u001b[0mattrs\u001b[0m\u001b[0;34m=\u001b[0m\u001b[0mattrs\u001b[0m\u001b[0;34m,\u001b[0m\u001b[0;34m\u001b[0m\u001b[0;34m\u001b[0m\u001b[0m\n\u001b[0;32m--> 560\u001b[0;31m               ctx=ctx)\n\u001b[0m\u001b[1;32m    561\u001b[0m         \u001b[0;32melse\u001b[0m\u001b[0;34m:\u001b[0m\u001b[0;34m\u001b[0m\u001b[0;34m\u001b[0m\u001b[0m\n\u001b[1;32m    562\u001b[0m           outputs = execute.execute_with_cancellation(\n",
            "\u001b[0;32m/usr/local/lib/python3.7/dist-packages/tensorflow/python/eager/execute.py\u001b[0m in \u001b[0;36mquick_execute\u001b[0;34m(op_name, num_outputs, inputs, attrs, ctx, name)\u001b[0m\n\u001b[1;32m     58\u001b[0m     \u001b[0mctx\u001b[0m\u001b[0;34m.\u001b[0m\u001b[0mensure_initialized\u001b[0m\u001b[0;34m(\u001b[0m\u001b[0;34m)\u001b[0m\u001b[0;34m\u001b[0m\u001b[0;34m\u001b[0m\u001b[0m\n\u001b[1;32m     59\u001b[0m     tensors = pywrap_tfe.TFE_Py_Execute(ctx._handle, device_name, op_name,\n\u001b[0;32m---> 60\u001b[0;31m                                         inputs, attrs, num_outputs)\n\u001b[0m\u001b[1;32m     61\u001b[0m   \u001b[0;32mexcept\u001b[0m \u001b[0mcore\u001b[0m\u001b[0;34m.\u001b[0m\u001b[0m_NotOkStatusException\u001b[0m \u001b[0;32mas\u001b[0m \u001b[0me\u001b[0m\u001b[0;34m:\u001b[0m\u001b[0;34m\u001b[0m\u001b[0;34m\u001b[0m\u001b[0m\n\u001b[1;32m     62\u001b[0m     \u001b[0;32mif\u001b[0m \u001b[0mname\u001b[0m \u001b[0;32mis\u001b[0m \u001b[0;32mnot\u001b[0m \u001b[0;32mNone\u001b[0m\u001b[0;34m:\u001b[0m\u001b[0;34m\u001b[0m\u001b[0;34m\u001b[0m\u001b[0m\n",
            "\u001b[0;31mKeyboardInterrupt\u001b[0m: "
          ]
        }
      ]
    },
    {
      "cell_type": "code",
      "metadata": {
        "id": "GzIZWpcdv65-"
      },
      "source": [
        ""
      ],
      "execution_count": null,
      "outputs": []
    }
  ]
}